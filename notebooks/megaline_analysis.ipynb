{
 "cells": [
  {
   "cell_type": "markdown",
   "metadata": {
    "id": "btM5MQwjcDqm"
   },
   "source": [
    "# 1. ¿Cuál es la mejor tarifa?"
   ]
  },
  {
   "cell_type": "markdown",
   "metadata": {
    "id": "3rYiDeEH0q0f"
   },
   "source": [
    "Trabajas como analista para el operador de telecomunicaciones Megaline. La empresa ofrece a sus clientes dos tarifas de prepago, Surf y Ultimate. El departamento comercial quiere saber cuál de las tarifas genera más ingresos para poder ajustar el presupuesto de publicidad.\n",
    "\n",
    "Vas a realizar un análisis preliminar de las tarifas basado en una selección de clientes relativamente pequeña. Tendrás los datos de 500 clientes de Megaline: quiénes son los clientes, de dónde son, qué tarifa usan, así como la cantidad de llamadas que hicieron y los mensajes de texto que enviaron en 2018. Tu trabajo es analizar el comportamiento de los clientes y determinar qué tarifa de prepago genera más ingresos."
   ]
  },
  {
   "cell_type": "markdown",
   "metadata": {
    "id": "VNddPNRQ0q0w"
   },
   "source": [
    "---\n",
    "En este proyecto analizaré el comportamiento de 500 clientes de Megaline durante 2018. El objetivo es determinar cuál de los dos planes de prepago disponibles, **Surf** o **Ultimate**, genera mayores ingresos promedio para la empresa.\n",
    "\n",
    "Para lograr esto:\n",
    "- Realizaré un análisis exploratorio de los datos provistos sobre llamadas, mensajes, uso de internet y planes contratados.\n",
    "- Procesaré los datos para convertir tipos y eliminar errores.\n",
    "- Calcularé el uso mensual por cliente (minutos, SMS, datos) y los ingresos mensuales considerando los cargos por excedentes.\n",
    "- Describiré estadísticamente el comportamiento de los usuarios según su plan.\n",
    "- Traeré visualizaciones para entender las distribuciones de uso.\n",
    "- Probaré hipótesis para determinar si los ingresos promedio difieren significativamente entre planes y regiones.\n",
    "\n",
    "Al final, presentaré conclusiones claras para apoyar decisiones comerciales sobre el presupuesto de publicidad y la promoción de tarifas."
   ]
  },
  {
   "cell_type": "markdown",
   "metadata": {
    "id": "MQi4IPy70q0y"
   },
   "source": [
    "# 2. Inicialización"
   ]
  },
  {
   "cell_type": "code",
   "execution_count": 1,
   "metadata": {
    "executionInfo": {
     "elapsed": 711,
     "status": "ok",
     "timestamp": 1750970902996,
     "user": {
      "displayName": "Carlos Jiménez",
      "userId": "16016936490932337538"
     },
     "user_tz": 360
    },
    "id": "MtYIuBxu0q0z"
   },
   "outputs": [],
   "source": [
    "# Importación de librerías para el proyecto\n",
    "\n",
    "# Librería \"pandas\" para manipulación y análisis de datos\n",
    "import pandas as pd\n",
    "\n",
    "# Librería \"numpy\" para operaciones numéricas y matemáticas\n",
    "import numpy as np\n",
    "\n",
    "# Módulo \"pyplot\" de \"matplotlib\" para crear visualizaciones\n",
    "import matplotlib.pyplot as plt"
   ]
  },
  {
   "cell_type": "markdown",
   "metadata": {
    "id": "4ysWWC5i0q00"
   },
   "source": [
    "## 2.1. Cargar datos"
   ]
  },
  {
   "cell_type": "markdown",
   "metadata": {
    "id": "DC_WlGQkVLbG"
   },
   "source": [
    "En esta sección se cargan los archivos de datos proporcionados por la empresa ***Megaline***, correspondientes a los registros de *min de llamadas*, *mensajes*, *uso de internet*, *planes* y *usuarios*.  \n",
    "Cada archivo se almacena en un `DataFrame` independiente para su análisis posterior. A continuación se describen las columnas presentes en cada uno:\n",
    "\n",
    "**Tabla: Usuarios (`users`)**\n",
    "- `user_id`: Identificador único del usuario.\n",
    "- `first_name`: Nombre del usuario.\n",
    "- `last_name`: Apellido del usuario.\n",
    "- `age`: Edad del usuario.\n",
    "- `reg_date`: Fecha de registro del usuario.\n",
    "- `churn_date`: Fecha de baja del servicio (si aplica).\n",
    "- `city`: Ciudad de residencia del usuario.\n",
    "- `plan`: Nombre de la tarifa contratada.\n",
    "\n",
    "**Tabla: Planes (`plans`)**\n",
    "- `plan_name`: Nombre de la tarifa contratada.\n",
    "- `usd_monthly_fee`: Cuota mensual en dólares estadounidenses.\n",
    "- `minutes_included`: Minutos incluidos al mes.\n",
    "- `messages_included`: SMS incluidos al mes.\n",
    "- `mb_per_month_included`: Datos incluidos al mes (en megabytes).\n",
    "- `usd_per_minute`: Costo por minuto adicional.\n",
    "- `usd_per_message`: Costo por SMS adicional.\n",
    "- `usd_per_gb`: Costo por gigabyte adicional (1 GB = 1024 MB).\n",
    "\n",
    "**Tabla: Llamadas (`calls`)**\n",
    "- `id`: Identificador único de la llamada.\n",
    "- `call_date`: Fecha de la llamada.\n",
    "- `duration`: Duración de la llamada en minutos.\n",
    "- `user_id`: Identificador del usuario que realizó la llamada.\n",
    "\n",
    "**Tabla: Mensajes (`messages`)**\n",
    "- `id`: Identificador único del mensaje de texto.\n",
    "- `message_date`: Fecha del mensaje.\n",
    "- `user_id`: Identificador del usuario que envió el mensaje.\n",
    "\n",
    "**Tabla: Internet (`internet`)**\n",
    "- `id`: Identificador único de la sesión web.\n",
    "- `mb_used`: Volumen de datos utilizados durante la sesión (en megabytes).\n",
    "- `session_date`: Fecha de la sesión web.\n",
    "- `user_id`: Identificador del usuario que realizó la sesión.\n",
    "\n",
    "Esta carga de datos es la base para todo el análisis posterior, asegurando que los datos estén correctamente leídos y estructurados.\n"
   ]
  },
  {
   "cell_type": "code",
   "execution_count": 2,
   "metadata": {
    "executionInfo": {
     "elapsed": 1106,
     "status": "ok",
     "timestamp": 1750970904098,
     "user": {
      "displayName": "Carlos Jiménez",
      "userId": "16016936490932337538"
     },
     "user_tz": 360
    },
    "id": "CCqPW7rS0q01"
   },
   "outputs": [],
   "source": [
    "# Carga de DataFrames del proyecto\n",
    "\n",
    "# Dataframe \"Usuarios\"\n",
    "users = pd.read_csv('../data/megaline_users.csv')\n",
    "\n",
    "# Dataframe \"Planes\"\n",
    "plans = pd.read_csv('../data/megaline_plans.csv')\n",
    "\n",
    "# Dataframe \"Llamadas\"\n",
    "calls = pd.read_csv('../data/megaline_calls.csv')\n",
    "\n",
    "# Dataframe \"Mensajes\"\n",
    "messages = pd.read_csv('../data/megaline_messages.csv')\n",
    "\n",
    "# Dataframe \"Internet\"\n",
    "internet = pd.read_csv('../data/megaline_internet.csv')\n"
   ]
  },
  {
   "cell_type": "markdown",
   "metadata": {
    "id": "69qqoJ3r0q01"
   },
   "source": [
    "# 3. Preparar los datos"
   ]
  },
  {
   "cell_type": "markdown",
   "metadata": {
    "id": "vUuZw80S0q01"
   },
   "source": [
    "En esta sección del proyecto se realizará una exploración inicial de cada uno de los conjuntos de datos disponibles: `calls`, `internet`, `messages`, `plans` y `users`.  \n",
    "El objetivo es:\n",
    "- Comprender la estructura y el contenido de cada tabla.\n",
    "- Verificar los tipos de datos de las columnas y detectar si es necesario realizar conversiones (por ejemplo, fechas).\n",
    "- Identificar la existencia de valores ausentes, nulos o atípicos que requieran corrección o análisis adicional.\n",
    "- Obtener una primera visión de la calidad de los datos y posibles problemas que deban ser resueltos antes del análisis estadístico.\n",
    "\n",
    "Para cada tabla:\n",
    "- Se imprimirá información general con `info()`, `shape` y `head()`.\n",
    "- Se documentarán las observaciones encontradas y las acciones necesarias.\n"
   ]
  },
  {
   "cell_type": "markdown",
   "metadata": {
    "id": "ohBhimvH0q01"
   },
   "source": [
    "## 3.1. Tarifas"
   ]
  },
  {
   "cell_type": "code",
   "execution_count": 3,
   "metadata": {
    "colab": {
     "base_uri": "https://localhost:8080/"
    },
    "executionInfo": {
     "elapsed": 62,
     "status": "ok",
     "timestamp": 1750970904189,
     "user": {
      "displayName": "Carlos Jiménez",
      "userId": "16016936490932337538"
     },
     "user_tz": 360
    },
    "id": "GptqP3Q40q02",
    "outputId": "5d87197e-8a8b-467f-ede1-8bbad3ee5138"
   },
   "outputs": [
    {
     "name": "stdout",
     "output_type": "stream",
     "text": [
      "INFORMACION DE TABLA DE PLANES\n",
      "\n",
      "<class 'pandas.core.frame.DataFrame'>\n",
      "RangeIndex: 2 entries, 0 to 1\n",
      "Data columns (total 8 columns):\n",
      " #   Column                 Non-Null Count  Dtype  \n",
      "---  ------                 --------------  -----  \n",
      " 0   messages_included      2 non-null      int64  \n",
      " 1   mb_per_month_included  2 non-null      int64  \n",
      " 2   minutes_included       2 non-null      int64  \n",
      " 3   usd_monthly_pay        2 non-null      int64  \n",
      " 4   usd_per_gb             2 non-null      int64  \n",
      " 5   usd_per_message        2 non-null      float64\n",
      " 6   usd_per_minute         2 non-null      float64\n",
      " 7   plan_name              2 non-null      object \n",
      "dtypes: float64(2), int64(5), object(1)\n",
      "memory usage: 260.0+ bytes\n",
      "\n",
      "Registros totales: 2\n",
      "Columnas totales: 8\n"
     ]
    }
   ],
   "source": [
    "# Imprime la información general/resumida sobre el DataFrame de las tarifas\n",
    "print('INFORMACION DE TABLA DE PLANES\\n')\n",
    "plans.info()\n",
    "print()\n",
    "print(f'Registros totales: {plans.shape[0]}')\n",
    "print(f'Columnas totales: {plans.shape[1]}')\n"
   ]
  },
  {
   "cell_type": "code",
   "execution_count": 4,
   "metadata": {
    "colab": {
     "base_uri": "https://localhost:8080/",
     "height": 129
    },
    "executionInfo": {
     "elapsed": 115,
     "status": "ok",
     "timestamp": 1750970904306,
     "user": {
      "displayName": "Carlos Jiménez",
      "userId": "16016936490932337538"
     },
     "user_tz": 360
    },
    "id": "64xzjwL70q02",
    "outputId": "ad51f5d4-7173-4cda-9c8a-ef3ebc5aa1cb"
   },
   "outputs": [
    {
     "name": "stdout",
     "output_type": "stream",
     "text": [
      "TABLA DE PLANES\n"
     ]
    },
    {
     "data": {
      "text/html": [
       "<div>\n",
       "<style scoped>\n",
       "    .dataframe tbody tr th:only-of-type {\n",
       "        vertical-align: middle;\n",
       "    }\n",
       "\n",
       "    .dataframe tbody tr th {\n",
       "        vertical-align: top;\n",
       "    }\n",
       "\n",
       "    .dataframe thead th {\n",
       "        text-align: right;\n",
       "    }\n",
       "</style>\n",
       "<table border=\"1\" class=\"dataframe\">\n",
       "  <thead>\n",
       "    <tr style=\"text-align: right;\">\n",
       "      <th></th>\n",
       "      <th>messages_included</th>\n",
       "      <th>mb_per_month_included</th>\n",
       "      <th>minutes_included</th>\n",
       "      <th>usd_monthly_pay</th>\n",
       "      <th>usd_per_gb</th>\n",
       "      <th>usd_per_message</th>\n",
       "      <th>usd_per_minute</th>\n",
       "      <th>plan_name</th>\n",
       "    </tr>\n",
       "  </thead>\n",
       "  <tbody>\n",
       "    <tr>\n",
       "      <th>0</th>\n",
       "      <td>50</td>\n",
       "      <td>15360</td>\n",
       "      <td>500</td>\n",
       "      <td>20</td>\n",
       "      <td>10</td>\n",
       "      <td>0.03</td>\n",
       "      <td>0.03</td>\n",
       "      <td>surf</td>\n",
       "    </tr>\n",
       "    <tr>\n",
       "      <th>1</th>\n",
       "      <td>1000</td>\n",
       "      <td>30720</td>\n",
       "      <td>3000</td>\n",
       "      <td>70</td>\n",
       "      <td>7</td>\n",
       "      <td>0.01</td>\n",
       "      <td>0.01</td>\n",
       "      <td>ultimate</td>\n",
       "    </tr>\n",
       "  </tbody>\n",
       "</table>\n",
       "</div>"
      ],
      "text/plain": [
       "   messages_included  mb_per_month_included  minutes_included  \\\n",
       "0                 50                  15360               500   \n",
       "1               1000                  30720              3000   \n",
       "\n",
       "   usd_monthly_pay  usd_per_gb  usd_per_message  usd_per_minute plan_name  \n",
       "0               20          10             0.03            0.03      surf  \n",
       "1               70           7             0.01            0.01  ultimate  "
      ]
     },
     "metadata": {},
     "output_type": "display_data"
    }
   ],
   "source": [
    "# Imprime una muestra de los datos para las tarifas\n",
    "print('TABLA DE PLANES')\n",
    "display(plans.head())\n"
   ]
  },
  {
   "cell_type": "markdown",
   "metadata": {
    "id": "mEc_3_hs0q02"
   },
   "source": [
    "Al explorar la tabla de tarifas (`plans`) se observa lo siguiente:\n",
    "- La tabla contiene 2 registros, correspondientes a los planes **Surf** y **Ultimate**.\n",
    "- No existen valores ausentes en ninguna columna.\n",
    "- Los tipos de datos son apropiados: los campos numéricos están en formato `int64` o `float64` y el nombre del plan en `object`.\n",
    "- Los datos reflejan correctamente los valores de las tarifas según lo indicado en la descripción del proyecto (cuotas, minutos, SMS y datos incluidos, y los costos por excedentes).\n",
    "\n",
    "No se requieren modificaciones ni limpieza en esta tabla. Los datos están completos y bien formateados para el análisis.\n"
   ]
  },
  {
   "cell_type": "markdown",
   "metadata": {
    "collapsed": false,
    "id": "R3C05i1l0q03",
    "jupyter": {
     "outputs_hidden": false
    }
   },
   "source": [
    "### 3.1.1. Corregir datos"
   ]
  },
  {
   "cell_type": "markdown",
   "metadata": {
    "id": "bIi8StZI0q03"
   },
   "source": [
    "Vamos a crear la columna `gb_per_month_included`, que indicará los **gigabytes** incluidos en el plan, este valor será calculado de la columna `mb_per_month_included`, que indica los **megabytes** incluidos en el plan, esto ya que trabajaremos con el valor de **gigabytes** más adelante.\n"
   ]
  },
  {
   "cell_type": "code",
   "execution_count": 5,
   "metadata": {
    "colab": {
     "base_uri": "https://localhost:8080/",
     "height": 459
    },
    "executionInfo": {
     "elapsed": 76,
     "status": "ok",
     "timestamp": 1750970904386,
     "user": {
      "displayName": "Carlos Jiménez",
      "userId": "16016936490932337538"
     },
     "user_tz": 360
    },
    "id": "Y7SVmjGn0q03",
    "outputId": "8ae6e9ae-e5d3-4c22-bbe4-0cf4d2d865b9"
   },
   "outputs": [
    {
     "name": "stdout",
     "output_type": "stream",
     "text": [
      "SE AGREGO LA COLUMNA gb_per_month_included A LA TABLA plans\n",
      "\n",
      "<class 'pandas.core.frame.DataFrame'>\n",
      "RangeIndex: 2 entries, 0 to 1\n",
      "Data columns (total 9 columns):\n",
      " #   Column                 Non-Null Count  Dtype  \n",
      "---  ------                 --------------  -----  \n",
      " 0   messages_included      2 non-null      int64  \n",
      " 1   mb_per_month_included  2 non-null      int64  \n",
      " 2   minutes_included       2 non-null      int64  \n",
      " 3   usd_monthly_pay        2 non-null      int64  \n",
      " 4   usd_per_gb             2 non-null      int64  \n",
      " 5   usd_per_message        2 non-null      float64\n",
      " 6   usd_per_minute         2 non-null      float64\n",
      " 7   plan_name              2 non-null      object \n",
      " 8   gb_per_month_included  2 non-null      int64  \n",
      "dtypes: float64(2), int64(6), object(1)\n",
      "memory usage: 276.0+ bytes\n",
      "\n",
      "TABLA DE PLANES\n"
     ]
    },
    {
     "data": {
      "text/html": [
       "<div>\n",
       "<style scoped>\n",
       "    .dataframe tbody tr th:only-of-type {\n",
       "        vertical-align: middle;\n",
       "    }\n",
       "\n",
       "    .dataframe tbody tr th {\n",
       "        vertical-align: top;\n",
       "    }\n",
       "\n",
       "    .dataframe thead th {\n",
       "        text-align: right;\n",
       "    }\n",
       "</style>\n",
       "<table border=\"1\" class=\"dataframe\">\n",
       "  <thead>\n",
       "    <tr style=\"text-align: right;\">\n",
       "      <th></th>\n",
       "      <th>messages_included</th>\n",
       "      <th>mb_per_month_included</th>\n",
       "      <th>minutes_included</th>\n",
       "      <th>usd_monthly_pay</th>\n",
       "      <th>usd_per_gb</th>\n",
       "      <th>usd_per_message</th>\n",
       "      <th>usd_per_minute</th>\n",
       "      <th>plan_name</th>\n",
       "      <th>gb_per_month_included</th>\n",
       "    </tr>\n",
       "  </thead>\n",
       "  <tbody>\n",
       "    <tr>\n",
       "      <th>0</th>\n",
       "      <td>50</td>\n",
       "      <td>15360</td>\n",
       "      <td>500</td>\n",
       "      <td>20</td>\n",
       "      <td>10</td>\n",
       "      <td>0.03</td>\n",
       "      <td>0.03</td>\n",
       "      <td>surf</td>\n",
       "      <td>15</td>\n",
       "    </tr>\n",
       "    <tr>\n",
       "      <th>1</th>\n",
       "      <td>1000</td>\n",
       "      <td>30720</td>\n",
       "      <td>3000</td>\n",
       "      <td>70</td>\n",
       "      <td>7</td>\n",
       "      <td>0.01</td>\n",
       "      <td>0.01</td>\n",
       "      <td>ultimate</td>\n",
       "      <td>30</td>\n",
       "    </tr>\n",
       "  </tbody>\n",
       "</table>\n",
       "</div>"
      ],
      "text/plain": [
       "   messages_included  mb_per_month_included  minutes_included  \\\n",
       "0                 50                  15360               500   \n",
       "1               1000                  30720              3000   \n",
       "\n",
       "   usd_monthly_pay  usd_per_gb  usd_per_message  usd_per_minute plan_name  \\\n",
       "0               20          10             0.03            0.03      surf   \n",
       "1               70           7             0.01            0.01  ultimate   \n",
       "\n",
       "   gb_per_month_included  \n",
       "0                     15  \n",
       "1                     30  "
      ]
     },
     "metadata": {},
     "output_type": "display_data"
    }
   ],
   "source": [
    "# Convertimos MB incluidos en el plan a GB y redondeamos hacia arriba\n",
    "plans['gb_per_month_included'] = np.ceil(plans['mb_per_month_included'] / 1024).astype(int)\n",
    "\n",
    "print('SE AGREGO LA COLUMNA gb_per_month_included A LA TABLA plans\\n')\n",
    "plans.info()\n",
    "print('\\nTABLA DE PLANES')\n",
    "display(plans.head())"
   ]
  },
  {
   "cell_type": "markdown",
   "metadata": {
    "id": "eCebiY5awlC9"
   },
   "source": [
    "Se incluyó la columna `gb_per_month_included`, queda confirmada la anexión de esta columna a la tabla."
   ]
  },
  {
   "cell_type": "markdown",
   "metadata": {
    "id": "LJir7bml0q03"
   },
   "source": [
    "### 3.1.2. Enriquecer los datos"
   ]
  },
  {
   "cell_type": "markdown",
   "metadata": {
    "id": "eqADpCfg0q04"
   },
   "source": [
    "En esta etapa no es necesario agregar factores adicionales a los datos de la tabla `plans`.  \n",
    "La información provista es suficiente y completa para los cálculos y análisis requeridos en el proyecto.\n"
   ]
  },
  {
   "cell_type": "code",
   "execution_count": null,
   "metadata": {
    "executionInfo": {
     "elapsed": 4,
     "status": "ok",
     "timestamp": 1750970904395,
     "user": {
      "displayName": "Carlos Jiménez",
      "userId": "16016936490932337538"
     },
     "user_tz": 360
    },
    "id": "gfcIEuXV0q04"
   },
   "outputs": [],
   "source": []
  },
  {
   "cell_type": "markdown",
   "metadata": {
    "id": "1n2X6WXf0q04"
   },
   "source": [
    "## 3.2. Usuarios/as"
   ]
  },
  {
   "cell_type": "code",
   "execution_count": 6,
   "metadata": {
    "colab": {
     "base_uri": "https://localhost:8080/"
    },
    "executionInfo": {
     "elapsed": 38,
     "status": "ok",
     "timestamp": 1750970904439,
     "user": {
      "displayName": "Carlos Jiménez",
      "userId": "16016936490932337538"
     },
     "user_tz": 360
    },
    "id": "2NgjWFqx0q05",
    "outputId": "ac91a0fa-c928-49ba-965b-475bc3dc809b"
   },
   "outputs": [
    {
     "name": "stdout",
     "output_type": "stream",
     "text": [
      "INFORMACION DE TABLA DE USUARIOS\n",
      "\n",
      "<class 'pandas.core.frame.DataFrame'>\n",
      "RangeIndex: 500 entries, 0 to 499\n",
      "Data columns (total 8 columns):\n",
      " #   Column      Non-Null Count  Dtype \n",
      "---  ------      --------------  ----- \n",
      " 0   user_id     500 non-null    int64 \n",
      " 1   first_name  500 non-null    object\n",
      " 2   last_name   500 non-null    object\n",
      " 3   age         500 non-null    int64 \n",
      " 4   city        500 non-null    object\n",
      " 5   reg_date    500 non-null    object\n",
      " 6   plan        500 non-null    object\n",
      " 7   churn_date  34 non-null     object\n",
      "dtypes: int64(2), object(6)\n",
      "memory usage: 31.4+ KB\n",
      "\n",
      "Registros totales: 500\n",
      "Columnas totales: 8\n"
     ]
    }
   ],
   "source": [
    "# Imprime la información general/resumida sobre el DataFrame de usuarios\n",
    "print('INFORMACION DE TABLA DE USUARIOS\\n')\n",
    "users.info()\n",
    "print()\n",
    "print(f'Registros totales: {users.shape[0]}')\n",
    "print(f'Columnas totales: {users.shape[1]}')\n"
   ]
  },
  {
   "cell_type": "code",
   "execution_count": 7,
   "metadata": {
    "colab": {
     "base_uri": "https://localhost:8080/",
     "height": 224
    },
    "executionInfo": {
     "elapsed": 108,
     "status": "ok",
     "timestamp": 1750970904550,
     "user": {
      "displayName": "Carlos Jiménez",
      "userId": "16016936490932337538"
     },
     "user_tz": 360
    },
    "id": "1IN1L9uh0q05",
    "outputId": "6db3b0f7-6bf3-4900-e2a8-bcab925b96c1"
   },
   "outputs": [
    {
     "name": "stdout",
     "output_type": "stream",
     "text": [
      "TABLA DE USUARIOS\n"
     ]
    },
    {
     "data": {
      "text/html": [
       "<div>\n",
       "<style scoped>\n",
       "    .dataframe tbody tr th:only-of-type {\n",
       "        vertical-align: middle;\n",
       "    }\n",
       "\n",
       "    .dataframe tbody tr th {\n",
       "        vertical-align: top;\n",
       "    }\n",
       "\n",
       "    .dataframe thead th {\n",
       "        text-align: right;\n",
       "    }\n",
       "</style>\n",
       "<table border=\"1\" class=\"dataframe\">\n",
       "  <thead>\n",
       "    <tr style=\"text-align: right;\">\n",
       "      <th></th>\n",
       "      <th>user_id</th>\n",
       "      <th>first_name</th>\n",
       "      <th>last_name</th>\n",
       "      <th>age</th>\n",
       "      <th>city</th>\n",
       "      <th>reg_date</th>\n",
       "      <th>plan</th>\n",
       "      <th>churn_date</th>\n",
       "    </tr>\n",
       "  </thead>\n",
       "  <tbody>\n",
       "    <tr>\n",
       "      <th>0</th>\n",
       "      <td>1000</td>\n",
       "      <td>Anamaria</td>\n",
       "      <td>Bauer</td>\n",
       "      <td>45</td>\n",
       "      <td>Atlanta-Sandy Springs-Roswell, GA MSA</td>\n",
       "      <td>2018-12-24</td>\n",
       "      <td>ultimate</td>\n",
       "      <td>NaN</td>\n",
       "    </tr>\n",
       "    <tr>\n",
       "      <th>1</th>\n",
       "      <td>1001</td>\n",
       "      <td>Mickey</td>\n",
       "      <td>Wilkerson</td>\n",
       "      <td>28</td>\n",
       "      <td>Seattle-Tacoma-Bellevue, WA MSA</td>\n",
       "      <td>2018-08-13</td>\n",
       "      <td>surf</td>\n",
       "      <td>NaN</td>\n",
       "    </tr>\n",
       "    <tr>\n",
       "      <th>2</th>\n",
       "      <td>1002</td>\n",
       "      <td>Carlee</td>\n",
       "      <td>Hoffman</td>\n",
       "      <td>36</td>\n",
       "      <td>Las Vegas-Henderson-Paradise, NV MSA</td>\n",
       "      <td>2018-10-21</td>\n",
       "      <td>surf</td>\n",
       "      <td>NaN</td>\n",
       "    </tr>\n",
       "    <tr>\n",
       "      <th>3</th>\n",
       "      <td>1003</td>\n",
       "      <td>Reynaldo</td>\n",
       "      <td>Jenkins</td>\n",
       "      <td>52</td>\n",
       "      <td>Tulsa, OK MSA</td>\n",
       "      <td>2018-01-28</td>\n",
       "      <td>surf</td>\n",
       "      <td>NaN</td>\n",
       "    </tr>\n",
       "    <tr>\n",
       "      <th>4</th>\n",
       "      <td>1004</td>\n",
       "      <td>Leonila</td>\n",
       "      <td>Thompson</td>\n",
       "      <td>40</td>\n",
       "      <td>Seattle-Tacoma-Bellevue, WA MSA</td>\n",
       "      <td>2018-05-23</td>\n",
       "      <td>surf</td>\n",
       "      <td>NaN</td>\n",
       "    </tr>\n",
       "  </tbody>\n",
       "</table>\n",
       "</div>"
      ],
      "text/plain": [
       "   user_id first_name  last_name  age                                   city  \\\n",
       "0     1000   Anamaria      Bauer   45  Atlanta-Sandy Springs-Roswell, GA MSA   \n",
       "1     1001     Mickey  Wilkerson   28        Seattle-Tacoma-Bellevue, WA MSA   \n",
       "2     1002     Carlee    Hoffman   36   Las Vegas-Henderson-Paradise, NV MSA   \n",
       "3     1003   Reynaldo    Jenkins   52                          Tulsa, OK MSA   \n",
       "4     1004    Leonila   Thompson   40        Seattle-Tacoma-Bellevue, WA MSA   \n",
       "\n",
       "     reg_date      plan churn_date  \n",
       "0  2018-12-24  ultimate        NaN  \n",
       "1  2018-08-13      surf        NaN  \n",
       "2  2018-10-21      surf        NaN  \n",
       "3  2018-01-28      surf        NaN  \n",
       "4  2018-05-23      surf        NaN  "
      ]
     },
     "metadata": {},
     "output_type": "display_data"
    }
   ],
   "source": [
    "# Imprime una muestra de datos para usuarios\n",
    "print('TABLA DE USUARIOS')\n",
    "display(users.head())\n"
   ]
  },
  {
   "cell_type": "markdown",
   "metadata": {
    "id": "dCZoUq4f0q06"
   },
   "source": [
    "Al explorar la tabla `users` se observa:\n",
    "- La tabla contiene 500 registros y 8 columnas.\n",
    "- Las columnas `reg_date` y `churn_date` están en tipo `object` y deberán convertirse al tipo `datetime` para un análisis adecuado.\n",
    "- La columna `churn_date` presenta muchos valores ausentes, lo cual es esperable ya que corresponde a usuarios que no han cancelado el servicio.\n",
    "- No se identifican valores nulos en el resto de las columnas.\n",
    "- Los valores de `plan` corresponden a los nombres de tarifas válidos: `surf` y `ultimate`.\n",
    "\n",
    "Por lo tanto, el paso siguiente será convertir las columnas de fechas al tipo `datetime` y mantener los valores nulos en `churn_date` como indicativo de usuarios activos.\n"
   ]
  },
  {
   "cell_type": "markdown",
   "metadata": {
    "id": "BX5FQh_I0q06"
   },
   "source": [
    "### 3.2.1. Corregir los datos"
   ]
  },
  {
   "cell_type": "markdown",
   "metadata": {
    "id": "8OdKMwJv0q06"
   },
   "source": [
    "Se identificó que las columnas `reg_date` y `churn_date` están en tipo `object`, lo cual no es adecuado para datos de tipo fecha.  \n",
    "La corrección necesaria es convertir estas columnas al tipo `datetime` para facilitar el análisis temporal en los pasos posteriores.  \n",
    "No se requieren otras correcciones, ya que el resto de las columnas no presenta problemas de valores nulos o tipos inadecuados."
   ]
  },
  {
   "cell_type": "code",
   "execution_count": 8,
   "metadata": {
    "colab": {
     "base_uri": "https://localhost:8080/"
    },
    "executionInfo": {
     "elapsed": 18,
     "status": "ok",
     "timestamp": 1750970904572,
     "user": {
      "displayName": "Carlos Jiménez",
      "userId": "16016936490932337538"
     },
     "user_tz": 360
    },
    "id": "yUqX-K0C0q07",
    "outputId": "e1ac7d2c-a4c7-4a04-bc07-ced27f8c1c25"
   },
   "outputs": [
    {
     "name": "stdout",
     "output_type": "stream",
     "text": [
      "TABLA DE USUARIOS: tipo de datos de columnas \"reg_date\" y \"churn_date\" corregidos\n",
      "\n",
      "<class 'pandas.core.frame.DataFrame'>\n",
      "RangeIndex: 500 entries, 0 to 499\n",
      "Data columns (total 8 columns):\n",
      " #   Column      Non-Null Count  Dtype         \n",
      "---  ------      --------------  -----         \n",
      " 0   user_id     500 non-null    int64         \n",
      " 1   first_name  500 non-null    object        \n",
      " 2   last_name   500 non-null    object        \n",
      " 3   age         500 non-null    int64         \n",
      " 4   city        500 non-null    object        \n",
      " 5   reg_date    500 non-null    datetime64[ns]\n",
      " 6   plan        500 non-null    object        \n",
      " 7   churn_date  34 non-null     datetime64[ns]\n",
      "dtypes: datetime64[ns](2), int64(2), object(4)\n",
      "memory usage: 31.4+ KB\n"
     ]
    }
   ],
   "source": [
    "# Convertir datos de columnas \"reg_date\" y \"churn_date\" a tipo datetime\n",
    "users['reg_date'] = pd.to_datetime(users['reg_date'])\n",
    "users['churn_date'] = pd.to_datetime(users['churn_date'])\n",
    "\n",
    "print('TABLA DE USUARIOS: tipo de datos de columnas \"reg_date\" y \"churn_date\" corregidos\\n')\n",
    "users.info()"
   ]
  },
  {
   "cell_type": "markdown",
   "metadata": {
    "id": "SbaL5m8d3PEN"
   },
   "source": [
    "Se realizó la conversión de las columnas `reg_date` y `churn_date` al tipo `datetime`.  \n",
    "Esto permitirá un análisis temporal correcto en los pasos posteriores.  "
   ]
  },
  {
   "cell_type": "markdown",
   "metadata": {
    "id": "ycwuARJp0q07"
   },
   "source": [
    "### 3.2.2. Enriquecer los datos"
   ]
  },
  {
   "cell_type": "markdown",
   "metadata": {
    "id": "96NIh4CJ0q08"
   },
   "source": [
    "En esta etapa no es necesario agregar factores adicionales al DataFrame `users`, ya que las columnas presentes contienen toda la información necesaria para los cálculos y análisis solicitados en el proyecto."
   ]
  },
  {
   "cell_type": "code",
   "execution_count": null,
   "metadata": {
    "executionInfo": {
     "elapsed": 11,
     "status": "ok",
     "timestamp": 1750970904638,
     "user": {
      "displayName": "Carlos Jiménez",
      "userId": "16016936490932337538"
     },
     "user_tz": 360
    },
    "id": "iq0AaBS90q08"
   },
   "outputs": [],
   "source": []
  },
  {
   "cell_type": "markdown",
   "metadata": {
    "id": "o7MeKCid0q08"
   },
   "source": [
    "## 3.3. Llamadas"
   ]
  },
  {
   "cell_type": "code",
   "execution_count": 9,
   "metadata": {
    "colab": {
     "base_uri": "https://localhost:8080/"
    },
    "executionInfo": {
     "elapsed": 60,
     "status": "ok",
     "timestamp": 1750970904691,
     "user": {
      "displayName": "Carlos Jiménez",
      "userId": "16016936490932337538"
     },
     "user_tz": 360
    },
    "id": "6dDlnoDm0q08",
    "outputId": "c586c583-b020-420b-a786-2fba038b05ec"
   },
   "outputs": [
    {
     "name": "stdout",
     "output_type": "stream",
     "text": [
      "INFORMACION DE TABLA DE LLAMADAS\n",
      "\n",
      "<class 'pandas.core.frame.DataFrame'>\n",
      "RangeIndex: 137735 entries, 0 to 137734\n",
      "Data columns (total 4 columns):\n",
      " #   Column     Non-Null Count   Dtype  \n",
      "---  ------     --------------   -----  \n",
      " 0   id         137735 non-null  object \n",
      " 1   user_id    137735 non-null  int64  \n",
      " 2   call_date  137735 non-null  object \n",
      " 3   duration   137735 non-null  float64\n",
      "dtypes: float64(1), int64(1), object(2)\n",
      "memory usage: 4.2+ MB\n",
      "\n",
      "Registros totales: 137735\n",
      "Columnas totales: 4\n"
     ]
    }
   ],
   "source": [
    "# Imprime la información general/resumida sobre el DataFrame de las llamadas\n",
    "print('INFORMACION DE TABLA DE LLAMADAS\\n')\n",
    "calls.info()\n",
    "print()\n",
    "print(f'Registros totales: {calls.shape[0]}')\n",
    "print(f'Columnas totales: {calls.shape[1]}')\n"
   ]
  },
  {
   "cell_type": "code",
   "execution_count": 10,
   "metadata": {
    "colab": {
     "base_uri": "https://localhost:8080/",
     "height": 224
    },
    "executionInfo": {
     "elapsed": 98,
     "status": "ok",
     "timestamp": 1750970904790,
     "user": {
      "displayName": "Carlos Jiménez",
      "userId": "16016936490932337538"
     },
     "user_tz": 360
    },
    "id": "kuh1vlNB0q09",
    "outputId": "5b18aba7-9274-4caa-a0f4-d08ef2907d46"
   },
   "outputs": [
    {
     "name": "stdout",
     "output_type": "stream",
     "text": [
      "TABLA DE LLAMADAS\n"
     ]
    },
    {
     "data": {
      "text/html": [
       "<div>\n",
       "<style scoped>\n",
       "    .dataframe tbody tr th:only-of-type {\n",
       "        vertical-align: middle;\n",
       "    }\n",
       "\n",
       "    .dataframe tbody tr th {\n",
       "        vertical-align: top;\n",
       "    }\n",
       "\n",
       "    .dataframe thead th {\n",
       "        text-align: right;\n",
       "    }\n",
       "</style>\n",
       "<table border=\"1\" class=\"dataframe\">\n",
       "  <thead>\n",
       "    <tr style=\"text-align: right;\">\n",
       "      <th></th>\n",
       "      <th>id</th>\n",
       "      <th>user_id</th>\n",
       "      <th>call_date</th>\n",
       "      <th>duration</th>\n",
       "    </tr>\n",
       "  </thead>\n",
       "  <tbody>\n",
       "    <tr>\n",
       "      <th>0</th>\n",
       "      <td>1000_93</td>\n",
       "      <td>1000</td>\n",
       "      <td>2018-12-27</td>\n",
       "      <td>8.52</td>\n",
       "    </tr>\n",
       "    <tr>\n",
       "      <th>1</th>\n",
       "      <td>1000_145</td>\n",
       "      <td>1000</td>\n",
       "      <td>2018-12-27</td>\n",
       "      <td>13.66</td>\n",
       "    </tr>\n",
       "    <tr>\n",
       "      <th>2</th>\n",
       "      <td>1000_247</td>\n",
       "      <td>1000</td>\n",
       "      <td>2018-12-27</td>\n",
       "      <td>14.48</td>\n",
       "    </tr>\n",
       "    <tr>\n",
       "      <th>3</th>\n",
       "      <td>1000_309</td>\n",
       "      <td>1000</td>\n",
       "      <td>2018-12-28</td>\n",
       "      <td>5.76</td>\n",
       "    </tr>\n",
       "    <tr>\n",
       "      <th>4</th>\n",
       "      <td>1000_380</td>\n",
       "      <td>1000</td>\n",
       "      <td>2018-12-30</td>\n",
       "      <td>4.22</td>\n",
       "    </tr>\n",
       "  </tbody>\n",
       "</table>\n",
       "</div>"
      ],
      "text/plain": [
       "         id  user_id   call_date  duration\n",
       "0   1000_93     1000  2018-12-27      8.52\n",
       "1  1000_145     1000  2018-12-27     13.66\n",
       "2  1000_247     1000  2018-12-27     14.48\n",
       "3  1000_309     1000  2018-12-28      5.76\n",
       "4  1000_380     1000  2018-12-30      4.22"
      ]
     },
     "metadata": {},
     "output_type": "display_data"
    }
   ],
   "source": [
    "# Imprime una muestra de datos para las llamadas\n",
    "print('TABLA DE LLAMADAS')\n",
    "display(calls.head())\n"
   ]
  },
  {
   "cell_type": "markdown",
   "metadata": {
    "id": "DOAxYJSx0q09"
   },
   "source": [
    "Al explorar la tabla `calls` se observa:\n",
    "- La tabla contiene 137,735 registros y 4 columnas.\n",
    "- No existen valores nulos en ninguna de las columnas.\n",
    "- El campo `call_date` está en tipo `object` y debe convertirse a `datetime` para un análisis adecuado.\n",
    "- La columna `duration` tiene valores positivos en la muestra, lo cual es consistente con datos válidos de duración de llamadas.\n",
    "\n",
    "El siguiente paso será convertir `call_date` al tipo `datetime` y posteriormente verificar si existen duraciones atípicas (por ejemplo, negativas o cero) durante el preprocesamiento.\n"
   ]
  },
  {
   "cell_type": "markdown",
   "metadata": {
    "id": "S7hzxmbX0q0-"
   },
   "source": [
    "### 3.3.1. Corregir los datos"
   ]
  },
  {
   "cell_type": "markdown",
   "metadata": {
    "id": "YxWyAjD20q0-"
   },
   "source": [
    "En esta celda realizaremos las siguientes acciones para asegurar la calidad de la tabla `calls`:\n",
    "- Validaremos si existen registros con duración menor o igual a cero (`duration <= 0`).\n",
    "- Si se detectan, eliminaremos esos registros, ya que no representan llamadas reales facturables y podrían distorsionar el análisis.\n",
    "- Convertiremos la columna `call_date` al tipo `datetime` para un análisis temporal adecuado.\n",
    "- Redondearemos la columna `duration` al alza usando la función `ceil` de numpy, para reflejar correctamente la política de Megaline, donde cada llamada se cobra como un número entero de minutos, redondeando hacia arriba.\n",
    "\n",
    "Estas acciones dejarán el DataFrame listo para el análisis de uso e ingresos.\n"
   ]
  },
  {
   "cell_type": "code",
   "execution_count": 11,
   "metadata": {
    "colab": {
     "base_uri": "https://localhost:8080/",
     "height": 588
    },
    "executionInfo": {
     "elapsed": 112,
     "status": "ok",
     "timestamp": 1750970904905,
     "user": {
      "displayName": "Carlos Jiménez",
      "userId": "16016936490932337538"
     },
     "user_tz": 360
    },
    "id": "S2r8xA4f0q0-",
    "outputId": "c88d6de2-ef18-4b7c-ef74-596d42cf4911"
   },
   "outputs": [
    {
     "name": "stdout",
     "output_type": "stream",
     "text": [
      "VALIDACION DE EXISTENCIA DE LLAMADAS CON DURACION MENOR O IGUAL A 0\n",
      "\n",
      "Registros inválidos encontrados: 26834\n",
      "\n",
      "CAMBIOS REALIZADOS A TABLA DE LLAMADAS\n",
      "- ELIMINACION DE REGISTROS DE LLAMADAS CON DURACIONAS MENORES O IGUALES A 0 EN CASO DE EXISTIR\n",
      "- CAMBIO DE TIPO DE DATO DE COLUMNA call_date A TIPO datetime\n",
      "- REDONDEO DE LA COLUMNA duration A ENTEROS\n",
      "\n",
      "<class 'pandas.core.frame.DataFrame'>\n",
      "Index: 110901 entries, 0 to 137734\n",
      "Data columns (total 4 columns):\n",
      " #   Column     Non-Null Count   Dtype         \n",
      "---  ------     --------------   -----         \n",
      " 0   id         110901 non-null  object        \n",
      " 1   user_id    110901 non-null  int64         \n",
      " 2   call_date  110901 non-null  datetime64[ns]\n",
      " 3   duration   110901 non-null  int64         \n",
      "dtypes: datetime64[ns](1), int64(2), object(1)\n",
      "memory usage: 4.2+ MB\n",
      "\n",
      "TABLA DE LLAMADAS\n"
     ]
    },
    {
     "data": {
      "text/html": [
       "<div>\n",
       "<style scoped>\n",
       "    .dataframe tbody tr th:only-of-type {\n",
       "        vertical-align: middle;\n",
       "    }\n",
       "\n",
       "    .dataframe tbody tr th {\n",
       "        vertical-align: top;\n",
       "    }\n",
       "\n",
       "    .dataframe thead th {\n",
       "        text-align: right;\n",
       "    }\n",
       "</style>\n",
       "<table border=\"1\" class=\"dataframe\">\n",
       "  <thead>\n",
       "    <tr style=\"text-align: right;\">\n",
       "      <th></th>\n",
       "      <th>id</th>\n",
       "      <th>user_id</th>\n",
       "      <th>call_date</th>\n",
       "      <th>duration</th>\n",
       "    </tr>\n",
       "  </thead>\n",
       "  <tbody>\n",
       "    <tr>\n",
       "      <th>0</th>\n",
       "      <td>1000_93</td>\n",
       "      <td>1000</td>\n",
       "      <td>2018-12-27</td>\n",
       "      <td>9</td>\n",
       "    </tr>\n",
       "    <tr>\n",
       "      <th>1</th>\n",
       "      <td>1000_145</td>\n",
       "      <td>1000</td>\n",
       "      <td>2018-12-27</td>\n",
       "      <td>14</td>\n",
       "    </tr>\n",
       "    <tr>\n",
       "      <th>2</th>\n",
       "      <td>1000_247</td>\n",
       "      <td>1000</td>\n",
       "      <td>2018-12-27</td>\n",
       "      <td>15</td>\n",
       "    </tr>\n",
       "    <tr>\n",
       "      <th>3</th>\n",
       "      <td>1000_309</td>\n",
       "      <td>1000</td>\n",
       "      <td>2018-12-28</td>\n",
       "      <td>6</td>\n",
       "    </tr>\n",
       "    <tr>\n",
       "      <th>4</th>\n",
       "      <td>1000_380</td>\n",
       "      <td>1000</td>\n",
       "      <td>2018-12-30</td>\n",
       "      <td>5</td>\n",
       "    </tr>\n",
       "  </tbody>\n",
       "</table>\n",
       "</div>"
      ],
      "text/plain": [
       "         id  user_id  call_date  duration\n",
       "0   1000_93     1000 2018-12-27         9\n",
       "1  1000_145     1000 2018-12-27        14\n",
       "2  1000_247     1000 2018-12-27        15\n",
       "3  1000_309     1000 2018-12-28         6\n",
       "4  1000_380     1000 2018-12-30         5"
      ]
     },
     "metadata": {},
     "output_type": "display_data"
    }
   ],
   "source": [
    "# Validar llamadas con duración <= 0\n",
    "print('VALIDACION DE EXISTENCIA DE LLAMADAS CON DURACION MENOR O IGUAL A 0\\n')\n",
    "invalid_durations = calls[calls['duration'] <= 0]\n",
    "print(f\"Registros inválidos encontrados: {invalid_durations.shape[0]}\")\n",
    "\n",
    "# Eliminar registros con duración <= 0\n",
    "calls = calls[calls['duration'] > 0].copy()\n",
    "\n",
    "# Convertir call_date a datetime\n",
    "calls['call_date'] = pd.to_datetime(calls['call_date'])\n",
    "\n",
    "# Redondear duration al alza a enteros\n",
    "calls['duration'] = np.ceil(calls['duration']).astype(int)\n",
    "\n",
    "# Mostrar info para confirmar los cambios\n",
    "print('\\nCAMBIOS REALIZADOS A TABLA DE LLAMADAS')\n",
    "print('- ELIMINACION DE REGISTROS DE LLAMADAS CON DURACIONAS MENORES O IGUALES A 0 EN CASO DE EXISTIR')\n",
    "print('- CAMBIO DE TIPO DE DATO DE COLUMNA call_date A TIPO datetime')\n",
    "print('- REDONDEO DE LA COLUMNA duration A ENTEROS\\n')\n",
    "calls.info()\n",
    "print('\\nTABLA DE LLAMADAS')\n",
    "display(calls.head())\n"
   ]
  },
  {
   "cell_type": "markdown",
   "metadata": {
    "id": "FBipSX8gFXJ9"
   },
   "source": [
    "Se realizó la validación de la columna `duration` y se identificaron 26,834 registros con duración menor o igual a cero.  \n",
    "Estos registros fueron eliminados, ya que no representaban llamadas facturables y distorsionarían el análisis.  \n",
    "\n",
    "Posteriormente:\n",
    "- La columna `call_date` fue convertida al tipo `datetime`.\n",
    "- La columna `duration` fue redondeada al alza a enteros, cumpliendo con la política de facturación de Megaline.\n",
    "\n",
    "El DataFrame `calls` quedó compuesto por 110,901 registros, todos representando llamadas válidas.  \n",
    "La tabla está lista para los cálculos de uso e ingresos en las siguientes etapas del proyecto.\n"
   ]
  },
  {
   "cell_type": "markdown",
   "metadata": {
    "id": "KrMgTrlG0q0_"
   },
   "source": [
    "### 3.3.2. Enriquecer los datos"
   ]
  },
  {
   "cell_type": "markdown",
   "metadata": {
    "id": "a9MbmEvE0q0_"
   },
   "source": [
    "En esta etapa no se agregaron factores adicionales al DataFrame `calls`.  \n",
    "Los datos corregidos son suficientes para los cálculos requeridos en el proyecto."
   ]
  },
  {
   "cell_type": "code",
   "execution_count": null,
   "metadata": {
    "executionInfo": {
     "elapsed": 55,
     "status": "ok",
     "timestamp": 1750970904965,
     "user": {
      "displayName": "Carlos Jiménez",
      "userId": "16016936490932337538"
     },
     "user_tz": 360
    },
    "id": "iZ1avpA_0q0_"
   },
   "outputs": [],
   "source": []
  },
  {
   "cell_type": "markdown",
   "metadata": {
    "id": "mOUZSi180q0_"
   },
   "source": [
    "## 3.4. Mensajes"
   ]
  },
  {
   "cell_type": "markdown",
   "metadata": {
    "id": "E6Lu1SEQGP9f"
   },
   "source": [
    "En esta celda se explora el DataFrame `messages` con los siguientes objetivos:\n",
    "- Obtener información general sobre el número de registros, columnas y tipos de datos.\n",
    "- Verificar si existen valores nulos o inconsistentes que requieran revisión.\n",
    "- Mostrar una muestra de los datos para validar que la estructura y el contenido son los esperados.\n",
    "\n",
    "Esto permitirá identificar posibles problemas antes de proceder a la limpieza o corrección de los datos."
   ]
  },
  {
   "cell_type": "code",
   "execution_count": 12,
   "metadata": {
    "colab": {
     "base_uri": "https://localhost:8080/"
    },
    "executionInfo": {
     "elapsed": 86,
     "status": "ok",
     "timestamp": 1750970905054,
     "user": {
      "displayName": "Carlos Jiménez",
      "userId": "16016936490932337538"
     },
     "user_tz": 360
    },
    "id": "R-bYJpdV0q1A",
    "outputId": "dd22354e-ed53-4d5b-9e00-39929b6a249b"
   },
   "outputs": [
    {
     "name": "stdout",
     "output_type": "stream",
     "text": [
      "INFORMACION DE TABLA DE MENSAJES\n",
      "\n",
      "<class 'pandas.core.frame.DataFrame'>\n",
      "RangeIndex: 76051 entries, 0 to 76050\n",
      "Data columns (total 3 columns):\n",
      " #   Column        Non-Null Count  Dtype \n",
      "---  ------        --------------  ----- \n",
      " 0   id            76051 non-null  object\n",
      " 1   user_id       76051 non-null  int64 \n",
      " 2   message_date  76051 non-null  object\n",
      "dtypes: int64(1), object(2)\n",
      "memory usage: 1.7+ MB\n",
      "\n",
      "Registros totales: 76051\n",
      "Columnas totales: 3\n"
     ]
    }
   ],
   "source": [
    "# Imprime la información general/resumida sobre el DataFrame de los mensajes\n",
    "print('INFORMACION DE TABLA DE MENSAJES\\n')\n",
    "messages.info()\n",
    "print()\n",
    "print(f'Registros totales: {messages.shape[0]}')\n",
    "print(f'Columnas totales: {messages.shape[1]}')\n"
   ]
  },
  {
   "cell_type": "code",
   "execution_count": 13,
   "metadata": {
    "colab": {
     "base_uri": "https://localhost:8080/",
     "height": 224
    },
    "executionInfo": {
     "elapsed": 48,
     "status": "ok",
     "timestamp": 1750970905105,
     "user": {
      "displayName": "Carlos Jiménez",
      "userId": "16016936490932337538"
     },
     "user_tz": 360
    },
    "id": "mCEl2iGE0q1A",
    "outputId": "4295aa9a-19cb-4ab1-a181-8c5531f1fb7f"
   },
   "outputs": [
    {
     "name": "stdout",
     "output_type": "stream",
     "text": [
      "TABLA DE MENSAJES\n"
     ]
    },
    {
     "data": {
      "text/html": [
       "<div>\n",
       "<style scoped>\n",
       "    .dataframe tbody tr th:only-of-type {\n",
       "        vertical-align: middle;\n",
       "    }\n",
       "\n",
       "    .dataframe tbody tr th {\n",
       "        vertical-align: top;\n",
       "    }\n",
       "\n",
       "    .dataframe thead th {\n",
       "        text-align: right;\n",
       "    }\n",
       "</style>\n",
       "<table border=\"1\" class=\"dataframe\">\n",
       "  <thead>\n",
       "    <tr style=\"text-align: right;\">\n",
       "      <th></th>\n",
       "      <th>id</th>\n",
       "      <th>user_id</th>\n",
       "      <th>message_date</th>\n",
       "    </tr>\n",
       "  </thead>\n",
       "  <tbody>\n",
       "    <tr>\n",
       "      <th>0</th>\n",
       "      <td>1000_125</td>\n",
       "      <td>1000</td>\n",
       "      <td>2018-12-27</td>\n",
       "    </tr>\n",
       "    <tr>\n",
       "      <th>1</th>\n",
       "      <td>1000_160</td>\n",
       "      <td>1000</td>\n",
       "      <td>2018-12-31</td>\n",
       "    </tr>\n",
       "    <tr>\n",
       "      <th>2</th>\n",
       "      <td>1000_223</td>\n",
       "      <td>1000</td>\n",
       "      <td>2018-12-31</td>\n",
       "    </tr>\n",
       "    <tr>\n",
       "      <th>3</th>\n",
       "      <td>1000_251</td>\n",
       "      <td>1000</td>\n",
       "      <td>2018-12-27</td>\n",
       "    </tr>\n",
       "    <tr>\n",
       "      <th>4</th>\n",
       "      <td>1000_255</td>\n",
       "      <td>1000</td>\n",
       "      <td>2018-12-26</td>\n",
       "    </tr>\n",
       "  </tbody>\n",
       "</table>\n",
       "</div>"
      ],
      "text/plain": [
       "         id  user_id message_date\n",
       "0  1000_125     1000   2018-12-27\n",
       "1  1000_160     1000   2018-12-31\n",
       "2  1000_223     1000   2018-12-31\n",
       "3  1000_251     1000   2018-12-27\n",
       "4  1000_255     1000   2018-12-26"
      ]
     },
     "metadata": {},
     "output_type": "display_data"
    }
   ],
   "source": [
    "# Imprime una muestra de datos para los mensajes\n",
    "print('TABLA DE MENSAJES')\n",
    "display(messages.head())\n"
   ]
  },
  {
   "cell_type": "markdown",
   "metadata": {
    "id": "04xDj7KH0q1A"
   },
   "source": [
    "Al explorar la tabla `messages` se observa:\n",
    "- La tabla contiene 76,051 registros y 3 columnas.\n",
    "- No existen valores nulos en ninguna de las columnas.\n",
    "- La columna `message_date` está en tipo `object` y deberá convertirse al tipo `datetime` para permitir un análisis temporal adecuado.\n",
    "- Los datos de la muestra parecen consistentes y no se identifican problemas adicionales.\n",
    "\n",
    "El siguiente paso será convertir `message_date` a `datetime`.\n"
   ]
  },
  {
   "cell_type": "markdown",
   "metadata": {
    "id": "Sprfak900q1B"
   },
   "source": [
    "### 3.4.1. Corregir los datos"
   ]
  },
  {
   "cell_type": "markdown",
   "metadata": {
    "id": "eGw7d9j10q1B"
   },
   "source": [
    "En esta celda se aplicará la siguiente corrección al DataFrame `messages`:\n",
    "- Se convertirá la columna `message_date` al tipo `datetime` para permitir un análisis temporal adecuado y facilitar los cálculos mensuales requeridos en el proyecto.\n",
    "\n",
    "No se identificaron otros problemas en los datos que requieran corrección."
   ]
  },
  {
   "cell_type": "code",
   "execution_count": 14,
   "metadata": {
    "colab": {
     "base_uri": "https://localhost:8080/",
     "height": 484
    },
    "executionInfo": {
     "elapsed": 181,
     "status": "ok",
     "timestamp": 1750970905289,
     "user": {
      "displayName": "Carlos Jiménez",
      "userId": "16016936490932337538"
     },
     "user_tz": 360
    },
    "id": "vsllvkoa0q1B",
    "outputId": "8fdb0014-8938-42de-ed7d-74fa187a37fa"
   },
   "outputs": [
    {
     "name": "stdout",
     "output_type": "stream",
     "text": [
      "\n",
      "CAMBIOS REALIZADOS A TABLA DE MENSAJES\n",
      "- SE CONVIERTE TIPO DE DATOS DE COLUMNA message_date A TIPO datetime\n",
      "\n"
     ]
    },
    {
     "name": "stdout",
     "output_type": "stream",
     "text": [
      "<class 'pandas.core.frame.DataFrame'>\n",
      "RangeIndex: 76051 entries, 0 to 76050\n",
      "Data columns (total 3 columns):\n",
      " #   Column        Non-Null Count  Dtype         \n",
      "---  ------        --------------  -----         \n",
      " 0   id            76051 non-null  object        \n",
      " 1   user_id       76051 non-null  int64         \n",
      " 2   message_date  76051 non-null  datetime64[ns]\n",
      "dtypes: datetime64[ns](1), int64(1), object(1)\n",
      "memory usage: 1.7+ MB\n",
      "\n",
      "TABLA DE MENSAJES\n"
     ]
    },
    {
     "data": {
      "text/html": [
       "<div>\n",
       "<style scoped>\n",
       "    .dataframe tbody tr th:only-of-type {\n",
       "        vertical-align: middle;\n",
       "    }\n",
       "\n",
       "    .dataframe tbody tr th {\n",
       "        vertical-align: top;\n",
       "    }\n",
       "\n",
       "    .dataframe thead th {\n",
       "        text-align: right;\n",
       "    }\n",
       "</style>\n",
       "<table border=\"1\" class=\"dataframe\">\n",
       "  <thead>\n",
       "    <tr style=\"text-align: right;\">\n",
       "      <th></th>\n",
       "      <th>id</th>\n",
       "      <th>user_id</th>\n",
       "      <th>message_date</th>\n",
       "    </tr>\n",
       "  </thead>\n",
       "  <tbody>\n",
       "    <tr>\n",
       "      <th>0</th>\n",
       "      <td>1000_125</td>\n",
       "      <td>1000</td>\n",
       "      <td>2018-12-27</td>\n",
       "    </tr>\n",
       "    <tr>\n",
       "      <th>1</th>\n",
       "      <td>1000_160</td>\n",
       "      <td>1000</td>\n",
       "      <td>2018-12-31</td>\n",
       "    </tr>\n",
       "    <tr>\n",
       "      <th>2</th>\n",
       "      <td>1000_223</td>\n",
       "      <td>1000</td>\n",
       "      <td>2018-12-31</td>\n",
       "    </tr>\n",
       "    <tr>\n",
       "      <th>3</th>\n",
       "      <td>1000_251</td>\n",
       "      <td>1000</td>\n",
       "      <td>2018-12-27</td>\n",
       "    </tr>\n",
       "    <tr>\n",
       "      <th>4</th>\n",
       "      <td>1000_255</td>\n",
       "      <td>1000</td>\n",
       "      <td>2018-12-26</td>\n",
       "    </tr>\n",
       "  </tbody>\n",
       "</table>\n",
       "</div>"
      ],
      "text/plain": [
       "         id  user_id message_date\n",
       "0  1000_125     1000   2018-12-27\n",
       "1  1000_160     1000   2018-12-31\n",
       "2  1000_223     1000   2018-12-31\n",
       "3  1000_251     1000   2018-12-27\n",
       "4  1000_255     1000   2018-12-26"
      ]
     },
     "metadata": {},
     "output_type": "display_data"
    }
   ],
   "source": [
    "# Convertir message_date a tipo datetime\n",
    "messages['message_date'] = pd.to_datetime(messages['message_date'])\n",
    "\n",
    "# Mostrar info para confirmar el cambio\n",
    "print('\\nCAMBIOS REALIZADOS A TABLA DE MENSAJES')\n",
    "print('- SE CONVIERTE TIPO DE DATOS DE COLUMNA message_date A TIPO datetime\\n')\n",
    "messages.info()\n",
    "print('\\nTABLA DE MENSAJES')\n",
    "display(messages.head())"
   ]
  },
  {
   "cell_type": "markdown",
   "metadata": {
    "id": "2qztqwNfJPUa"
   },
   "source": [
    "La conversión de la columna `message_date` al tipo `datetime` se realizó correctamente.  \n",
    "El DataFrame `messages` ahora está preparado para los análisis y cálculos temporales requeridos en el proyecto.  \n",
    "No se identificaron otros problemas que requirieran corrección en esta tabla.\n"
   ]
  },
  {
   "cell_type": "markdown",
   "metadata": {
    "id": "HvLid7iD0q1B"
   },
   "source": [
    "### 3.4.2 Enriquecer los datos"
   ]
  },
  {
   "cell_type": "markdown",
   "metadata": {
    "id": "8nhPFKIe0q1C"
   },
   "source": [
    "En esta etapa no se agregaron factores adicionales al DataFrame `messages`.  \n",
    "La información disponible (identificador del mensaje, usuario y fecha) es suficiente para realizar los cálculos y análisis requeridos en el proyecto."
   ]
  },
  {
   "cell_type": "code",
   "execution_count": null,
   "metadata": {
    "executionInfo": {
     "elapsed": 13,
     "status": "ok",
     "timestamp": 1750970905290,
     "user": {
      "displayName": "Carlos Jiménez",
      "userId": "16016936490932337538"
     },
     "user_tz": 360
    },
    "id": "zYEXZac10q1C"
   },
   "outputs": [],
   "source": []
  },
  {
   "cell_type": "markdown",
   "metadata": {
    "id": "bStkaxn40q1C"
   },
   "source": [
    "## 3.5. Internet"
   ]
  },
  {
   "cell_type": "markdown",
   "metadata": {
    "id": "Wz-xz3RKRJRu"
   },
   "source": [
    "En esta celda se explora el DataFrame `internet` con los siguientes objetivos:\n",
    "- Obtener información general sobre el número de registros, columnas y tipos de datos.\n",
    "- Verificar la existencia de valores nulos o inconsistentes que puedan requerir corrección.\n",
    "- Mostrar una muestra de los datos para comprobar que los registros son coherentes y válidos.\n",
    "\n",
    "Esto permitirá identificar problemas potenciales antes de aplicar correcciones o enriquecer los datos."
   ]
  },
  {
   "cell_type": "code",
   "execution_count": 15,
   "metadata": {
    "colab": {
     "base_uri": "https://localhost:8080/"
    },
    "executionInfo": {
     "elapsed": 129,
     "status": "ok",
     "timestamp": 1750970905413,
     "user": {
      "displayName": "Carlos Jiménez",
      "userId": "16016936490932337538"
     },
     "user_tz": 360
    },
    "id": "e-Uz5qyn0q1C",
    "outputId": "c1704450-6674-4138-82ed-4f476b906f93"
   },
   "outputs": [
    {
     "name": "stdout",
     "output_type": "stream",
     "text": [
      "INFORMACION DE TABLA DE INTERNET\n",
      "\n",
      "<class 'pandas.core.frame.DataFrame'>\n",
      "RangeIndex: 104825 entries, 0 to 104824\n",
      "Data columns (total 4 columns):\n",
      " #   Column        Non-Null Count   Dtype  \n",
      "---  ------        --------------   -----  \n",
      " 0   id            104825 non-null  object \n",
      " 1   user_id       104825 non-null  int64  \n",
      " 2   session_date  104825 non-null  object \n",
      " 3   mb_used       104825 non-null  float64\n",
      "dtypes: float64(1), int64(1), object(2)\n",
      "memory usage: 3.2+ MB\n",
      "\n",
      "Registros totales: 104825\n",
      "Columnas totales: 4\n"
     ]
    }
   ],
   "source": [
    "# Imprime la información general/resumida sobre el DataFrame de internet\n",
    "print('INFORMACION DE TABLA DE INTERNET\\n')\n",
    "internet.info()\n",
    "print()\n",
    "print(f'Registros totales: {internet.shape[0]}')\n",
    "print(f'Columnas totales: {internet.shape[1]}')\n"
   ]
  },
  {
   "cell_type": "code",
   "execution_count": 16,
   "metadata": {
    "colab": {
     "base_uri": "https://localhost:8080/",
     "height": 224
    },
    "executionInfo": {
     "elapsed": 78,
     "status": "ok",
     "timestamp": 1750970905491,
     "user": {
      "displayName": "Carlos Jiménez",
      "userId": "16016936490932337538"
     },
     "user_tz": 360
    },
    "id": "9r3x_XLw0q1C",
    "outputId": "49e95f0d-6a3f-4747-fcf6-d227b502acb2"
   },
   "outputs": [
    {
     "name": "stdout",
     "output_type": "stream",
     "text": [
      "TABLA DE INTERNET\n"
     ]
    },
    {
     "data": {
      "text/html": [
       "<div>\n",
       "<style scoped>\n",
       "    .dataframe tbody tr th:only-of-type {\n",
       "        vertical-align: middle;\n",
       "    }\n",
       "\n",
       "    .dataframe tbody tr th {\n",
       "        vertical-align: top;\n",
       "    }\n",
       "\n",
       "    .dataframe thead th {\n",
       "        text-align: right;\n",
       "    }\n",
       "</style>\n",
       "<table border=\"1\" class=\"dataframe\">\n",
       "  <thead>\n",
       "    <tr style=\"text-align: right;\">\n",
       "      <th></th>\n",
       "      <th>id</th>\n",
       "      <th>user_id</th>\n",
       "      <th>session_date</th>\n",
       "      <th>mb_used</th>\n",
       "    </tr>\n",
       "  </thead>\n",
       "  <tbody>\n",
       "    <tr>\n",
       "      <th>0</th>\n",
       "      <td>1000_13</td>\n",
       "      <td>1000</td>\n",
       "      <td>2018-12-29</td>\n",
       "      <td>89.86</td>\n",
       "    </tr>\n",
       "    <tr>\n",
       "      <th>1</th>\n",
       "      <td>1000_204</td>\n",
       "      <td>1000</td>\n",
       "      <td>2018-12-31</td>\n",
       "      <td>0.00</td>\n",
       "    </tr>\n",
       "    <tr>\n",
       "      <th>2</th>\n",
       "      <td>1000_379</td>\n",
       "      <td>1000</td>\n",
       "      <td>2018-12-28</td>\n",
       "      <td>660.40</td>\n",
       "    </tr>\n",
       "    <tr>\n",
       "      <th>3</th>\n",
       "      <td>1000_413</td>\n",
       "      <td>1000</td>\n",
       "      <td>2018-12-26</td>\n",
       "      <td>270.99</td>\n",
       "    </tr>\n",
       "    <tr>\n",
       "      <th>4</th>\n",
       "      <td>1000_442</td>\n",
       "      <td>1000</td>\n",
       "      <td>2018-12-27</td>\n",
       "      <td>880.22</td>\n",
       "    </tr>\n",
       "  </tbody>\n",
       "</table>\n",
       "</div>"
      ],
      "text/plain": [
       "         id  user_id session_date  mb_used\n",
       "0   1000_13     1000   2018-12-29    89.86\n",
       "1  1000_204     1000   2018-12-31     0.00\n",
       "2  1000_379     1000   2018-12-28   660.40\n",
       "3  1000_413     1000   2018-12-26   270.99\n",
       "4  1000_442     1000   2018-12-27   880.22"
      ]
     },
     "metadata": {},
     "output_type": "display_data"
    }
   ],
   "source": [
    "# Imprime una muestra de datos para el tráfico de internet\n",
    "print('TABLA DE INTERNET')\n",
    "display(internet.head())\n"
   ]
  },
  {
   "cell_type": "markdown",
   "metadata": {
    "id": "EzOG5ik30q1D"
   },
   "source": [
    "- La tabla contiene **104,825 registros y 4 columnas** sin valores nulos.\n",
    "- Se observar sesiones con medición en `mb_used` en 0 lo que puede ser indicio de inicios de sesión sin consumo de datos\n",
    "- La columna `session_date` deberá transformarse a formato `datetime` para análisis temporal."
   ]
  },
  {
   "cell_type": "markdown",
   "metadata": {
    "id": "yA0tkPFg0q1D"
   },
   "source": [
    "### 3.5.1. Corregir los datos"
   ]
  },
  {
   "cell_type": "markdown",
   "metadata": {
    "id": "zlZMuIEK0q1D"
   },
   "source": [
    "En esta celda se validará si existen registros con `mb_used < 0`, ya que estos representarían datos no válidos que distorsionarían el análisis y los cálculos de ingresos.  \n",
    "Si se detectan, los registros serán eliminados.  \n",
    "Los registros con `mb_used = 0` serán conservados, dado que representan sesiones iniciadas sin tráfico de datos.  \n",
    "Además, se convertirá la columna `session_date` al tipo `datetime` para permitir un análisis temporal adecuado.  \n",
    "Finalmente, se mostrará la estructura del DataFrame tras las acciones aplicadas."
   ]
  },
  {
   "cell_type": "code",
   "execution_count": 17,
   "metadata": {
    "colab": {
     "base_uri": "https://localhost:8080/",
     "height": 588
    },
    "executionInfo": {
     "elapsed": 175,
     "status": "ok",
     "timestamp": 1750970905669,
     "user": {
      "displayName": "Carlos Jiménez",
      "userId": "16016936490932337538"
     },
     "user_tz": 360
    },
    "id": "zVeanzdd0q1E",
    "outputId": "d386bf19-205f-4c10-e959-91dc1fbed4fb"
   },
   "outputs": [
    {
     "name": "stdout",
     "output_type": "stream",
     "text": [
      "VALIDACION DE EXISTENCIA DE SESIONES CON DURACION MENOR A 0\n",
      "\n",
      "Registros inválidos encontrados: 0\n",
      "\n",
      "CAMBIOS REALIZADOS A TABLA DE LLAMADAS\n",
      "- ELIMINACION DE REGISTROS DE SESIONES CON DURACIONAS MENORES A 0 EN CASO DE EXISTIR\n",
      "- CAMBIO DE TIPO DE DATO DE COLUMNA session_date A TIPO datetime\n",
      "\n",
      "<class 'pandas.core.frame.DataFrame'>\n",
      "RangeIndex: 104825 entries, 0 to 104824\n",
      "Data columns (total 4 columns):\n",
      " #   Column        Non-Null Count   Dtype         \n",
      "---  ------        --------------   -----         \n",
      " 0   id            104825 non-null  object        \n",
      " 1   user_id       104825 non-null  int64         \n",
      " 2   session_date  104825 non-null  datetime64[ns]\n",
      " 3   mb_used       104825 non-null  float64       \n",
      "dtypes: datetime64[ns](1), float64(1), int64(1), object(1)\n",
      "memory usage: 3.2+ MB\n",
      "\n",
      "TABLA DE INTERNET\n",
      "\n"
     ]
    },
    {
     "data": {
      "text/html": [
       "<div>\n",
       "<style scoped>\n",
       "    .dataframe tbody tr th:only-of-type {\n",
       "        vertical-align: middle;\n",
       "    }\n",
       "\n",
       "    .dataframe tbody tr th {\n",
       "        vertical-align: top;\n",
       "    }\n",
       "\n",
       "    .dataframe thead th {\n",
       "        text-align: right;\n",
       "    }\n",
       "</style>\n",
       "<table border=\"1\" class=\"dataframe\">\n",
       "  <thead>\n",
       "    <tr style=\"text-align: right;\">\n",
       "      <th></th>\n",
       "      <th>id</th>\n",
       "      <th>user_id</th>\n",
       "      <th>session_date</th>\n",
       "      <th>mb_used</th>\n",
       "    </tr>\n",
       "  </thead>\n",
       "  <tbody>\n",
       "    <tr>\n",
       "      <th>0</th>\n",
       "      <td>1000_13</td>\n",
       "      <td>1000</td>\n",
       "      <td>2018-12-29</td>\n",
       "      <td>89.86</td>\n",
       "    </tr>\n",
       "    <tr>\n",
       "      <th>1</th>\n",
       "      <td>1000_204</td>\n",
       "      <td>1000</td>\n",
       "      <td>2018-12-31</td>\n",
       "      <td>0.00</td>\n",
       "    </tr>\n",
       "    <tr>\n",
       "      <th>2</th>\n",
       "      <td>1000_379</td>\n",
       "      <td>1000</td>\n",
       "      <td>2018-12-28</td>\n",
       "      <td>660.40</td>\n",
       "    </tr>\n",
       "    <tr>\n",
       "      <th>3</th>\n",
       "      <td>1000_413</td>\n",
       "      <td>1000</td>\n",
       "      <td>2018-12-26</td>\n",
       "      <td>270.99</td>\n",
       "    </tr>\n",
       "    <tr>\n",
       "      <th>4</th>\n",
       "      <td>1000_442</td>\n",
       "      <td>1000</td>\n",
       "      <td>2018-12-27</td>\n",
       "      <td>880.22</td>\n",
       "    </tr>\n",
       "  </tbody>\n",
       "</table>\n",
       "</div>"
      ],
      "text/plain": [
       "         id  user_id session_date  mb_used\n",
       "0   1000_13     1000   2018-12-29    89.86\n",
       "1  1000_204     1000   2018-12-31     0.00\n",
       "2  1000_379     1000   2018-12-28   660.40\n",
       "3  1000_413     1000   2018-12-26   270.99\n",
       "4  1000_442     1000   2018-12-27   880.22"
      ]
     },
     "metadata": {},
     "output_type": "display_data"
    }
   ],
   "source": [
    "# Validar registros con mb_used < 0\n",
    "print('VALIDACION DE EXISTENCIA DE SESIONES CON DURACION MENOR A 0\\n')\n",
    "invalid_internet = internet[internet['mb_used'] < 0]\n",
    "print(f\"Registros inválidos encontrados: {invalid_internet.shape[0]}\")\n",
    "if not invalid_internet.empty:\n",
    "    print(invalid_internet.head())\n",
    "\n",
    "# Eliminar si existen\n",
    "internet = internet[internet['mb_used'] >= 0].copy()\n",
    "\n",
    "# Convertir session_date a tipo datetime para análisis temporal\n",
    "internet['session_date'] = pd.to_datetime(internet['session_date'])\n",
    "\n",
    "# Mostrar info para confirmar los cambios\n",
    "print('\\nCAMBIOS REALIZADOS A TABLA DE LLAMADAS')\n",
    "print('- ELIMINACION DE REGISTROS DE SESIONES CON DURACIONAS MENORES A 0 EN CASO DE EXISTIR')\n",
    "print('- CAMBIO DE TIPO DE DATO DE COLUMNA session_date A TIPO datetime\\n')\n",
    "internet.info()\n",
    "print('\\nTABLA DE INTERNET\\n')\n",
    "display(internet.head())\n"
   ]
  },
  {
   "cell_type": "markdown",
   "metadata": {
    "id": "LwvmaVvfU0QX"
   },
   "source": [
    "La validación de la columna `mb_used` confirmó que no existen registros con valores menores a 0.  \n",
    "Esto indica que todos los registros representan valores técnicamente válidos: ya sea sesiones con consumo positivo de datos o sesiones iniciadas sin tráfico (`mb_used = 0`).  \n",
    "No fue necesario eliminar registros por valores atípicos en `mb_used`.  \n",
    "Además, la columna `session_date` fue convertida correctamente al tipo `datetime`, lo que permitirá realizar un análisis temporal adecuado en los siguientes pasos.  \n",
    "La tabla `internet` está lista para el análisis posterior.\n"
   ]
  },
  {
   "cell_type": "markdown",
   "metadata": {
    "id": "e8_mLF4a0q1E"
   },
   "source": [
    "### 3.5.2. Enriquecer los datos"
   ]
  },
  {
   "cell_type": "markdown",
   "metadata": {
    "id": "xhNdn2tE0q1E"
   },
   "source": [
    "En esta etapa no se agregaron factores adicionales al DataFrame `internet`.  \n",
    "La información disponible (identificador de sesión, usuario, fecha y uso en MB) es suficiente para los cálculos y análisis requeridos en el proyecto."
   ]
  },
  {
   "cell_type": "code",
   "execution_count": null,
   "metadata": {
    "executionInfo": {
     "elapsed": 9,
     "status": "ok",
     "timestamp": 1750970905672,
     "user": {
      "displayName": "Carlos Jiménez",
      "userId": "16016936490932337538"
     },
     "user_tz": 360
    },
    "id": "ESiYPIEK0q1E"
   },
   "outputs": [],
   "source": []
  },
  {
   "cell_type": "markdown",
   "metadata": {
    "id": "3UA2cqIW0q1E"
   },
   "source": [
    "# 4. Estudiar las condiciones de las tarifas"
   ]
  },
  {
   "cell_type": "markdown",
   "metadata": {
    "id": "T86Sqltq0q1F"
   },
   "source": [
    "En este paso vamos a estudiar las condiciones de las tarifas para entender cómo se facturan los servicios y cómo se calcularán los ingresos en las etapas posteriores.\n",
    "\n",
    "Esto nos permitirá:\n",
    "- Saber cuántos minutos, mensajes y MB incluye cada plan.\n",
    "- Conocer los costos adicionales que se aplican si el usuario supera los límites del plan.\n",
    "- Establecer correctamente las reglas para el cálculo de ingresos.\n",
    "\n",
    "Mostraremos la información de la tabla `plans` para confirmar estas condiciones."
   ]
  },
  {
   "cell_type": "code",
   "execution_count": 18,
   "metadata": {
    "colab": {
     "base_uri": "https://localhost:8080/",
     "height": 112
    },
    "executionInfo": {
     "elapsed": 88,
     "status": "ok",
     "timestamp": 1750970905763,
     "user": {
      "displayName": "Carlos Jiménez",
      "userId": "16016936490932337538"
     },
     "user_tz": 360
    },
    "id": "i409op8p0q1F",
    "outputId": "7735cb37-51e0-4ca9-b81e-8594d79b14a9"
   },
   "outputs": [
    {
     "data": {
      "text/html": [
       "<div>\n",
       "<style scoped>\n",
       "    .dataframe tbody tr th:only-of-type {\n",
       "        vertical-align: middle;\n",
       "    }\n",
       "\n",
       "    .dataframe tbody tr th {\n",
       "        vertical-align: top;\n",
       "    }\n",
       "\n",
       "    .dataframe thead th {\n",
       "        text-align: right;\n",
       "    }\n",
       "</style>\n",
       "<table border=\"1\" class=\"dataframe\">\n",
       "  <thead>\n",
       "    <tr style=\"text-align: right;\">\n",
       "      <th></th>\n",
       "      <th>messages_included</th>\n",
       "      <th>mb_per_month_included</th>\n",
       "      <th>minutes_included</th>\n",
       "      <th>usd_monthly_pay</th>\n",
       "      <th>usd_per_gb</th>\n",
       "      <th>usd_per_message</th>\n",
       "      <th>usd_per_minute</th>\n",
       "      <th>plan_name</th>\n",
       "      <th>gb_per_month_included</th>\n",
       "    </tr>\n",
       "  </thead>\n",
       "  <tbody>\n",
       "    <tr>\n",
       "      <th>0</th>\n",
       "      <td>50</td>\n",
       "      <td>15360</td>\n",
       "      <td>500</td>\n",
       "      <td>20</td>\n",
       "      <td>10</td>\n",
       "      <td>0.03</td>\n",
       "      <td>0.03</td>\n",
       "      <td>surf</td>\n",
       "      <td>15</td>\n",
       "    </tr>\n",
       "    <tr>\n",
       "      <th>1</th>\n",
       "      <td>1000</td>\n",
       "      <td>30720</td>\n",
       "      <td>3000</td>\n",
       "      <td>70</td>\n",
       "      <td>7</td>\n",
       "      <td>0.01</td>\n",
       "      <td>0.01</td>\n",
       "      <td>ultimate</td>\n",
       "      <td>30</td>\n",
       "    </tr>\n",
       "  </tbody>\n",
       "</table>\n",
       "</div>"
      ],
      "text/plain": [
       "   messages_included  mb_per_month_included  minutes_included  \\\n",
       "0                 50                  15360               500   \n",
       "1               1000                  30720              3000   \n",
       "\n",
       "   usd_monthly_pay  usd_per_gb  usd_per_message  usd_per_minute plan_name  \\\n",
       "0               20          10             0.03            0.03      surf   \n",
       "1               70           7             0.01            0.01  ultimate   \n",
       "\n",
       "   gb_per_month_included  \n",
       "0                     15  \n",
       "1                     30  "
      ]
     },
     "metadata": {},
     "output_type": "display_data"
    }
   ],
   "source": [
    "# Imprime las condiciones de la tarifa y asegúrate de que te quedan claras\n",
    "display(plans.head())\n"
   ]
  },
  {
   "cell_type": "markdown",
   "metadata": {
    "id": "ugnXnDIA-406"
   },
   "source": [
    "Al analizar la tabla `plans`, confirmamos las siguientes condiciones:\n",
    "\n",
    "**Plan Surf**\n",
    "\n",
    "- Pago mensual: ***\\$20*** usd\n",
    "- Incluye:\n",
    "\n",
    "  - ***500*** minutos\n",
    "  - ***50*** mensajes SMS\n",
    "  - ***15*** GB de datos (15,360 MB)\n",
    "\n",
    "- Costo adicional:\n",
    "\n",
    "  - ***\\$0.03*** usd por minuto extra  \n",
    "  - ***\\$0.03*** usd por SMS extra\n",
    "  - ***\\$10*** usd por GB adicional\n",
    "\n",
    "**Plan Ultimate**\n",
    "\n",
    "- Pago mensual: ***\\$70*** usd\n",
    "- **Incluye:**\n",
    "\n",
    "  - ***3000*** minutos\n",
    "  - ***1000*** mensajes SMS\n",
    "  - ***30*** GB de datos (30,720 MB)\n",
    "\n",
    "- **Costo adicional:**\n",
    "\n",
    "  - ***\\$0.01*** usd por minuto extra\n",
    "  - ***\\$0.01*** usd por SMS extra\n",
    "  - ***\\$7*** usd por GB adicional\n",
    "\n",
    "Estas condiciones son las que aplicaremos al calcular los ingresos de los usuarios en las siguientes etapas del proyecto."
   ]
  },
  {
   "cell_type": "markdown",
   "metadata": {
    "id": "3N2XpbnJb3yE"
   },
   "source": [
    "## 4.1. Agregar datos por usuario"
   ]
  },
  {
   "cell_type": "markdown",
   "metadata": {
    "id": "hMR1tP5d0q1F"
   },
   "source": [
    "En esta sección calcularemos el uso mensual de los servicios por cada usuario.\n",
    "Esto nos permitirá crear un registro único por usuario y mes con sus consumos, que luego usaremos para el cálculo de ingresos y análisis.\n",
    "\n",
    "Objetivos:\n",
    "- Calcular el número de llamadas realizadas por usuario y mes.\n",
    "- Calcular el total de minutos usados por usuario y mes.\n",
    "- Calcular el número de mensajes enviados por usuario y mes.\n",
    "- Calcular el volumen total de datos usados por usuario y mes."
   ]
  },
  {
   "cell_type": "code",
   "execution_count": 19,
   "metadata": {
    "colab": {
     "base_uri": "https://localhost:8080/",
     "height": 727
    },
    "executionInfo": {
     "elapsed": 98,
     "status": "ok",
     "timestamp": 1750970905866,
     "user": {
      "displayName": "Carlos Jiménez",
      "userId": "16016936490932337538"
     },
     "user_tz": 360
    },
    "id": "A332cedB0q1G",
    "outputId": "c77a0f88-befe-4587-d7d5-364c80d5bb97"
   },
   "outputs": [
    {
     "name": "stdout",
     "output_type": "stream",
     "text": [
      "SE AGREGO LA COLUMNA month A LA TABLA calls\n",
      "\n",
      "<class 'pandas.core.frame.DataFrame'>\n",
      "Index: 110901 entries, 0 to 137734\n",
      "Data columns (total 5 columns):\n",
      " #   Column     Non-Null Count   Dtype         \n",
      "---  ------     --------------   -----         \n",
      " 0   id         110901 non-null  object        \n",
      " 1   user_id    110901 non-null  int64         \n",
      " 2   call_date  110901 non-null  datetime64[ns]\n",
      " 3   duration   110901 non-null  int64         \n",
      " 4   month      110901 non-null  int32         \n",
      "dtypes: datetime64[ns](1), int32(1), int64(2), object(1)\n",
      "memory usage: 4.7+ MB\n",
      "\n",
      "AGRUPACION DE TABLA \"calls\" POR USUARIO Y MES, CONTEO DE LLAMADAS POR MES\n",
      "calls_per_month\n",
      "\n",
      "<class 'pandas.core.frame.DataFrame'>\n",
      "RangeIndex: 2256 entries, 0 to 2255\n",
      "Data columns (total 3 columns):\n",
      " #   Column       Non-Null Count  Dtype\n",
      "---  ------       --------------  -----\n",
      " 0   user_id      2256 non-null   int64\n",
      " 1   month        2256 non-null   int32\n",
      " 2   calls_count  2256 non-null   int64\n",
      "dtypes: int32(1), int64(2)\n",
      "memory usage: 44.2 KB\n",
      "\n",
      "TABLA calls_per_month\n"
     ]
    },
    {
     "data": {
      "text/html": [
       "<div>\n",
       "<style scoped>\n",
       "    .dataframe tbody tr th:only-of-type {\n",
       "        vertical-align: middle;\n",
       "    }\n",
       "\n",
       "    .dataframe tbody tr th {\n",
       "        vertical-align: top;\n",
       "    }\n",
       "\n",
       "    .dataframe thead th {\n",
       "        text-align: right;\n",
       "    }\n",
       "</style>\n",
       "<table border=\"1\" class=\"dataframe\">\n",
       "  <thead>\n",
       "    <tr style=\"text-align: right;\">\n",
       "      <th></th>\n",
       "      <th>user_id</th>\n",
       "      <th>month</th>\n",
       "      <th>calls_count</th>\n",
       "    </tr>\n",
       "  </thead>\n",
       "  <tbody>\n",
       "    <tr>\n",
       "      <th>0</th>\n",
       "      <td>1000</td>\n",
       "      <td>12</td>\n",
       "      <td>16</td>\n",
       "    </tr>\n",
       "    <tr>\n",
       "      <th>1</th>\n",
       "      <td>1001</td>\n",
       "      <td>8</td>\n",
       "      <td>22</td>\n",
       "    </tr>\n",
       "    <tr>\n",
       "      <th>2</th>\n",
       "      <td>1001</td>\n",
       "      <td>9</td>\n",
       "      <td>38</td>\n",
       "    </tr>\n",
       "    <tr>\n",
       "      <th>3</th>\n",
       "      <td>1001</td>\n",
       "      <td>10</td>\n",
       "      <td>47</td>\n",
       "    </tr>\n",
       "    <tr>\n",
       "      <th>4</th>\n",
       "      <td>1001</td>\n",
       "      <td>11</td>\n",
       "      <td>49</td>\n",
       "    </tr>\n",
       "  </tbody>\n",
       "</table>\n",
       "</div>"
      ],
      "text/plain": [
       "   user_id  month  calls_count\n",
       "0     1000     12           16\n",
       "1     1001      8           22\n",
       "2     1001      9           38\n",
       "3     1001     10           47\n",
       "4     1001     11           49"
      ]
     },
     "metadata": {},
     "output_type": "display_data"
    }
   ],
   "source": [
    "# Calcula el número de llamadas hechas por cada usuario al mes. Guarda el resultado.\n",
    "\n",
    "# Extraemos el número de mes de la columna 'call_date' y lo almacenamos en una nueva columna 'month'\n",
    "calls['month'] = calls['call_date'].dt.month\n",
    "print('SE AGREGO LA COLUMNA month A LA TABLA calls\\n')\n",
    "calls.info()\n",
    "\n",
    "# Agrupamos por usuario y mes, y contamos el número de llamadas realizadas\n",
    "calls_per_month = calls.groupby(['user_id', 'month']).agg(\n",
    "    calls_count=('call_date', 'count')  # Contamos el número de llamadas por usuario y mes\n",
    ").reset_index()  # Restablecemos el índice para obtener un DataFrame ordenado\n",
    "\n",
    "print('\\nAGRUPACION DE TABLA \"calls\" POR USUARIO Y MES, CONTEO DE LLAMADAS POR MES')\n",
    "print('calls_per_month\\n')\n",
    "calls_per_month.info()\n",
    "print('\\nTABLA calls_per_month')\n",
    "display(calls_per_month.head())"
   ]
  },
  {
   "cell_type": "code",
   "execution_count": 20,
   "metadata": {
    "colab": {
     "base_uri": "https://localhost:8080/",
     "height": 484
    },
    "executionInfo": {
     "elapsed": 78,
     "status": "ok",
     "timestamp": 1750970905948,
     "user": {
      "displayName": "Carlos Jiménez",
      "userId": "16016936490932337538"
     },
     "user_tz": 360
    },
    "id": "aw2cmuql0q1G",
    "outputId": "380a5fb3-7116-482f-c908-836704b79140"
   },
   "outputs": [
    {
     "name": "stdout",
     "output_type": "stream",
     "text": [
      "\n",
      "AGRUPACION DE TABLA \"calls\" POR USUARIO Y MES, CONTEO DE MINUTOS POR MES\n",
      "minutes_per_month\n",
      "\n",
      "<class 'pandas.core.frame.DataFrame'>\n",
      "RangeIndex: 2256 entries, 0 to 2255\n",
      "Data columns (total 3 columns):\n",
      " #   Column         Non-Null Count  Dtype\n",
      "---  ------         --------------  -----\n",
      " 0   user_id        2256 non-null   int64\n",
      " 1   month          2256 non-null   int32\n",
      " 2   total_minutes  2256 non-null   int64\n",
      "dtypes: int32(1), int64(2)\n",
      "memory usage: 44.2 KB\n",
      "\n",
      "TABLA minutes_per_month\n"
     ]
    },
    {
     "data": {
      "text/html": [
       "<div>\n",
       "<style scoped>\n",
       "    .dataframe tbody tr th:only-of-type {\n",
       "        vertical-align: middle;\n",
       "    }\n",
       "\n",
       "    .dataframe tbody tr th {\n",
       "        vertical-align: top;\n",
       "    }\n",
       "\n",
       "    .dataframe thead th {\n",
       "        text-align: right;\n",
       "    }\n",
       "</style>\n",
       "<table border=\"1\" class=\"dataframe\">\n",
       "  <thead>\n",
       "    <tr style=\"text-align: right;\">\n",
       "      <th></th>\n",
       "      <th>user_id</th>\n",
       "      <th>month</th>\n",
       "      <th>total_minutes</th>\n",
       "    </tr>\n",
       "  </thead>\n",
       "  <tbody>\n",
       "    <tr>\n",
       "      <th>0</th>\n",
       "      <td>1000</td>\n",
       "      <td>12</td>\n",
       "      <td>124</td>\n",
       "    </tr>\n",
       "    <tr>\n",
       "      <th>1</th>\n",
       "      <td>1001</td>\n",
       "      <td>8</td>\n",
       "      <td>182</td>\n",
       "    </tr>\n",
       "    <tr>\n",
       "      <th>2</th>\n",
       "      <td>1001</td>\n",
       "      <td>9</td>\n",
       "      <td>315</td>\n",
       "    </tr>\n",
       "    <tr>\n",
       "      <th>3</th>\n",
       "      <td>1001</td>\n",
       "      <td>10</td>\n",
       "      <td>393</td>\n",
       "    </tr>\n",
       "    <tr>\n",
       "      <th>4</th>\n",
       "      <td>1001</td>\n",
       "      <td>11</td>\n",
       "      <td>426</td>\n",
       "    </tr>\n",
       "  </tbody>\n",
       "</table>\n",
       "</div>"
      ],
      "text/plain": [
       "   user_id  month  total_minutes\n",
       "0     1000     12            124\n",
       "1     1001      8            182\n",
       "2     1001      9            315\n",
       "3     1001     10            393\n",
       "4     1001     11            426"
      ]
     },
     "metadata": {},
     "output_type": "display_data"
    }
   ],
   "source": [
    "# Calcula la cantidad de minutos usados por cada usuario al mes. Guarda el resultado.\n",
    "\n",
    "# Agrupamos por usuario y mes, y sumamos la duración total de las llamadas\n",
    "minutes_per_month = calls.groupby(['user_id', 'month']).agg(\n",
    "    total_minutes=('duration', 'sum')  # Sumamos la duración de las llamadas para obtener el total de minutos por usuario y mes\n",
    ").reset_index()  # Restablecemos el índice para obtener un DataFrame ordenado\n",
    "\n",
    "print('\\nAGRUPACION DE TABLA \"calls\" POR USUARIO Y MES, CONTEO DE MINUTOS POR MES')\n",
    "print('minutes_per_month\\n')\n",
    "minutes_per_month.info()\n",
    "print('\\nTABLA minutes_per_month')\n",
    "display(minutes_per_month.head())"
   ]
  },
  {
   "cell_type": "code",
   "execution_count": 21,
   "metadata": {
    "colab": {
     "base_uri": "https://localhost:8080/",
     "height": 710
    },
    "executionInfo": {
     "elapsed": 207,
     "status": "ok",
     "timestamp": 1750970906177,
     "user": {
      "displayName": "Carlos Jiménez",
      "userId": "16016936490932337538"
     },
     "user_tz": 360
    },
    "id": "CcQvNHn60q1G",
    "outputId": "1698b92d-de0b-4218-cd33-e7c079aeb01f"
   },
   "outputs": [
    {
     "name": "stdout",
     "output_type": "stream",
     "text": [
      "SE AGREGO LA COLUMNA month A LA TABLA messages\n",
      "\n",
      "<class 'pandas.core.frame.DataFrame'>\n",
      "RangeIndex: 76051 entries, 0 to 76050\n",
      "Data columns (total 4 columns):\n",
      " #   Column        Non-Null Count  Dtype         \n",
      "---  ------        --------------  -----         \n",
      " 0   id            76051 non-null  object        \n",
      " 1   user_id       76051 non-null  int64         \n",
      " 2   message_date  76051 non-null  datetime64[ns]\n",
      " 3   month         76051 non-null  int32         \n",
      "dtypes: datetime64[ns](1), int32(1), int64(1), object(1)\n",
      "memory usage: 2.0+ MB\n",
      "\n",
      "AGRUPACION DE TABLA message POR USUARIO Y MES, CONTEO DE MENSAJES POR MES\n",
      "messages_per_month\n",
      "\n",
      "<class 'pandas.core.frame.DataFrame'>\n",
      "RangeIndex: 1806 entries, 0 to 1805\n",
      "Data columns (total 3 columns):\n",
      " #   Column          Non-Null Count  Dtype\n",
      "---  ------          --------------  -----\n",
      " 0   user_id         1806 non-null   int64\n",
      " 1   month           1806 non-null   int32\n",
      " 2   messages_count  1806 non-null   int64\n",
      "dtypes: int32(1), int64(2)\n",
      "memory usage: 35.4 KB\n",
      "\n",
      "TABLA messages_per_month\n"
     ]
    },
    {
     "data": {
      "text/html": [
       "<div>\n",
       "<style scoped>\n",
       "    .dataframe tbody tr th:only-of-type {\n",
       "        vertical-align: middle;\n",
       "    }\n",
       "\n",
       "    .dataframe tbody tr th {\n",
       "        vertical-align: top;\n",
       "    }\n",
       "\n",
       "    .dataframe thead th {\n",
       "        text-align: right;\n",
       "    }\n",
       "</style>\n",
       "<table border=\"1\" class=\"dataframe\">\n",
       "  <thead>\n",
       "    <tr style=\"text-align: right;\">\n",
       "      <th></th>\n",
       "      <th>user_id</th>\n",
       "      <th>month</th>\n",
       "      <th>messages_count</th>\n",
       "    </tr>\n",
       "  </thead>\n",
       "  <tbody>\n",
       "    <tr>\n",
       "      <th>0</th>\n",
       "      <td>1000</td>\n",
       "      <td>12</td>\n",
       "      <td>11</td>\n",
       "    </tr>\n",
       "    <tr>\n",
       "      <th>1</th>\n",
       "      <td>1001</td>\n",
       "      <td>8</td>\n",
       "      <td>30</td>\n",
       "    </tr>\n",
       "    <tr>\n",
       "      <th>2</th>\n",
       "      <td>1001</td>\n",
       "      <td>9</td>\n",
       "      <td>44</td>\n",
       "    </tr>\n",
       "    <tr>\n",
       "      <th>3</th>\n",
       "      <td>1001</td>\n",
       "      <td>10</td>\n",
       "      <td>53</td>\n",
       "    </tr>\n",
       "    <tr>\n",
       "      <th>4</th>\n",
       "      <td>1001</td>\n",
       "      <td>11</td>\n",
       "      <td>36</td>\n",
       "    </tr>\n",
       "  </tbody>\n",
       "</table>\n",
       "</div>"
      ],
      "text/plain": [
       "   user_id  month  messages_count\n",
       "0     1000     12              11\n",
       "1     1001      8              30\n",
       "2     1001      9              44\n",
       "3     1001     10              53\n",
       "4     1001     11              36"
      ]
     },
     "metadata": {},
     "output_type": "display_data"
    }
   ],
   "source": [
    "# Calcula el número de mensajes enviados por cada usuario al mes. Guarda el resultado.\n",
    "\n",
    "# Extraemos el número de mes de la columna 'message_date' y lo almacenamos en una nueva columna 'month'\n",
    "messages['month'] = messages['message_date'].dt.month\n",
    "print('SE AGREGO LA COLUMNA month A LA TABLA messages\\n')\n",
    "messages.info()\n",
    "\n",
    "# Agrupamos por usuario y mes, y contamos el número de mensajes enviados\n",
    "messages_per_month = messages.groupby(['user_id', 'month']).agg(\n",
    "    messages_count=('id', 'count')  # Contamos el número de mensajes por usuario y mes\n",
    ").reset_index()  # Restablecemos el índice para obtener un DataFrame ordenado\n",
    "\n",
    "print('\\nAGRUPACION DE TABLA message POR USUARIO Y MES, CONTEO DE MENSAJES POR MES')\n",
    "print('messages_per_month\\n')\n",
    "messages_per_month.info()\n",
    "print('\\nTABLA messages_per_month')\n",
    "display(messages_per_month.head())"
   ]
  },
  {
   "cell_type": "code",
   "execution_count": 22,
   "metadata": {
    "colab": {
     "base_uri": "https://localhost:8080/",
     "height": 744
    },
    "executionInfo": {
     "elapsed": 190,
     "status": "ok",
     "timestamp": 1750970906370,
     "user": {
      "displayName": "Carlos Jiménez",
      "userId": "16016936490932337538"
     },
     "user_tz": 360
    },
    "id": "H1AqN2eG0q1H",
    "outputId": "5c51463c-f794-4436-fc74-3f40c9056103"
   },
   "outputs": [
    {
     "name": "stdout",
     "output_type": "stream",
     "text": [
      "SE AGREGO LA COLUMNA month A LA TABLA internet\n",
      "\n",
      "<class 'pandas.core.frame.DataFrame'>\n",
      "RangeIndex: 104825 entries, 0 to 104824\n",
      "Data columns (total 5 columns):\n",
      " #   Column        Non-Null Count   Dtype         \n",
      "---  ------        --------------   -----         \n",
      " 0   id            104825 non-null  object        \n",
      " 1   user_id       104825 non-null  int64         \n",
      " 2   session_date  104825 non-null  datetime64[ns]\n",
      " 3   mb_used       104825 non-null  float64       \n",
      " 4   month         104825 non-null  int32         \n",
      "dtypes: datetime64[ns](1), float64(1), int32(1), int64(1), object(1)\n",
      "memory usage: 3.6+ MB\n",
      "\n",
      "AGRUPACION DE TABLA internet POR USUARIO Y MES, CONTEO DE VOLUMEN TOTAL DE DATOS POR MES\n",
      "internet_per_month\n",
      "\n",
      "<class 'pandas.core.frame.DataFrame'>\n",
      "RangeIndex: 2277 entries, 0 to 2276\n",
      "Data columns (total 4 columns):\n",
      " #   Column   Non-Null Count  Dtype  \n",
      "---  ------   --------------  -----  \n",
      " 0   user_id  2277 non-null   int64  \n",
      " 1   month    2277 non-null   int32  \n",
      " 2   mb_used  2277 non-null   float64\n",
      " 3   gb_used  2277 non-null   int64  \n",
      "dtypes: float64(1), int32(1), int64(2)\n",
      "memory usage: 62.4 KB\n",
      "\n",
      "TABLA internet_per_month\n"
     ]
    },
    {
     "data": {
      "text/html": [
       "<div>\n",
       "<style scoped>\n",
       "    .dataframe tbody tr th:only-of-type {\n",
       "        vertical-align: middle;\n",
       "    }\n",
       "\n",
       "    .dataframe tbody tr th {\n",
       "        vertical-align: top;\n",
       "    }\n",
       "\n",
       "    .dataframe thead th {\n",
       "        text-align: right;\n",
       "    }\n",
       "</style>\n",
       "<table border=\"1\" class=\"dataframe\">\n",
       "  <thead>\n",
       "    <tr style=\"text-align: right;\">\n",
       "      <th></th>\n",
       "      <th>user_id</th>\n",
       "      <th>month</th>\n",
       "      <th>mb_used</th>\n",
       "      <th>gb_used</th>\n",
       "    </tr>\n",
       "  </thead>\n",
       "  <tbody>\n",
       "    <tr>\n",
       "      <th>0</th>\n",
       "      <td>1000</td>\n",
       "      <td>12</td>\n",
       "      <td>1901.47</td>\n",
       "      <td>2</td>\n",
       "    </tr>\n",
       "    <tr>\n",
       "      <th>1</th>\n",
       "      <td>1001</td>\n",
       "      <td>8</td>\n",
       "      <td>6919.15</td>\n",
       "      <td>7</td>\n",
       "    </tr>\n",
       "    <tr>\n",
       "      <th>2</th>\n",
       "      <td>1001</td>\n",
       "      <td>9</td>\n",
       "      <td>13314.82</td>\n",
       "      <td>14</td>\n",
       "    </tr>\n",
       "    <tr>\n",
       "      <th>3</th>\n",
       "      <td>1001</td>\n",
       "      <td>10</td>\n",
       "      <td>22330.49</td>\n",
       "      <td>22</td>\n",
       "    </tr>\n",
       "    <tr>\n",
       "      <th>4</th>\n",
       "      <td>1001</td>\n",
       "      <td>11</td>\n",
       "      <td>18504.30</td>\n",
       "      <td>19</td>\n",
       "    </tr>\n",
       "  </tbody>\n",
       "</table>\n",
       "</div>"
      ],
      "text/plain": [
       "   user_id  month   mb_used  gb_used\n",
       "0     1000     12   1901.47        2\n",
       "1     1001      8   6919.15        7\n",
       "2     1001      9  13314.82       14\n",
       "3     1001     10  22330.49       22\n",
       "4     1001     11  18504.30       19"
      ]
     },
     "metadata": {},
     "output_type": "display_data"
    }
   ],
   "source": [
    "# Calcula el volumen del tráfico de Internet usado por cada usuario al mes. Guarda el resultado.\n",
    "\n",
    "# Extraemos el número de mes de la columna 'session_date' y lo almacenamos en una nueva columna 'month'\n",
    "internet['month'] = internet['session_date'].dt.month\n",
    "print('SE AGREGO LA COLUMNA month A LA TABLA internet\\n')\n",
    "internet.info()\n",
    "\n",
    "# Agrupamos por usuario y mes, y sumamos el volumen total de datos usados (en MB)\n",
    "internet_per_month = internet.groupby(['user_id', 'month']).agg(\n",
    "    mb_used=('mb_used', 'sum')  # Sumamos el uso de datos en MB por usuario y mes\n",
    ").reset_index()  # Restablecemos el índice para obtener un DataFrame ordenado\n",
    "\n",
    "# Agregamos la columna gb_used con los MB convertidos a GB y redondeados hacia arriba\n",
    "internet_per_month['gb_used'] = np.ceil(internet_per_month['mb_used'] / 1024).astype(int)\n",
    "\n",
    "print('\\nAGRUPACION DE TABLA internet POR USUARIO Y MES, CONTEO DE VOLUMEN TOTAL DE DATOS POR MES')\n",
    "print('internet_per_month\\n')\n",
    "internet_per_month.info()\n",
    "print('\\nTABLA internet_per_month')\n",
    "display(internet_per_month.head())"
   ]
  },
  {
   "cell_type": "markdown",
   "metadata": {
    "id": "nArNXatJNrJt"
   },
   "source": [
    "Se lograron calcular correctamente las métricas mensuales por usuario para llamadas, minutos usados, mensajes enviados y tráfico de Internet en MB.  \n",
    "Los resultados muestran que la información fue agrupada de forma consistente por `user_id` y `month`, permitiendo obtener el volumen de uso de cada servicio por periodo.  \n",
    "Estos datos servirán como base para fusionar la información, añadir las condiciones de las tarifas y proceder con el cálculo de ingresos mensuales por usuario."
   ]
  },
  {
   "cell_type": "markdown",
   "metadata": {
    "id": "VDfYXnj80q1H"
   },
   "source": [
    "---\n",
    "\n",
    "En esta etapa fusionaremos los datos agregados de llamadas, minutos, mensajes e internet por usuario y mes para consolidarlos en un solo DataFrame.\n",
    "Posteriormente, se añadirá la información de las tarifas de cada usuario para poder realizar los cálculos de ingresos y análisis posteriores.\n",
    "Esto permitirá tener un registro único por usuario y mes que contemple todo el uso de los servicios y las condiciones tarifarias asociadas.\n"
   ]
  },
  {
   "cell_type": "code",
   "execution_count": 23,
   "metadata": {
    "colab": {
     "base_uri": "https://localhost:8080/",
     "height": 553
    },
    "executionInfo": {
     "elapsed": 160,
     "status": "ok",
     "timestamp": 1750970906552,
     "user": {
      "displayName": "Carlos Jiménez",
      "userId": "16016936490932337538"
     },
     "user_tz": 360
    },
    "id": "FW99ykyf0q1H",
    "outputId": "c85893d8-3786-4475-d0ec-045200fabd38"
   },
   "outputs": [
    {
     "name": "stdout",
     "output_type": "stream",
     "text": [
      "\n",
      "UNION DE TABLAS DE CONSUMO POR MES calls/minutes/messages/internet_per_month\n",
      "user_month_data\n",
      "\n",
      "<class 'pandas.core.frame.DataFrame'>\n",
      "RangeIndex: 2293 entries, 0 to 2292\n",
      "Data columns (total 7 columns):\n",
      " #   Column          Non-Null Count  Dtype  \n",
      "---  ------          --------------  -----  \n",
      " 0   user_id         2293 non-null   int64  \n",
      " 1   month           2293 non-null   int32  \n",
      " 2   calls_count     2256 non-null   float64\n",
      " 3   total_minutes   2256 non-null   float64\n",
      " 4   messages_count  1806 non-null   float64\n",
      " 5   mb_used         2277 non-null   float64\n",
      " 6   gb_used         2277 non-null   float64\n",
      "dtypes: float64(5), int32(1), int64(1)\n",
      "memory usage: 116.6 KB\n",
      "\n",
      "TABLA user_month_data\n"
     ]
    },
    {
     "data": {
      "text/html": [
       "<div>\n",
       "<style scoped>\n",
       "    .dataframe tbody tr th:only-of-type {\n",
       "        vertical-align: middle;\n",
       "    }\n",
       "\n",
       "    .dataframe tbody tr th {\n",
       "        vertical-align: top;\n",
       "    }\n",
       "\n",
       "    .dataframe thead th {\n",
       "        text-align: right;\n",
       "    }\n",
       "</style>\n",
       "<table border=\"1\" class=\"dataframe\">\n",
       "  <thead>\n",
       "    <tr style=\"text-align: right;\">\n",
       "      <th></th>\n",
       "      <th>user_id</th>\n",
       "      <th>month</th>\n",
       "      <th>calls_count</th>\n",
       "      <th>total_minutes</th>\n",
       "      <th>messages_count</th>\n",
       "      <th>mb_used</th>\n",
       "      <th>gb_used</th>\n",
       "    </tr>\n",
       "  </thead>\n",
       "  <tbody>\n",
       "    <tr>\n",
       "      <th>0</th>\n",
       "      <td>1000</td>\n",
       "      <td>12</td>\n",
       "      <td>16.0</td>\n",
       "      <td>124.0</td>\n",
       "      <td>11.0</td>\n",
       "      <td>1901.47</td>\n",
       "      <td>2.0</td>\n",
       "    </tr>\n",
       "    <tr>\n",
       "      <th>1</th>\n",
       "      <td>1001</td>\n",
       "      <td>8</td>\n",
       "      <td>22.0</td>\n",
       "      <td>182.0</td>\n",
       "      <td>30.0</td>\n",
       "      <td>6919.15</td>\n",
       "      <td>7.0</td>\n",
       "    </tr>\n",
       "    <tr>\n",
       "      <th>2</th>\n",
       "      <td>1001</td>\n",
       "      <td>9</td>\n",
       "      <td>38.0</td>\n",
       "      <td>315.0</td>\n",
       "      <td>44.0</td>\n",
       "      <td>13314.82</td>\n",
       "      <td>14.0</td>\n",
       "    </tr>\n",
       "    <tr>\n",
       "      <th>3</th>\n",
       "      <td>1001</td>\n",
       "      <td>10</td>\n",
       "      <td>47.0</td>\n",
       "      <td>393.0</td>\n",
       "      <td>53.0</td>\n",
       "      <td>22330.49</td>\n",
       "      <td>22.0</td>\n",
       "    </tr>\n",
       "    <tr>\n",
       "      <th>4</th>\n",
       "      <td>1001</td>\n",
       "      <td>11</td>\n",
       "      <td>49.0</td>\n",
       "      <td>426.0</td>\n",
       "      <td>36.0</td>\n",
       "      <td>18504.30</td>\n",
       "      <td>19.0</td>\n",
       "    </tr>\n",
       "  </tbody>\n",
       "</table>\n",
       "</div>"
      ],
      "text/plain": [
       "   user_id  month  calls_count  total_minutes  messages_count   mb_used  \\\n",
       "0     1000     12         16.0          124.0            11.0   1901.47   \n",
       "1     1001      8         22.0          182.0            30.0   6919.15   \n",
       "2     1001      9         38.0          315.0            44.0  13314.82   \n",
       "3     1001     10         47.0          393.0            53.0  22330.49   \n",
       "4     1001     11         49.0          426.0            36.0  18504.30   \n",
       "\n",
       "   gb_used  \n",
       "0      2.0  \n",
       "1      7.0  \n",
       "2     14.0  \n",
       "3     22.0  \n",
       "4     19.0  "
      ]
     },
     "metadata": {},
     "output_type": "display_data"
    }
   ],
   "source": [
    "# Fusiona los datos de llamadas, minutos, mensajes e internet con base en user_id y month\n",
    "\n",
    "# Unimos llamadas y minutos\n",
    "user_month_data = pd.merge(calls_per_month, minutes_per_month, on=['user_id', 'month'], how='outer')\n",
    "\n",
    "# Unimos con mensajes\n",
    "user_month_data = pd.merge(user_month_data, messages_per_month, on=['user_id', 'month'], how='outer')\n",
    "\n",
    "# Unimos con internet\n",
    "user_month_data = pd.merge(user_month_data, internet_per_month, on=['user_id', 'month'], how='outer')\n",
    "\n",
    "print('\\nUNION DE TABLAS DE CONSUMO POR MES calls/minutes/messages/internet_per_month')\n",
    "print('user_month_data\\n')\n",
    "user_month_data.info()\n",
    "print('\\nTABLA user_month_data')\n",
    "display(user_month_data.head())\n"
   ]
  },
  {
   "cell_type": "code",
   "execution_count": 24,
   "metadata": {
    "colab": {
     "base_uri": "https://localhost:8080/",
     "height": 1000
    },
    "executionInfo": {
     "elapsed": 161,
     "status": "ok",
     "timestamp": 1750970906717,
     "user": {
      "displayName": "Carlos Jiménez",
      "userId": "16016936490932337538"
     },
     "user_tz": 360
    },
    "id": "0dNOXHag0q1H",
    "outputId": "a6eace4c-3817-45b7-85df-50f503849216"
   },
   "outputs": [
    {
     "name": "stdout",
     "output_type": "stream",
     "text": [
      "UNION DE TABLAS users Y plans A TABLA user_month\n",
      "\n",
      "<class 'pandas.core.frame.DataFrame'>\n",
      "RangeIndex: 2293 entries, 0 to 2292\n",
      "Data columns (total 18 columns):\n",
      " #   Column                 Non-Null Count  Dtype  \n",
      "---  ------                 --------------  -----  \n",
      " 0   user_id                2293 non-null   int64  \n",
      " 1   month                  2293 non-null   int32  \n",
      " 2   calls_count            2256 non-null   float64\n",
      " 3   total_minutes          2256 non-null   float64\n",
      " 4   messages_count         1806 non-null   float64\n",
      " 5   mb_used                2277 non-null   float64\n",
      " 6   gb_used                2277 non-null   float64\n",
      " 7   plan                   2293 non-null   object \n",
      " 8   city                   2293 non-null   object \n",
      " 9   messages_included      2293 non-null   int64  \n",
      " 10  mb_per_month_included  2293 non-null   int64  \n",
      " 11  minutes_included       2293 non-null   int64  \n",
      " 12  usd_monthly_pay        2293 non-null   int64  \n",
      " 13  usd_per_gb             2293 non-null   int64  \n",
      " 14  usd_per_message        2293 non-null   float64\n",
      " 15  usd_per_minute         2293 non-null   float64\n",
      " 16  plan_name              2293 non-null   object \n",
      " 17  gb_per_month_included  2293 non-null   int64  \n",
      "dtypes: float64(7), int32(1), int64(7), object(3)\n",
      "memory usage: 313.6+ KB\n",
      "\n",
      "TABLA user_month_data\n"
     ]
    },
    {
     "data": {
      "text/html": [
       "<div>\n",
       "<style scoped>\n",
       "    .dataframe tbody tr th:only-of-type {\n",
       "        vertical-align: middle;\n",
       "    }\n",
       "\n",
       "    .dataframe tbody tr th {\n",
       "        vertical-align: top;\n",
       "    }\n",
       "\n",
       "    .dataframe thead th {\n",
       "        text-align: right;\n",
       "    }\n",
       "</style>\n",
       "<table border=\"1\" class=\"dataframe\">\n",
       "  <thead>\n",
       "    <tr style=\"text-align: right;\">\n",
       "      <th></th>\n",
       "      <th>user_id</th>\n",
       "      <th>month</th>\n",
       "      <th>calls_count</th>\n",
       "      <th>total_minutes</th>\n",
       "      <th>messages_count</th>\n",
       "      <th>mb_used</th>\n",
       "      <th>gb_used</th>\n",
       "      <th>plan</th>\n",
       "      <th>city</th>\n",
       "      <th>messages_included</th>\n",
       "      <th>mb_per_month_included</th>\n",
       "      <th>minutes_included</th>\n",
       "      <th>usd_monthly_pay</th>\n",
       "      <th>usd_per_gb</th>\n",
       "      <th>usd_per_message</th>\n",
       "      <th>usd_per_minute</th>\n",
       "      <th>plan_name</th>\n",
       "      <th>gb_per_month_included</th>\n",
       "    </tr>\n",
       "  </thead>\n",
       "  <tbody>\n",
       "    <tr>\n",
       "      <th>0</th>\n",
       "      <td>1000</td>\n",
       "      <td>12</td>\n",
       "      <td>16.0</td>\n",
       "      <td>124.0</td>\n",
       "      <td>11.0</td>\n",
       "      <td>1901.47</td>\n",
       "      <td>2.0</td>\n",
       "      <td>ultimate</td>\n",
       "      <td>Atlanta-Sandy Springs-Roswell, GA MSA</td>\n",
       "      <td>1000</td>\n",
       "      <td>30720</td>\n",
       "      <td>3000</td>\n",
       "      <td>70</td>\n",
       "      <td>7</td>\n",
       "      <td>0.01</td>\n",
       "      <td>0.01</td>\n",
       "      <td>ultimate</td>\n",
       "      <td>30</td>\n",
       "    </tr>\n",
       "    <tr>\n",
       "      <th>1</th>\n",
       "      <td>1001</td>\n",
       "      <td>8</td>\n",
       "      <td>22.0</td>\n",
       "      <td>182.0</td>\n",
       "      <td>30.0</td>\n",
       "      <td>6919.15</td>\n",
       "      <td>7.0</td>\n",
       "      <td>surf</td>\n",
       "      <td>Seattle-Tacoma-Bellevue, WA MSA</td>\n",
       "      <td>50</td>\n",
       "      <td>15360</td>\n",
       "      <td>500</td>\n",
       "      <td>20</td>\n",
       "      <td>10</td>\n",
       "      <td>0.03</td>\n",
       "      <td>0.03</td>\n",
       "      <td>surf</td>\n",
       "      <td>15</td>\n",
       "    </tr>\n",
       "    <tr>\n",
       "      <th>2</th>\n",
       "      <td>1001</td>\n",
       "      <td>9</td>\n",
       "      <td>38.0</td>\n",
       "      <td>315.0</td>\n",
       "      <td>44.0</td>\n",
       "      <td>13314.82</td>\n",
       "      <td>14.0</td>\n",
       "      <td>surf</td>\n",
       "      <td>Seattle-Tacoma-Bellevue, WA MSA</td>\n",
       "      <td>50</td>\n",
       "      <td>15360</td>\n",
       "      <td>500</td>\n",
       "      <td>20</td>\n",
       "      <td>10</td>\n",
       "      <td>0.03</td>\n",
       "      <td>0.03</td>\n",
       "      <td>surf</td>\n",
       "      <td>15</td>\n",
       "    </tr>\n",
       "    <tr>\n",
       "      <th>3</th>\n",
       "      <td>1001</td>\n",
       "      <td>10</td>\n",
       "      <td>47.0</td>\n",
       "      <td>393.0</td>\n",
       "      <td>53.0</td>\n",
       "      <td>22330.49</td>\n",
       "      <td>22.0</td>\n",
       "      <td>surf</td>\n",
       "      <td>Seattle-Tacoma-Bellevue, WA MSA</td>\n",
       "      <td>50</td>\n",
       "      <td>15360</td>\n",
       "      <td>500</td>\n",
       "      <td>20</td>\n",
       "      <td>10</td>\n",
       "      <td>0.03</td>\n",
       "      <td>0.03</td>\n",
       "      <td>surf</td>\n",
       "      <td>15</td>\n",
       "    </tr>\n",
       "    <tr>\n",
       "      <th>4</th>\n",
       "      <td>1001</td>\n",
       "      <td>11</td>\n",
       "      <td>49.0</td>\n",
       "      <td>426.0</td>\n",
       "      <td>36.0</td>\n",
       "      <td>18504.30</td>\n",
       "      <td>19.0</td>\n",
       "      <td>surf</td>\n",
       "      <td>Seattle-Tacoma-Bellevue, WA MSA</td>\n",
       "      <td>50</td>\n",
       "      <td>15360</td>\n",
       "      <td>500</td>\n",
       "      <td>20</td>\n",
       "      <td>10</td>\n",
       "      <td>0.03</td>\n",
       "      <td>0.03</td>\n",
       "      <td>surf</td>\n",
       "      <td>15</td>\n",
       "    </tr>\n",
       "  </tbody>\n",
       "</table>\n",
       "</div>"
      ],
      "text/plain": [
       "   user_id  month  calls_count  total_minutes  messages_count   mb_used  \\\n",
       "0     1000     12         16.0          124.0            11.0   1901.47   \n",
       "1     1001      8         22.0          182.0            30.0   6919.15   \n",
       "2     1001      9         38.0          315.0            44.0  13314.82   \n",
       "3     1001     10         47.0          393.0            53.0  22330.49   \n",
       "4     1001     11         49.0          426.0            36.0  18504.30   \n",
       "\n",
       "   gb_used      plan                                   city  \\\n",
       "0      2.0  ultimate  Atlanta-Sandy Springs-Roswell, GA MSA   \n",
       "1      7.0      surf        Seattle-Tacoma-Bellevue, WA MSA   \n",
       "2     14.0      surf        Seattle-Tacoma-Bellevue, WA MSA   \n",
       "3     22.0      surf        Seattle-Tacoma-Bellevue, WA MSA   \n",
       "4     19.0      surf        Seattle-Tacoma-Bellevue, WA MSA   \n",
       "\n",
       "   messages_included  mb_per_month_included  minutes_included  \\\n",
       "0               1000                  30720              3000   \n",
       "1                 50                  15360               500   \n",
       "2                 50                  15360               500   \n",
       "3                 50                  15360               500   \n",
       "4                 50                  15360               500   \n",
       "\n",
       "   usd_monthly_pay  usd_per_gb  usd_per_message  usd_per_minute plan_name  \\\n",
       "0               70           7             0.01            0.01  ultimate   \n",
       "1               20          10             0.03            0.03      surf   \n",
       "2               20          10             0.03            0.03      surf   \n",
       "3               20          10             0.03            0.03      surf   \n",
       "4               20          10             0.03            0.03      surf   \n",
       "\n",
       "   gb_per_month_included  \n",
       "0                     30  \n",
       "1                     15  \n",
       "2                     15  \n",
       "3                     15  \n",
       "4                     15  "
      ]
     },
     "metadata": {},
     "output_type": "display_data"
    }
   ],
   "source": [
    "# Añade la información de la tarifa\n",
    "\n",
    "# Primero unimos con users para añadir el plan\n",
    "user_month_data = pd.merge(user_month_data, users[['user_id', 'plan', 'city']], on='user_id', how='left')\n",
    "\n",
    "# Ahora unimos con plans para añadir los detalles de la tarifa correspondiente\n",
    "user_month_data = pd.merge(user_month_data, plans, left_on='plan', right_on='plan_name', how='left')\n",
    "\n",
    "print('UNION DE TABLAS users Y plans A TABLA user_month\\n')\n",
    "user_month_data.info()\n",
    "print('\\nTABLA user_month_data')\n",
    "display(user_month_data.head())\n"
   ]
  },
  {
   "cell_type": "markdown",
   "metadata": {
    "id": "xfew_RVJWUhU"
   },
   "source": [
    "En esta fase se logró enriquecer el DataFrame combinado al integrar la información completa de los planes de tarifas. Primero se añadió el nombre del plan de cada usuario mediante un merge con la tabla de usuarios. Luego, se incorporaron los detalles específicos de cada plan (como límites incluidos y costos por excedente) a través de un merge con la tabla de planes.\n",
    "\n",
    "El resultado es un DataFrame completo y consolidado que contiene, por cada usuario y mes, el consumo de llamadas, minutos, mensajes e internet junto con los datos de la tarifa contratada. Este DataFrame será clave para calcular los ingresos mensuales y analizar el comportamiento de los usuarios respecto a sus planes."
   ]
  },
  {
   "cell_type": "markdown",
   "metadata": {
    "id": "1IwGo4wg0q1I"
   },
   "source": [
    "---\n",
    "\n",
    "En este paso vamos a calcular el ingreso mensual por usuario. Para ello:\n",
    "\n",
    "- Restaremos de cada consumo (minutos, mensajes y datos) los límites incluidos en su plan.\n",
    "- Calcularemos el excedente de cada tipo de servicio.\n",
    "- Multiplicaremos cada excedente por el costo adicional correspondiente.\n",
    "- Sumaremos estos cargos al costo mensual fijo de su plan.\n",
    "- Obtendremos así el ingreso total que representa cada usuario en cada mes.\n",
    "\n",
    "Este cálculo permitirá evaluar qué tan rentables son los distintos planes en función del uso real de los usuarios."
   ]
  },
  {
   "cell_type": "code",
   "execution_count": 25,
   "metadata": {
    "colab": {
     "base_uri": "https://localhost:8080/",
     "height": 988
    },
    "executionInfo": {
     "elapsed": 172,
     "status": "ok",
     "timestamp": 1750970906893,
     "user": {
      "displayName": "Carlos Jiménez",
      "userId": "16016936490932337538"
     },
     "user_tz": 360
    },
    "id": "5FGCf_c60q1I",
    "outputId": "54b59404-93b9-4930-b4af-dab6a66041fe"
   },
   "outputs": [
    {
     "name": "stdout",
     "output_type": "stream",
     "text": [
      "INFORMACION DE TABLA user_month_data\n",
      "\n",
      "<class 'pandas.core.frame.DataFrame'>\n",
      "RangeIndex: 2293 entries, 0 to 2292\n",
      "Data columns (total 25 columns):\n",
      " #   Column                 Non-Null Count  Dtype  \n",
      "---  ------                 --------------  -----  \n",
      " 0   user_id                2293 non-null   int64  \n",
      " 1   month                  2293 non-null   int32  \n",
      " 2   calls_count            2256 non-null   float64\n",
      " 3   total_minutes          2256 non-null   float64\n",
      " 4   messages_count         1806 non-null   float64\n",
      " 5   mb_used                2277 non-null   float64\n",
      " 6   gb_used                2277 non-null   float64\n",
      " 7   plan                   2293 non-null   object \n",
      " 8   city                   2293 non-null   object \n",
      " 9   messages_included      2293 non-null   int64  \n",
      " 10  mb_per_month_included  2293 non-null   int64  \n",
      " 11  minutes_included       2293 non-null   int64  \n",
      " 12  usd_monthly_pay        2293 non-null   int64  \n",
      " 13  usd_per_gb             2293 non-null   int64  \n",
      " 14  usd_per_message        2293 non-null   float64\n",
      " 15  usd_per_minute         2293 non-null   float64\n",
      " 16  plan_name              2293 non-null   object \n",
      " 17  gb_per_month_included  2293 non-null   int64  \n",
      " 18  minutes_over           2256 non-null   float64\n",
      " 19  cost_minutes_over      2256 non-null   float64\n",
      " 20  messages_over          1806 non-null   float64\n",
      " 21  cost_messages_over     1806 non-null   float64\n",
      " 22  gb_over                2277 non-null   float64\n",
      " 23  cost_gb_over           2277 non-null   float64\n",
      " 24  income                 1758 non-null   float64\n",
      "dtypes: float64(14), int32(1), int64(7), object(3)\n",
      "memory usage: 439.0+ KB\n",
      "\n",
      "INGRESOS CALCULADOS, DATOS DE TABLA user_month_data\n"
     ]
    },
    {
     "data": {
      "text/html": [
       "<div>\n",
       "<style scoped>\n",
       "    .dataframe tbody tr th:only-of-type {\n",
       "        vertical-align: middle;\n",
       "    }\n",
       "\n",
       "    .dataframe tbody tr th {\n",
       "        vertical-align: top;\n",
       "    }\n",
       "\n",
       "    .dataframe thead th {\n",
       "        text-align: right;\n",
       "    }\n",
       "</style>\n",
       "<table border=\"1\" class=\"dataframe\">\n",
       "  <thead>\n",
       "    <tr style=\"text-align: right;\">\n",
       "      <th></th>\n",
       "      <th>user_id</th>\n",
       "      <th>month</th>\n",
       "      <th>usd_monthly_pay</th>\n",
       "      <th>cost_minutes_over</th>\n",
       "      <th>cost_messages_over</th>\n",
       "      <th>cost_gb_over</th>\n",
       "      <th>income</th>\n",
       "    </tr>\n",
       "  </thead>\n",
       "  <tbody>\n",
       "    <tr>\n",
       "      <th>0</th>\n",
       "      <td>1000</td>\n",
       "      <td>12</td>\n",
       "      <td>70</td>\n",
       "      <td>0.00</td>\n",
       "      <td>0.00</td>\n",
       "      <td>0.0</td>\n",
       "      <td>70.00</td>\n",
       "    </tr>\n",
       "    <tr>\n",
       "      <th>1</th>\n",
       "      <td>1001</td>\n",
       "      <td>8</td>\n",
       "      <td>20</td>\n",
       "      <td>0.00</td>\n",
       "      <td>0.00</td>\n",
       "      <td>0.0</td>\n",
       "      <td>20.00</td>\n",
       "    </tr>\n",
       "    <tr>\n",
       "      <th>2</th>\n",
       "      <td>1001</td>\n",
       "      <td>9</td>\n",
       "      <td>20</td>\n",
       "      <td>0.00</td>\n",
       "      <td>0.00</td>\n",
       "      <td>0.0</td>\n",
       "      <td>20.00</td>\n",
       "    </tr>\n",
       "    <tr>\n",
       "      <th>3</th>\n",
       "      <td>1001</td>\n",
       "      <td>10</td>\n",
       "      <td>20</td>\n",
       "      <td>0.00</td>\n",
       "      <td>0.09</td>\n",
       "      <td>70.0</td>\n",
       "      <td>90.09</td>\n",
       "    </tr>\n",
       "    <tr>\n",
       "      <th>4</th>\n",
       "      <td>1001</td>\n",
       "      <td>11</td>\n",
       "      <td>20</td>\n",
       "      <td>0.00</td>\n",
       "      <td>0.00</td>\n",
       "      <td>40.0</td>\n",
       "      <td>60.00</td>\n",
       "    </tr>\n",
       "    <tr>\n",
       "      <th>5</th>\n",
       "      <td>1001</td>\n",
       "      <td>12</td>\n",
       "      <td>20</td>\n",
       "      <td>0.00</td>\n",
       "      <td>0.00</td>\n",
       "      <td>40.0</td>\n",
       "      <td>60.00</td>\n",
       "    </tr>\n",
       "    <tr>\n",
       "      <th>6</th>\n",
       "      <td>1002</td>\n",
       "      <td>10</td>\n",
       "      <td>20</td>\n",
       "      <td>0.00</td>\n",
       "      <td>0.00</td>\n",
       "      <td>0.0</td>\n",
       "      <td>20.00</td>\n",
       "    </tr>\n",
       "    <tr>\n",
       "      <th>7</th>\n",
       "      <td>1002</td>\n",
       "      <td>11</td>\n",
       "      <td>20</td>\n",
       "      <td>0.00</td>\n",
       "      <td>0.00</td>\n",
       "      <td>40.0</td>\n",
       "      <td>60.00</td>\n",
       "    </tr>\n",
       "    <tr>\n",
       "      <th>8</th>\n",
       "      <td>1002</td>\n",
       "      <td>12</td>\n",
       "      <td>20</td>\n",
       "      <td>0.00</td>\n",
       "      <td>0.00</td>\n",
       "      <td>0.0</td>\n",
       "      <td>20.00</td>\n",
       "    </tr>\n",
       "    <tr>\n",
       "      <th>9</th>\n",
       "      <td>1003</td>\n",
       "      <td>12</td>\n",
       "      <td>20</td>\n",
       "      <td>18.12</td>\n",
       "      <td>0.00</td>\n",
       "      <td>120.0</td>\n",
       "      <td>158.12</td>\n",
       "    </tr>\n",
       "  </tbody>\n",
       "</table>\n",
       "</div>"
      ],
      "text/plain": [
       "   user_id  month  usd_monthly_pay  cost_minutes_over  cost_messages_over  \\\n",
       "0     1000     12               70               0.00                0.00   \n",
       "1     1001      8               20               0.00                0.00   \n",
       "2     1001      9               20               0.00                0.00   \n",
       "3     1001     10               20               0.00                0.09   \n",
       "4     1001     11               20               0.00                0.00   \n",
       "5     1001     12               20               0.00                0.00   \n",
       "6     1002     10               20               0.00                0.00   \n",
       "7     1002     11               20               0.00                0.00   \n",
       "8     1002     12               20               0.00                0.00   \n",
       "9     1003     12               20              18.12                0.00   \n",
       "\n",
       "   cost_gb_over  income  \n",
       "0           0.0   70.00  \n",
       "1           0.0   20.00  \n",
       "2           0.0   20.00  \n",
       "3          70.0   90.09  \n",
       "4          40.0   60.00  \n",
       "5          40.0   60.00  \n",
       "6           0.0   20.00  \n",
       "7          40.0   60.00  \n",
       "8           0.0   20.00  \n",
       "9         120.0  158.12  "
      ]
     },
     "metadata": {},
     "output_type": "display_data"
    }
   ],
   "source": [
    "# Calcula el ingreso mensual para cada usuario\n",
    "\n",
    "# Calculamos el excedente del usuario por mes\n",
    "# Excedente de minutos utilizados\n",
    "user_month_data['minutes_over'] = (user_month_data['total_minutes'] - user_month_data['minutes_included']).clip(lower=0)\n",
    "user_month_data['cost_minutes_over'] = user_month_data['minutes_over'] * user_month_data['usd_per_minute']\n",
    "# Excedente de mensajes utilizados\n",
    "user_month_data['messages_over'] = (user_month_data['messages_count'] - user_month_data['messages_included']).clip(lower=0)\n",
    "user_month_data['cost_messages_over'] = user_month_data['messages_over'] * user_month_data['usd_per_message']\n",
    "# Excedente de datos utilizados\n",
    "user_month_data['gb_over'] = (user_month_data['gb_used'] - user_month_data['gb_per_month_included']).clip(lower=0)\n",
    "user_month_data['cost_gb_over'] = user_month_data['gb_over'] * user_month_data['usd_per_gb']\n",
    "\n",
    "# Calculamos el ingreso por excedentes\n",
    "user_month_data['income'] = (\n",
    "    user_month_data['usd_monthly_pay'] +\n",
    "    user_month_data['cost_minutes_over'] +\n",
    "    user_month_data['cost_messages_over'] +\n",
    "    user_month_data['cost_gb_over']\n",
    ")\n",
    "\n",
    "# Mostramos las primeras filas con los ingresos calculados\n",
    "print('INFORMACION DE TABLA user_month_data\\n')\n",
    "user_month_data.info()\n",
    "print('\\nINGRESOS CALCULADOS, DATOS DE TABLA user_month_data')\n",
    "display(user_month_data[['user_id', 'month', 'usd_monthly_pay', 'cost_minutes_over', 'cost_messages_over', 'cost_gb_over', 'income']].head(10))\n"
   ]
  },
  {
   "cell_type": "markdown",
   "metadata": {
    "id": "m-4oTZejnljD"
   },
   "source": [
    "En este bloque hemos calculado correctamente el ingreso mensual de cada usuario considerando:\n",
    "\n",
    "- El plan mensual base al que están suscritos.\n",
    "- Los cargos adicionales por minutos, mensajes de texto y datos que exceden los límites incluidos en el plan.\n",
    "- Para los datos excedentes, aplicamos el redondeo al alza de los gigabytes utilizados (por ejemplo, si el usuario consume 1025 MB se le cobran 2 GB), lo que asegura que los cargos se ajusten a la política establecida por la compañía.\n",
    "- Se utilizaron funciones como `clip(lower=0)` para evitar valores negativos.\n",
    "\n",
    "Esto nos deja un DataFrame listo con los ingresos calculados de forma realista y coherente para cada usuario por mes."
   ]
  },
  {
   "cell_type": "markdown",
   "metadata": {
    "id": "-jtyHzJb0q1I"
   },
   "source": [
    "## 4.2. Estudia el comportamiento de usuario"
   ]
  },
  {
   "cell_type": "markdown",
   "metadata": {
    "id": "AxU3Y0N70q1J"
   },
   "source": [
    "En esta etapa del análisis se busca calcular estadísticas descriptivas y realizar visualizaciones útiles para entender el comportamiento de los usuarios con relación a sus consumos.  \n",
    "El objetivo es comparar el uso de los distintos servicios (llamadas, mensajes, datos) en función de los planes contratados (Surf o Ultimate) para determinar cuál plan resulta más rentable para la compañía.\n",
    "\n",
    "En particular:\n",
    "- Se analizarán las duraciones de llamadas, los minutos mensuales usados y su distribución según el plan y mes.\n",
    "- Se generarán gráficos (barras, histogramas, diagramas de caja) para facilitar la interpretación.\n",
    "- Se estudiará si hay diferencias claras en los patrones de uso entre los planes.\n",
    "\n",
    "Las conclusiones obtenidas permitirán fundamentar recomendaciones sobre los planes y sus rentabilidades."
   ]
  },
  {
   "cell_type": "markdown",
   "metadata": {
    "id": "vtW4CJEe0q1J"
   },
   "source": [
    "### 4.2.1 Llamadas"
   ]
  },
  {
   "cell_type": "markdown",
   "metadata": {
    "id": "AehbhUSYV9Jh"
   },
   "source": [
    "En esta sección se analizará el comportamiento de los usuarios con relación a sus llamadas telefónicas.  \n",
    "Se pretende:\n",
    "- Comparar la **duración promedio de llamadas** por plan y por mes, y visualizarla mediante un gráfico de barras.\n",
    "- Comparar la **distribución de los minutos mensuales usados** por los usuarios de cada plan, mediante un histograma.\n",
    "\n",
    "Estos análisis permitirán identificar patrones de uso que podrían estar asociados a las diferencias entre los planes contratados (Surf y Ultimate) y a las necesidades reales de los usuarios en distintos momentos del año."
   ]
  },
  {
   "cell_type": "code",
   "execution_count": 26,
   "metadata": {
    "colab": {
     "base_uri": "https://localhost:8080/",
     "height": 713
    },
    "executionInfo": {
     "elapsed": 707,
     "status": "ok",
     "timestamp": 1750970907596,
     "user": {
      "displayName": "Carlos Jiménez",
      "userId": "16016936490932337538"
     },
     "user_tz": 360
    },
    "id": "Jf5v5--k0q1J",
    "outputId": "c0a2f3ab-cc8d-4a1a-fc37-bbc83e72d657"
   },
   "outputs": [
    {
     "data": {
      "text/html": [
       "<div>\n",
       "<style scoped>\n",
       "    .dataframe tbody tr th:only-of-type {\n",
       "        vertical-align: middle;\n",
       "    }\n",
       "\n",
       "    .dataframe tbody tr th {\n",
       "        vertical-align: top;\n",
       "    }\n",
       "\n",
       "    .dataframe thead th {\n",
       "        text-align: right;\n",
       "    }\n",
       "</style>\n",
       "<table border=\"1\" class=\"dataframe\">\n",
       "  <thead>\n",
       "    <tr style=\"text-align: right;\">\n",
       "      <th></th>\n",
       "      <th>plan</th>\n",
       "      <th>month</th>\n",
       "      <th>total_minutes</th>\n",
       "    </tr>\n",
       "  </thead>\n",
       "  <tbody>\n",
       "    <tr>\n",
       "      <th>0</th>\n",
       "      <td>surf</td>\n",
       "      <td>1</td>\n",
       "      <td>203.00</td>\n",
       "    </tr>\n",
       "    <tr>\n",
       "      <th>1</th>\n",
       "      <td>surf</td>\n",
       "      <td>2</td>\n",
       "      <td>297.00</td>\n",
       "    </tr>\n",
       "    <tr>\n",
       "      <th>2</th>\n",
       "      <td>surf</td>\n",
       "      <td>3</td>\n",
       "      <td>330.00</td>\n",
       "    </tr>\n",
       "    <tr>\n",
       "      <th>3</th>\n",
       "      <td>surf</td>\n",
       "      <td>4</td>\n",
       "      <td>351.54</td>\n",
       "    </tr>\n",
       "    <tr>\n",
       "      <th>4</th>\n",
       "      <td>surf</td>\n",
       "      <td>5</td>\n",
       "      <td>410.24</td>\n",
       "    </tr>\n",
       "  </tbody>\n",
       "</table>\n",
       "</div>"
      ],
      "text/plain": [
       "   plan  month  total_minutes\n",
       "0  surf      1         203.00\n",
       "1  surf      2         297.00\n",
       "2  surf      3         330.00\n",
       "3  surf      4         351.54\n",
       "4  surf      5         410.24"
      ]
     },
     "metadata": {},
     "output_type": "display_data"
    },
    {
     "name": "stdout",
     "output_type": "stream",
     "text": [
      "\n",
      "GRAFICA DE BARRAS\n",
      "\n"
     ]
    },
    {
     "data": {
      "image/png": "[encoded data removed]",
      "text/plain": [
       "<Figure size 640x480 with 1 Axes>"
      ]
     },
     "metadata": {},
     "output_type": "display_data"
    }
   ],
   "source": [
    "# Compara la duración promedio de llamadas por cada plan y por cada mes. Traza un gráfico de barras para visualizarla.\n",
    "\n",
    "# Agrupamos los datos por plan y mes y calculamos la duración promedio de las llamadas\n",
    "avg_call_duration = user_month_data.groupby(['plan', 'month'])['total_minutes'].mean().reset_index()\n",
    "\n",
    "# Mostramos los primeros registros para verificar la estructura\n",
    "display(avg_call_duration.head())\n",
    "print()\n",
    "\n",
    "# Creamos un gráfico para cada plan\n",
    "plans = avg_call_duration['plan'].unique()\n",
    "for plan in plans:\n",
    "    data = avg_call_duration[avg_call_duration['plan'] == plan]\n",
    "    plt.bar(data['month'], data['total_minutes'], label=plan, alpha=0.5)\n",
    "\n",
    "plt.title('Duración promedio de llamadas por mes')\n",
    "plt.xlabel('Mes')\n",
    "plt.ylabel('Duración promedio de llamadas (minutos)')\n",
    "plt.legend(title='Plan')\n",
    "\n",
    "print('GRAFICA DE BARRAS\\n')\n",
    "plt.show()\n"
   ]
  },
  {
   "cell_type": "markdown",
   "metadata": {
    "id": "3WM9RfrtEIG0"
   },
   "source": [
    "**DURACIÓN PROMEDIO DE LLAMADAS POR MES**\n",
    "\n",
    "- Los usuarios de **Plan Ultimate** hacen llamadas más largas cada mes, aprovechando sus **3000 minutos incluidos**.\n",
    "- Los del **Plan Surf** comienzan con poco uso, pero desde el mes 5 **se acercan o superan los 500 minutos**, lo que puede generar **costos por excedente**.\n",
    "- Esta diferencia sugiere que algunos usuarios del Plan Surf podrían **beneficiarse cambiando al Plan Ultimate**.\n",
    "- En general, hay una **tendencia creciente** en la duración promedio de llamadas a lo largo del año.\n",
    "\n",
    "> Recomendación: monitorear usuarios del Plan Surf con alto consumo para evitar cargos sorpresivos y mejorar su experiencia.\n"
   ]
  },
  {
   "cell_type": "code",
   "execution_count": 27,
   "metadata": {
    "colab": {
     "base_uri": "https://localhost:8080/",
     "height": 600
    },
    "executionInfo": {
     "elapsed": 546,
     "status": "ok",
     "timestamp": 1750970908144,
     "user": {
      "displayName": "Carlos Jiménez",
      "userId": "16016936490932337538"
     },
     "user_tz": 360
    },
    "id": "QoLqW1S_0q1J",
    "outputId": "9311de48-8e0d-47ad-95fc-031b95ae4162"
   },
   "outputs": [
    {
     "name": "stdout",
     "output_type": "stream",
     "text": [
      "HISTOGRAMA\n",
      "\n"
     ]
    },
    {
     "data": {
      "image/png": "[encoded data removed]",
      "text/plain": [
       "<Figure size 1000x600 with 1 Axes>"
      ]
     },
     "metadata": {},
     "output_type": "display_data"
    }
   ],
   "source": [
    "# Compara el número de minutos mensuales que necesitan los usuarios de cada plan. Traza un histograma.\n",
    "\n",
    "# Creamos una figura\n",
    "plt.figure(figsize=(10, 6))\n",
    "\n",
    "# Dibujamos un histograma para cada plan\n",
    "# Extraemos una lista con los planes existentes en la tabla user_month_data\n",
    "plans = user_month_data['plan'].unique()\n",
    "for plan in plans:\n",
    "    data = user_month_data[user_month_data['plan'] == plan]['total_minutes']\n",
    "    plt.hist(data, bins=30, alpha=0.5, label=plan)\n",
    "\n",
    "plt.title('Distribución de minutos mensuales por plan')\n",
    "plt.xlabel('Minutos mensuales')\n",
    "plt.ylabel('Frecuencia')\n",
    "plt.legend(title='Plan')\n",
    "\n",
    "print('HISTOGRAMA\\n')\n",
    "plt.show()\n"
   ]
  },
  {
   "cell_type": "markdown",
   "metadata": {
    "id": "_M6Ah2qMckzw"
   },
   "source": [
    "Este histograma muestra cómo se distribuye el consumo mensual de minutos entre los usuarios de los planes **Surf** y **Ultimate**.\n",
    "\n",
    "**Observaciones clave**\n",
    "\n",
    "- **Plan Surf**:\n",
    "  - La mayoría de usuarios consumen entre **300 y 500 minutos**, muy cerca del límite de **500 minutos incluidos**.\n",
    "  - Muchos usuarios lo superan, generando **costos por excedente** a \\$0.03 por minuto.\n",
    "  - Son candidatos ideales para **migrar al Plan Ultimate**.\n",
    "\n",
    "- **Plan Ultimate**:\n",
    "  - Aunque incluye **3000 minutos**, la mayoría de usuarios usan solo entre **300 y 600 minutos**.\n",
    "  - Esto indica **bajo aprovechamiento** del plan y mayor margen de ganancia para la empresa.\n",
    "\n",
    "**Conclusión**\n",
    "\n",
    "> El Plan Surf genera ingresos adicionales por excedente, pero también puede provocar insatisfacción si los usuarios no están informados.  \n",
    "> El Plan Ultimate está sobrado para muchos usuarios, lo que sugiere oportunidades para ofrecer **planes intermedios** o ajustar estrategias de marketing.\n"
   ]
  },
  {
   "cell_type": "markdown",
   "metadata": {
    "id": "bLS9T8OH0q1K"
   },
   "source": [
    "---\n",
    "\n",
    "En esta sección vamos a calcular las estadísticas descriptivas de la duración mensual de las llamadas de los usuarios.  \n",
    "El objetivo es analizar la media (promedio) y la varianza de estas duraciones para identificar si existen diferencias notables entre los distintos planes de tarifas.  \n",
    "Adicionalmente, generaremos un diagrama de caja (*boxplot*) para visualizar la distribución de la duración mensual de llamadas y detectar posibles valores atípicos o diferencias entre los planes.  \n",
    "\n",
    "Esto nos permitirá comprender mejor el comportamiento de los usuarios en relación con el uso de minutos y evaluar si el plan contratado influye en dicho comportamiento."
   ]
  },
  {
   "cell_type": "code",
   "execution_count": 28,
   "metadata": {
    "colab": {
     "base_uri": "https://localhost:8080/",
     "height": 125
    },
    "executionInfo": {
     "elapsed": 44,
     "status": "ok",
     "timestamp": 1750970908192,
     "user": {
      "displayName": "Carlos Jiménez",
      "userId": "16016936490932337538"
     },
     "user_tz": 360
    },
    "id": "oSndbAnt0q1K",
    "outputId": "229dbe56-34dd-442f-81f0-31d46933f871"
   },
   "outputs": [
    {
     "data": {
      "text/html": [
       "<div>\n",
       "<style scoped>\n",
       "    .dataframe tbody tr th:only-of-type {\n",
       "        vertical-align: middle;\n",
       "    }\n",
       "\n",
       "    .dataframe tbody tr th {\n",
       "        vertical-align: top;\n",
       "    }\n",
       "\n",
       "    .dataframe thead th {\n",
       "        text-align: right;\n",
       "    }\n",
       "</style>\n",
       "<table border=\"1\" class=\"dataframe\">\n",
       "  <thead>\n",
       "    <tr style=\"text-align: right;\">\n",
       "      <th></th>\n",
       "      <th>plan</th>\n",
       "      <th>mean</th>\n",
       "      <th>var</th>\n",
       "    </tr>\n",
       "  </thead>\n",
       "  <tbody>\n",
       "    <tr>\n",
       "      <th>0</th>\n",
       "      <td>surf</td>\n",
       "      <td>436.802461</td>\n",
       "      <td>52481.561083</td>\n",
       "    </tr>\n",
       "    <tr>\n",
       "      <th>1</th>\n",
       "      <td>ultimate</td>\n",
       "      <td>435.286517</td>\n",
       "      <td>56387.085163</td>\n",
       "    </tr>\n",
       "  </tbody>\n",
       "</table>\n",
       "</div>"
      ],
      "text/plain": [
       "       plan        mean           var\n",
       "0      surf  436.802461  52481.561083\n",
       "1  ultimate  435.286517  56387.085163"
      ]
     },
     "metadata": {},
     "output_type": "display_data"
    }
   ],
   "source": [
    "# Calcula la media y la varianza de la duración mensual de llamadas.\n",
    "# Agrupamos los datos por plan y calculamos media y varianza de los minutos totales\n",
    "call_stats = user_month_data.groupby('plan')['total_minutes'].agg(['mean', 'var']).reset_index()\n",
    "\n",
    "# Mostramos las estadísticas resultantes\n",
    "display(call_stats)\n"
   ]
  },
  {
   "cell_type": "code",
   "execution_count": 29,
   "metadata": {
    "colab": {
     "base_uri": "https://localhost:8080/",
     "height": 498
    },
    "executionInfo": {
     "elapsed": 317,
     "status": "ok",
     "timestamp": 1750970908513,
     "user": {
      "displayName": "Carlos Jiménez",
      "userId": "16016936490932337538"
     },
     "user_tz": 360
    },
    "id": "nZzoRUKc0q1K",
    "outputId": "52e3df27-27a2-4e53-8f7f-52ef1e7bb8c5"
   },
   "outputs": [
    {
     "name": "stdout",
     "output_type": "stream",
     "text": [
      "DIAGRAMA DE CAJA\n",
      "\n"
     ]
    },
    {
     "data": {
      "image/png": "[encoded data removed]",
      "text/plain": [
       "<Figure size 640x480 with 1 Axes>"
      ]
     },
     "metadata": {},
     "output_type": "display_data"
    }
   ],
   "source": [
    "# Traza un diagrama de caja para visualizar la distribución de la duración mensual de llamadas\n",
    "\n",
    "# Creamos el boxplot de total_minutes por plan\n",
    "user_month_data.boxplot(column='total_minutes', by='plan', grid=False)\n",
    "\n",
    "# Añadimos título y etiquetas\n",
    "plt.title('Distribución de duración mensual de llamadas por plan')\n",
    "plt.suptitle('')  # Eliminamos el título automático adicional que genera pandas\n",
    "plt.xlabel('Plan')\n",
    "plt.ylabel('Duración mensual de llamadas (minutos)')\n",
    "\n",
    "# Mostramos el gráfico\n",
    "print('DIAGRAMA DE CAJA\\n')\n",
    "plt.show()\n"
   ]
  },
  {
   "cell_type": "markdown",
   "metadata": {
    "id": "vKsxGwy4hbUy"
   },
   "source": [
    "Este diagrama de caja compara la distribución mensual de minutos usados en llamadas por los usuarios de los planes **Surf** y **Ultimate**.\n",
    "\n",
    "**Observaciones clave**\n",
    "\n",
    "- **Mediana similar** (~400 min) en ambos planes: indica que la mayoría de los usuarios usan una cantidad similar de minutos, sin importar el plan.\n",
    "- **Distribución central (IQR)** también parecida: el 50% de los usuarios en ambos planes consume entre ~250 y ~550 minutos al mes.\n",
    "- **Muchos outliers** en ambos planes, especialmente por encima de los **1000 minutos**.\n",
    "  - En **Surf**, esto implica **cobros por excedente**.\n",
    "  - En **Ultimate**, esos mismos consumos están **cubiertos por el plan** (hasta 3000 min).\n",
    "\n",
    "**Conclusión**\n",
    "\n",
    "> Aunque la mayoría de los usuarios tiene consumos similares, los del Plan Surf están expuestos a cargos adicionales por minutos excedidos.  \n",
    "> La empresa puede aprovechar esta información para identificar a usuarios con riesgo de excedente y **ofrecerles un cambio de plan** más adecuado a su perfil de consumo.\n"
   ]
  },
  {
   "cell_type": "markdown",
   "metadata": {
    "id": "8idKy8Wh0q1L"
   },
   "source": [
    "### 4.2.2. Mensajes"
   ]
  },
  {
   "cell_type": "markdown",
   "metadata": {
    "id": "krMVb85rkitM"
   },
   "source": [
    "En esta sección vamos a estudiar cómo varía el número de mensajes enviados por los usuarios de los diferentes planes (*surf* y *ultimate*) a lo largo de los meses. Esto nos permitirá identificar patrones de uso y posibles diferencias en el comportamiento según el plan contratado.\n",
    "\n",
    "Realizaremos:\n",
    "\n",
    "1. **Gráfico de barras** con el promedio de mensajes enviados por plan y mes.\n",
    "2. **Histograma** con la distribución de mensajes mensuales por plan.\n",
    "3. **Diagrama de caja (boxplot)** para visualizar la distribución mensual de los mensajes por plan.\n",
    "\n",
    "Cada gráfico nos brindará una perspectiva complementaria: el gráfico de barras nos mostrará las tendencias generales, el histograma nos permitirá ver la frecuencia de diferentes rangos de mensajes enviados, y el diagrama de caja nos ayudará a identificar la dispersión y los posibles valores atípicos (outliers)."
   ]
  },
  {
   "cell_type": "code",
   "execution_count": 30,
   "metadata": {
    "colab": {
     "base_uri": "https://localhost:8080/",
     "height": 713
    },
    "executionInfo": {
     "elapsed": 512,
     "status": "ok",
     "timestamp": 1750970909031,
     "user": {
      "displayName": "Carlos Jiménez",
      "userId": "16016936490932337538"
     },
     "user_tz": 360
    },
    "id": "NXLxiTit0q1L",
    "outputId": "2d87389f-dd47-4b10-afa4-65adc7ef2434"
   },
   "outputs": [
    {
     "data": {
      "text/html": [
       "<div>\n",
       "<style scoped>\n",
       "    .dataframe tbody tr th:only-of-type {\n",
       "        vertical-align: middle;\n",
       "    }\n",
       "\n",
       "    .dataframe tbody tr th {\n",
       "        vertical-align: top;\n",
       "    }\n",
       "\n",
       "    .dataframe thead th {\n",
       "        text-align: right;\n",
       "    }\n",
       "</style>\n",
       "<table border=\"1\" class=\"dataframe\">\n",
       "  <thead>\n",
       "    <tr style=\"text-align: right;\">\n",
       "      <th></th>\n",
       "      <th>plan</th>\n",
       "      <th>month</th>\n",
       "      <th>messages_count</th>\n",
       "    </tr>\n",
       "  </thead>\n",
       "  <tbody>\n",
       "    <tr>\n",
       "      <th>0</th>\n",
       "      <td>surf</td>\n",
       "      <td>1</td>\n",
       "      <td>21.000000</td>\n",
       "    </tr>\n",
       "    <tr>\n",
       "      <th>1</th>\n",
       "      <td>surf</td>\n",
       "      <td>2</td>\n",
       "      <td>21.600000</td>\n",
       "    </tr>\n",
       "    <tr>\n",
       "      <th>2</th>\n",
       "      <td>surf</td>\n",
       "      <td>3</td>\n",
       "      <td>21.937500</td>\n",
       "    </tr>\n",
       "    <tr>\n",
       "      <th>3</th>\n",
       "      <td>surf</td>\n",
       "      <td>4</td>\n",
       "      <td>24.166667</td>\n",
       "    </tr>\n",
       "    <tr>\n",
       "      <th>4</th>\n",
       "      <td>surf</td>\n",
       "      <td>5</td>\n",
       "      <td>33.017857</td>\n",
       "    </tr>\n",
       "  </tbody>\n",
       "</table>\n",
       "</div>"
      ],
      "text/plain": [
       "   plan  month  messages_count\n",
       "0  surf      1       21.000000\n",
       "1  surf      2       21.600000\n",
       "2  surf      3       21.937500\n",
       "3  surf      4       24.166667\n",
       "4  surf      5       33.017857"
      ]
     },
     "metadata": {},
     "output_type": "display_data"
    },
    {
     "name": "stdout",
     "output_type": "stream",
     "text": [
      "\n",
      "GRAFICA DE BARRAS\n",
      "\n"
     ]
    },
    {
     "data": {
      "image/png": "[encoded data removed]",
      "text/plain": [
       "<Figure size 640x480 with 1 Axes>"
      ]
     },
     "metadata": {},
     "output_type": "display_data"
    }
   ],
   "source": [
    "# Comprara el número de mensajes que tienden a enviar cada mes los usuarios de cada plan\n",
    "\n",
    "# Agrupamos los datos por plan y mes, y calculamos el promedio de mensajes\n",
    "avg_messages = user_month_data.groupby(['plan', 'month'])['messages_count'].mean().reset_index()\n",
    "\n",
    "# Mostramos los primeros registros para validar\n",
    "display(avg_messages.head())\n",
    "\n",
    "# Creamos un gráfico por cada plan\n",
    "plans = avg_messages['plan'].unique()\n",
    "for plan in plans:\n",
    "    data = avg_messages[avg_messages['plan'] == plan]\n",
    "    plt.bar(data['month'], data['messages_count'], label=plan, alpha=0.7)\n",
    "\n",
    "# Añadimos títulos y etiquetas\n",
    "plt.title('Número promedio de mensajes enviados por mes')\n",
    "plt.xlabel('Mes')\n",
    "plt.ylabel('Número promedio de mensajes')\n",
    "plt.legend(title='Plan')\n",
    "\n",
    "print('\\nGRAFICA DE BARRAS\\n')\n",
    "plt.show()"
   ]
  },
  {
   "cell_type": "markdown",
   "metadata": {
    "id": "mWIOr7BIKxmG"
   },
   "source": [
    "Este gráfico de barras compara el promedio mensual de mensajes SMS enviados por usuarios de los planes **Surf** y **Ultimate**, mes a mes.\n",
    "\n",
    "**Observaciones clave**\n",
    "\n",
    "- Ambos planes muestran una **tendencia creciente** en el envío de mensajes a lo largo del año.\n",
    "- **Plan Ultimate**:\n",
    "  - Consistentemente tiene **promedios más altos** que el Plan Surf.\n",
    "  - A partir del mes 6, supera con frecuencia los **40-50 mensajes por mes**, dentro de los **1000 SMS incluidos** → **sin riesgo de excedente**.\n",
    "- **Plan Surf**:\n",
    "  - Promedios menores, pero en ascenso.\n",
    "  - Desde el mes 9 en adelante, el promedio se **acerca o supera los 50 mensajes mensuales**, que es exactamente el límite del plan.\n",
    "  - Esto implica un **potencial incremento de cargos extra** a \\$0.03 por SMS adicional.\n",
    "\n",
    "**Conclusión**\n",
    "\n",
    "> A medida que el año avanza, los usuarios de ambos planes envían más SMS, pero los del Plan Surf están en **riesgo creciente de exceder su límite mensual**.  \n",
    "> Se recomienda implementar alertas o sugerencias de cambio de plan a usuarios Surf con uso sostenido cercano al límite de 50 mensajes.\n"
   ]
  },
  {
   "cell_type": "code",
   "execution_count": 31,
   "metadata": {
    "colab": {
     "base_uri": "https://localhost:8080/",
     "height": 600
    },
    "executionInfo": {
     "elapsed": 494,
     "status": "ok",
     "timestamp": 1750970909531,
     "user": {
      "displayName": "Carlos Jiménez",
      "userId": "16016936490932337538"
     },
     "user_tz": 360
    },
    "id": "GRI_R7xF0q1L",
    "outputId": "ff171afc-3215-459f-d050-3737c7b171f4"
   },
   "outputs": [
    {
     "name": "stdout",
     "output_type": "stream",
     "text": [
      "HISTOGRAMA\n",
      "\n"
     ]
    },
    {
     "data": {
      "image/png": "[encoded data removed]",
      "text/plain": [
       "<Figure size 1000x600 with 1 Axes>"
      ]
     },
     "metadata": {},
     "output_type": "display_data"
    }
   ],
   "source": [
    "# Histograma del número de mensajes enviados por mes diferenciando por plan\n",
    "\n",
    "# Creamos una figura\n",
    "plt.figure(figsize=(10, 6))\n",
    "\n",
    "# Dibujamos un histograma para cada plan\n",
    "plans = user_month_data['plan'].unique()\n",
    "for plan in plans:\n",
    "    data = user_month_data[user_month_data['plan'] == plan]['messages_count']\n",
    "    plt.hist(data, bins=30, alpha=0.5, label=plan)\n",
    "\n",
    "# Añadimos títulos y etiquetas\n",
    "plt.title('Distribución del número de mensajes mensuales por plan')\n",
    "plt.xlabel('Número de mensajes mensuales')\n",
    "plt.ylabel('Frecuencia')\n",
    "plt.legend(title='Plan')\n",
    "\n",
    "print('HISTOGRAMA\\n')\n",
    "plt.show()"
   ]
  },
  {
   "cell_type": "markdown",
   "metadata": {
    "id": "3ds-B4BjL8vq"
   },
   "source": [
    "Este histograma muestra cómo se distribuye el envío mensual de mensajes SMS entre los usuarios de los planes **Surf** y **Ultimate**.\n",
    "\n",
    "**Observaciones clave**\n",
    "\n",
    "- **Plan Surf**:\n",
    "  - Alta concentración de usuarios entre **0 y 50 mensajes mensuales**, lo que coincide con el límite del plan.\n",
    "  - Hay una **cola larga hacia la derecha**, indicando varios usuarios que **exceden el límite** de 50 mensajes y probablemente generan **costos extra**.\n",
    "\n",
    "- **Plan Ultimate**:\n",
    "  - Distribución más **amplia y uniforme**, con muchos usuarios enviando **entre 30 y 100 mensajes**, sin riesgo de excedente (hasta 1000 incluidos).\n",
    "  - Pocos usuarios superan los 150 mensajes, lo que indica que **el plan cubre adecuadamente** las necesidades típicas.\n",
    "\n",
    "**Conclusión**\n",
    "\n",
    "> La mayoría de los usuarios del Plan Surf están dentro o cerca del límite mensual de 50 SMS, pero hay una fracción considerable que lo supera, lo cual representa ingresos adicionales por excedentes.  \n",
    "> Los usuarios del Plan Ultimate tienen mayor libertad de uso sin exceder el límite. Este análisis refuerza la idea de ofrecer **migración al plan superior** para usuarios Surf con consumo consistentemente alto.\n"
   ]
  },
  {
   "cell_type": "code",
   "execution_count": 32,
   "metadata": {
    "colab": {
     "base_uri": "https://localhost:8080/",
     "height": 498
    },
    "executionInfo": {
     "elapsed": 230,
     "status": "ok",
     "timestamp": 1750970909766,
     "user": {
      "displayName": "Carlos Jiménez",
      "userId": "16016936490932337538"
     },
     "user_tz": 360
    },
    "id": "dtFwCGAp0q1M",
    "outputId": "600d240f-0518-4866-c24f-6031d12335a5"
   },
   "outputs": [
    {
     "name": "stdout",
     "output_type": "stream",
     "text": [
      "DIAGRAMA DE CAJA\n",
      "\n"
     ]
    },
    {
     "data": {
      "image/png": "[encoded data removed]",
      "text/plain": [
       "<Figure size 640x480 with 1 Axes>"
      ]
     },
     "metadata": {},
     "output_type": "display_data"
    }
   ],
   "source": [
    "# Diagrama de caja para visualizar la distribución de mensajes mensuales por plan\n",
    "\n",
    "import matplotlib.pyplot as plt\n",
    "\n",
    "# Generamos el boxplot\n",
    "user_month_data.boxplot(column='messages_count', by='plan', grid=False)\n",
    "\n",
    "# Añadimos títulos y etiquetas\n",
    "plt.title('Distribución de mensajes mensuales por plan')\n",
    "plt.suptitle('')  # Eliminamos el título adicional automático de pandas\n",
    "plt.xlabel('Plan')\n",
    "plt.ylabel('Número de mensajes mensuales')\n",
    "\n",
    "# Mostramos el gráfico\n",
    "print('DIAGRAMA DE CAJA\\n')\n",
    "plt.show()\n"
   ]
  },
  {
   "cell_type": "markdown",
   "metadata": {
    "id": "sce1JjanOHpp"
   },
   "source": [
    "Este diagrama de caja compara la distribución mensual de SMS enviados por los usuarios de los planes **Surf** y **Ultimate**.\n",
    "\n",
    "**Observaciones clave**\n",
    "\n",
    "- **Mediana**:\n",
    "  - Similar en ambos planes, entre **30 y 40 mensajes** al mes.\n",
    "  - Esto indica que la mitad de los usuarios de ambos planes envía menos de esa cantidad.\n",
    "\n",
    "- **Dispersión**:\n",
    "  - El rango intercuartílico (IQR) del Plan Ultimate es ligeramente más alto, lo que sugiere **mayor variabilidad** entre sus usuarios.\n",
    "\n",
    "- **Outliers**:\n",
    "  - En ambos planes hay **valores atípicos** por encima de los **100 SMS mensuales**, algunos superando los 250.\n",
    "  - En el **Plan Surf**, esto implica **excedente sobre los 50 SMS incluidos** → usuarios están generando **cargos adicionales** a \\$0.03 por mensaje extra.\n",
    "  - En **Ultimate**, aunque hay más mensajes enviados, **no hay impacto financiero** (límite: 1000 SMS).\n",
    "\n",
    "**Conclusión**\n",
    "\n",
    "> Aunque la mayoría de los usuarios de ambos planes envían pocos mensajes al mes, hay una fracción significativa de usuarios del Plan Surf que superan el límite de 50 SMS y podrían estar incurriendo en costos adicionales.  \n",
    "> Se recomienda identificar a estos usuarios y considerar **migración al Plan Ultimate** o **alertas preventivas** para evitar insatisfacción por cargos extra.\n"
   ]
  },
  {
   "cell_type": "markdown",
   "metadata": {
    "id": "42YSypXz0q1M"
   },
   "source": [
    "### 4.2.3. Internet"
   ]
  },
  {
   "cell_type": "markdown",
   "metadata": {
    "id": "svNuvB22visk"
   },
   "source": [
    "En esta sección realizaremos un análisis descriptivo del tráfico de Internet de los usuarios según su plan (*surf* y *ultimate*). El objetivo es comprender cómo los usuarios tienden a consumir datos y si el comportamiento varía significativamente en función del plan contratado.\n",
    "\n",
    "Generaremos tres tipos de visualizaciones:\n",
    "- Un **gráfico de barras** con el consumo promedio mensual de datos por plan y mes.\n",
    "- Un **histograma** para observar la distribución del consumo mensual por plan.\n",
    "- Un **diagrama de caja** (boxplot) para visualizar la dispersión y los posibles valores atípicos en el uso mensual de datos.\n",
    "\n",
    "Esto nos permitirá identificar patrones de uso, rangos típicos de consumo y detectar comportamientos atípicos o extremos en el uso de Internet por parte de los usuarios de cada plan."
   ]
  },
  {
   "cell_type": "code",
   "execution_count": 33,
   "metadata": {
    "colab": {
     "base_uri": "https://localhost:8080/",
     "height": 696
    },
    "executionInfo": {
     "elapsed": 505,
     "status": "ok",
     "timestamp": 1750970910275,
     "user": {
      "displayName": "Carlos Jiménez",
      "userId": "16016936490932337538"
     },
     "user_tz": 360
    },
    "id": "lSuKPtjh0q1M",
    "outputId": "6b75a23a-3736-4aae-8e4a-ea53f6d1fc08"
   },
   "outputs": [
    {
     "data": {
      "text/html": [
       "<div>\n",
       "<style scoped>\n",
       "    .dataframe tbody tr th:only-of-type {\n",
       "        vertical-align: middle;\n",
       "    }\n",
       "\n",
       "    .dataframe tbody tr th {\n",
       "        vertical-align: top;\n",
       "    }\n",
       "\n",
       "    .dataframe thead th {\n",
       "        text-align: right;\n",
       "    }\n",
       "</style>\n",
       "<table border=\"1\" class=\"dataframe\">\n",
       "  <thead>\n",
       "    <tr style=\"text-align: right;\">\n",
       "      <th></th>\n",
       "      <th>plan</th>\n",
       "      <th>month</th>\n",
       "      <th>gb_used</th>\n",
       "    </tr>\n",
       "  </thead>\n",
       "  <tbody>\n",
       "    <tr>\n",
       "      <th>0</th>\n",
       "      <td>surf</td>\n",
       "      <td>1</td>\n",
       "      <td>5.000000</td>\n",
       "    </tr>\n",
       "    <tr>\n",
       "      <th>1</th>\n",
       "      <td>surf</td>\n",
       "      <td>2</td>\n",
       "      <td>12.222222</td>\n",
       "    </tr>\n",
       "    <tr>\n",
       "      <th>2</th>\n",
       "      <td>surf</td>\n",
       "      <td>3</td>\n",
       "      <td>13.565217</td>\n",
       "    </tr>\n",
       "    <tr>\n",
       "      <th>3</th>\n",
       "      <td>surf</td>\n",
       "      <td>4</td>\n",
       "      <td>12.469388</td>\n",
       "    </tr>\n",
       "    <tr>\n",
       "      <th>4</th>\n",
       "      <td>surf</td>\n",
       "      <td>5</td>\n",
       "      <td>14.302632</td>\n",
       "    </tr>\n",
       "  </tbody>\n",
       "</table>\n",
       "</div>"
      ],
      "text/plain": [
       "   plan  month    gb_used\n",
       "0  surf      1   5.000000\n",
       "1  surf      2  12.222222\n",
       "2  surf      3  13.565217\n",
       "3  surf      4  12.469388\n",
       "4  surf      5  14.302632"
      ]
     },
     "metadata": {},
     "output_type": "display_data"
    },
    {
     "name": "stdout",
     "output_type": "stream",
     "text": [
      "GRAFICA DE BARRAS\n",
      "\n"
     ]
    },
    {
     "data": {
      "image/png": "[encoded data removed]",
      "text/plain": [
       "<Figure size 640x480 with 1 Axes>"
      ]
     },
     "metadata": {},
     "output_type": "display_data"
    }
   ],
   "source": [
    "# Compara el consumo promedio mensual de datos por plan y por mes\n",
    "\n",
    "# Agrupamos los datos por plan y mes y calculamos el promedio de MB usados\n",
    "avg_data_usage = user_month_data.groupby(['plan', 'month'])['gb_used'].mean().reset_index()\n",
    "\n",
    "# Mostramos los primeros registros para verificar\n",
    "display(avg_data_usage.head())\n",
    "\n",
    "# Visualizamos los resultados con un gráfico de barras\n",
    "\n",
    "# Creamos el gráfico para cada plan\n",
    "plans = avg_data_usage['plan'].unique()\n",
    "for plan in plans:\n",
    "    data = avg_data_usage[avg_data_usage['plan'] == plan]\n",
    "    plt.bar(data['month'], data['gb_used'], alpha=0.5, label=plan)\n",
    "\n",
    "# Añadimos títulos y etiquetas\n",
    "plt.title('Consumo promedio de datos por mes')\n",
    "plt.xlabel('Mes')\n",
    "plt.ylabel('GB promedio usados')\n",
    "plt.legend(title='Plan')\n",
    "\n",
    "print('GRAFICA DE BARRAS\\n')\n",
    "plt.show()\n"
   ]
  },
  {
   "cell_type": "markdown",
   "metadata": {
    "id": "SyWIQBJXPmCZ"
   },
   "source": [
    "Este gráfico compara el consumo promedio mensual de datos móviles (en GB) entre los usuarios de los planes **Surf** y **Ultimate** durante el año.\n",
    "\n",
    "**Observaciones clave**\n",
    "\n",
    "- **Tendencia creciente**:\n",
    "  - Ambos planes muestran un aumento gradual en el consumo de datos conforme avanza el año.\n",
    "  - Esto sugiere una mayor dependencia del internet móvil o uso de servicios digitales.\n",
    "\n",
    "- **Plan Ultimate**:\n",
    "  - Presenta un consumo **consistente y ligeramente superior** al de Surf en casi todos los meses.\n",
    "  - Esto es esperable, ya que incluye **30 GB**, lo que permite mayor uso sin restricciones.\n",
    "\n",
    "- **Plan Surf**:\n",
    "  - Se mantiene cercano a los **15-17 GB mensuales** desde el mes 6 en adelante.\n",
    "  - Esto es **cercano al límite de 15 GB (15,360 MB)**, por lo que hay un riesgo real de **excedente**, lo que implica cargos de **\\$10 por GB adicional**.\n",
    "\n",
    "**Conclusión**\n",
    "\n",
    "> El consumo de datos está en aumento generalizado. Los usuarios del Plan Surf se acercan peligrosamente al límite mensual de 15 GB, mientras que los del Plan Ultimate tienen margen de uso sin generar costos extra.  \n",
    "> Se recomienda identificar a los usuarios Surf con uso sostenido por encima de los 15 GB y proponerles **migración al Plan Ultimate** para evitar cargos adicionales y mejorar su experiencia.\n"
   ]
  },
  {
   "cell_type": "code",
   "execution_count": 34,
   "metadata": {
    "colab": {
     "base_uri": "https://localhost:8080/",
     "height": 507
    },
    "executionInfo": {
     "elapsed": 405,
     "status": "ok",
     "timestamp": 1750970910683,
     "user": {
      "displayName": "Carlos Jiménez",
      "userId": "16016936490932337538"
     },
     "user_tz": 360
    },
    "id": "wnh8jYXi0q1N",
    "outputId": "ccdb2980-a97b-47d8-9c16-12cd5824e0e4"
   },
   "outputs": [
    {
     "name": "stdout",
     "output_type": "stream",
     "text": [
      "HISTOGRAMA\n",
      "\n"
     ]
    },
    {
     "data": {
      "image/png": "[encoded data removed]",
      "text/plain": [
       "<Figure size 640x480 with 1 Axes>"
      ]
     },
     "metadata": {},
     "output_type": "display_data"
    }
   ],
   "source": [
    "# Crea un histograma de la distribución del consumo mensual de datos por plan\n",
    "\n",
    "# Creamos el histograma\n",
    "plans = user_month_data['plan'].unique()\n",
    "for plan in plans:\n",
    "    data = user_month_data[user_month_data['plan'] == plan]\n",
    "    plt.hist(data['gb_used'], bins=30, alpha=0.5, label=plan)\n",
    "\n",
    "# Añadimos títulos y etiquetas\n",
    "plt.title('Distribución del consumo mensual de datos por plan')\n",
    "plt.xlabel('GB mensuales usados')\n",
    "plt.ylabel('Frecuencia')\n",
    "plt.legend(title='Plan')\n",
    "\n",
    "print('HISTOGRAMA\\n')\n",
    "plt.show()\n"
   ]
  },
  {
   "cell_type": "markdown",
   "metadata": {
    "id": "rpavWRWOQiaD"
   },
   "source": [
    "Este histograma muestra la distribución del consumo mensual de datos (en MB) por parte de los usuarios de los planes **Surf** y **Ultimate**.\n",
    "\n",
    "**Observaciones clave**\n",
    "\n",
    "- **Plan Surf**:\n",
    "  - La mayoría de los usuarios se concentran entre los **10,000 y 20,000 MB** (≈10–20 GB).\n",
    "  - Recordando que el plan incluye **15,360 MB (15 GB)**, muchos usuarios están cerca o por encima del límite.\n",
    "  - Hay una cantidad significativa de usuarios que **exceden los 20,000 MB**, lo que genera **costos adicionales** a \\$10 por GB extra.\n",
    "\n",
    "- **Plan Ultimate**:\n",
    "  - Distribución más extendida y plana.\n",
    "  - Usuarios consumen desde 5,000 MB hasta más de 40,000 MB (≈40 GB), sin preocuparse por excedentes (plan cubre hasta 30 GB).\n",
    "  - Los casos por encima de 30,720 MB implican **excedente**, pero a una tarifa menor (\\$7/GB).\n",
    "\n",
    "- **Comparación**:\n",
    "  - La distribución del Plan Surf es más **picuda y concentrada**, indicando comportamiento similar entre usuarios.\n",
    "  - La del Plan Ultimate es más **dispersa**, lo que sugiere **diversidad de perfiles de consumo**.\n",
    "\n",
    "**Conclusión**\n",
    "\n",
    "> El Plan Surf agrupa a usuarios con consumo elevado cercano al límite de 15 GB, muchos de los cuales incurren en cargos extra.  \n",
    "> En contraste, el Plan Ultimate alberga una gama más amplia de comportamientos, permitiendo alto consumo sin penalización significativa.  \n",
    "> Esto confirma que varios usuarios del Plan Surf podrían beneficiarse migrando al Plan Ultimate para evitar sobrecostos recurrentes.\n"
   ]
  },
  {
   "cell_type": "code",
   "execution_count": 35,
   "metadata": {
    "colab": {
     "base_uri": "https://localhost:8080/",
     "height": 498
    },
    "executionInfo": {
     "elapsed": 441,
     "status": "ok",
     "timestamp": 1750970911164,
     "user": {
      "displayName": "Carlos Jiménez",
      "userId": "16016936490932337538"
     },
     "user_tz": 360
    },
    "id": "5VlyJ9ry0q1N",
    "outputId": "359355be-cfa3-4c34-aae4-e8c1e9d97001"
   },
   "outputs": [
    {
     "name": "stdout",
     "output_type": "stream",
     "text": [
      "DIAGRAMA DE CAJA\n",
      "\n"
     ]
    },
    {
     "data": {
      "image/png": "[encoded data removed]",
      "text/plain": [
       "<Figure size 640x480 with 1 Axes>"
      ]
     },
     "metadata": {},
     "output_type": "display_data"
    }
   ],
   "source": [
    "# Crea un diagrama de caja para visualizar la distribución del consumo mensual de datos por plan\n",
    "\n",
    "# Creamos el boxplot\n",
    "user_month_data.boxplot(column='gb_used', by='plan', grid=False)\n",
    "\n",
    "# Añadimos títulos y etiquetas\n",
    "plt.title('Distribución del consumo mensual de datos por plan')\n",
    "plt.suptitle('')  # Eliminamos el título adicional automático que genera pandas\n",
    "plt.xlabel('Plan')\n",
    "plt.ylabel('GB mensuales usados')\n",
    "\n",
    "# Mostramos el gráfico\n",
    "print('DIAGRAMA DE CAJA\\n')\n",
    "plt.show()\n"
   ]
  },
  {
   "cell_type": "markdown",
   "metadata": {
    "id": "0-3wDN41R-_0"
   },
   "source": [
    "Este diagrama de caja compara la distribución mensual del uso de datos móviles (en GB) entre los usuarios de los planes **Surf** y **Ultimate**.\n",
    "\n",
    "**Observaciones clave**\n",
    "\n",
    "- **Mediana similar** en ambos planes (~17–18 GB), lo que indica que los patrones de consumo centrales son comparables.\n",
    "\n",
    "- **Distribución (IQR)**:\n",
    "  - El 50% central de los usuarios en ambos planes consume entre **~12 y ~22 GB** al mes.\n",
    "  - Esto es particularmente significativo para el **Plan Surf**, que solo ofrece **15 GB incluidos**, por lo que muchos usuarios están dentro del rango de **riesgo de excedente**.\n",
    "\n",
    "- **Outliers**:\n",
    "  - Numerosos usuarios en ambos planes exceden los **30 GB** mensuales.\n",
    "    - En **Surf**, esto implica **cobros altos** por GB adicional (\\$10/GB).\n",
    "    - En **Ultimate**, los excedentes también existen, pero el impacto económico es menor (\\$7/GB).\n",
    "\n",
    "- **Usuarios extremos**:\n",
    "  - Algunos usuarios del Plan Surf consumen **más de 50–60 GB**, lo cual representa un uso intensivo y un **coste elevado** si no se detecta a tiempo.\n",
    "\n",
    "**Conclusión**\n",
    "\n",
    "> Aunque la mediana de consumo es parecida en ambos planes, los usuarios del Plan Surf tienen mayor riesgo de excedente dado su límite de 15 GB.  \n",
    "> Este análisis refuerza la necesidad de monitorear a los usuarios con consumo alto y ofrecerles migración al Plan Ultimate para reducir costos adicionales y mejorar la experiencia de servicio.\n"
   ]
  },
  {
   "cell_type": "markdown",
   "metadata": {
    "id": "tCijq3260q1N"
   },
   "source": [
    "### 4.2.4. Ingreso"
   ]
  },
  {
   "cell_type": "markdown",
   "metadata": {
    "id": "9nq5IAcy0q1O"
   },
   "source": [
    "En esta sección analizaremos estadísticamente los ingresos mensuales generados por los usuarios, diferenciados según el plan contratado (**Surf** o **Ultimate**).  \n",
    "\n",
    "El objetivo es comprender cómo varían los ingresos entre los planes y detectar patrones relevantes que puedan impactar la estrategia comercial de la empresa.\n",
    "\n",
    "Realizaremos tres tipos de visualizaciones para el análisis:  \n",
    "\n",
    "- **Gráfico de barras:** muestra el ingreso promedio mensual por plan y mes.  \n",
    "- **Histograma:** permite observar la distribución de los ingresos mensuales por plan.  \n",
    "- **Boxplot (diagrama de caja):** facilita identificar la dispersión y los valores atípicos en los ingresos mensuales de cada plan.\n",
    "\n",
    "Este análisis permitirá:  \n",
    "- Detectar diferencias significativas en los ingresos generados por los distintos planes.  \n",
    "- Identificar usuarios o grupos con ingresos atípicos.  \n",
    "- Generar información clave para decisiones estratégicas sobre precios y ajustes de planes."
   ]
  },
  {
   "cell_type": "code",
   "execution_count": 36,
   "metadata": {
    "colab": {
     "base_uri": "https://localhost:8080/",
     "height": 696
    },
    "executionInfo": {
     "elapsed": 540,
     "status": "ok",
     "timestamp": 1750970911710,
     "user": {
      "displayName": "Carlos Jiménez",
      "userId": "16016936490932337538"
     },
     "user_tz": 360
    },
    "id": "tz-dq_V00q1O",
    "outputId": "5742c58c-315a-4cee-dd4b-51bc95f3c8f8"
   },
   "outputs": [
    {
     "data": {
      "text/html": [
       "<div>\n",
       "<style scoped>\n",
       "    .dataframe tbody tr th:only-of-type {\n",
       "        vertical-align: middle;\n",
       "    }\n",
       "\n",
       "    .dataframe tbody tr th {\n",
       "        vertical-align: top;\n",
       "    }\n",
       "\n",
       "    .dataframe thead th {\n",
       "        text-align: right;\n",
       "    }\n",
       "</style>\n",
       "<table border=\"1\" class=\"dataframe\">\n",
       "  <thead>\n",
       "    <tr style=\"text-align: right;\">\n",
       "      <th></th>\n",
       "      <th>plan</th>\n",
       "      <th>month</th>\n",
       "      <th>income</th>\n",
       "    </tr>\n",
       "  </thead>\n",
       "  <tbody>\n",
       "    <tr>\n",
       "      <th>0</th>\n",
       "      <td>surf</td>\n",
       "      <td>1</td>\n",
       "      <td>20.000000</td>\n",
       "    </tr>\n",
       "    <tr>\n",
       "      <th>1</th>\n",
       "      <td>surf</td>\n",
       "      <td>2</td>\n",
       "      <td>23.914000</td>\n",
       "    </tr>\n",
       "    <tr>\n",
       "      <th>2</th>\n",
       "      <td>surf</td>\n",
       "      <td>3</td>\n",
       "      <td>38.540625</td>\n",
       "    </tr>\n",
       "    <tr>\n",
       "      <th>3</th>\n",
       "      <td>surf</td>\n",
       "      <td>4</td>\n",
       "      <td>40.591429</td>\n",
       "    </tr>\n",
       "    <tr>\n",
       "      <th>4</th>\n",
       "      <td>surf</td>\n",
       "      <td>5</td>\n",
       "      <td>50.857170</td>\n",
       "    </tr>\n",
       "  </tbody>\n",
       "</table>\n",
       "</div>"
      ],
      "text/plain": [
       "   plan  month     income\n",
       "0  surf      1  20.000000\n",
       "1  surf      2  23.914000\n",
       "2  surf      3  38.540625\n",
       "3  surf      4  40.591429\n",
       "4  surf      5  50.857170"
      ]
     },
     "metadata": {},
     "output_type": "display_data"
    },
    {
     "name": "stdout",
     "output_type": "stream",
     "text": [
      "GRAFICA DE BARRAS\n",
      "\n"
     ]
    },
    {
     "data": {
      "image/png": "[encoded data removed]",
      "text/plain": [
       "<Figure size 640x480 with 1 Axes>"
      ]
     },
     "metadata": {},
     "output_type": "display_data"
    }
   ],
   "source": [
    "# Agrupamos los datos por plan y mes y calculamos el ingreso promedio\n",
    "avg_income = user_month_data.groupby(['plan', 'month'])['income'].mean().reset_index()\n",
    "\n",
    "# Mostramos los primeros registros para validar que el cálculo es correcto\n",
    "display(avg_income.head())\n",
    "\n",
    "# Visualizamos el ingreso promedio mensual por plan y mes\n",
    "plans = avg_income['plan'].unique()\n",
    "for plan in plans:\n",
    "    data = avg_income[avg_income['plan'] == plan]\n",
    "    plt.bar(data['month'], data['income'], alpha=0.5, label=plan)\n",
    "\n",
    "plt.title('Ingreso promedio mensual por mes')\n",
    "plt.xlabel('Mes')\n",
    "plt.ylabel('Ingreso promedio (usd)')\n",
    "plt.legend(title='Plan')\n",
    "\n",
    "print('GRAFICA DE BARRAS\\n')\n",
    "plt.show()\n"
   ]
  },
  {
   "cell_type": "markdown",
   "metadata": {
    "id": "hBUjw_Y3VBr6"
   },
   "source": [
    "Este gráfico muestra el ingreso mensual promedio generado por usuario para los planes **Surf** y **Ultimate** a lo largo del año.\n",
    "\n",
    "**Observaciones clave**\n",
    "\n",
    "- **Plan Ultimate**:\n",
    "  - Ingreso constante en todos los meses, alrededor de **\\$70**, que coincide con el **precio base fijo del plan**.\n",
    "  - Esto indica que **la mayoría de los usuarios no generan cargos adicionales**, lo cual refleja estabilidad pero poco margen de ingreso extra.\n",
    "\n",
    "- **Plan Surf**:\n",
    "  - Ingresos comienzan bajos (~\\$20, igual al precio base), pero **aumentan progresivamente** desde el mes 3.\n",
    "  - A partir del mes 6, los ingresos promedios por usuario superan los **\\$50 e incluso alcanzan \\$68**, muy cerca del ingreso del Plan Ultimate.\n",
    "  - Este incremento se debe claramente a los **cargos por excedente** (minutos, SMS o datos).\n",
    "\n",
    "- **Tendencia general**:\n",
    "  - A lo largo del año, el ingreso del Plan Surf **crece sostenidamente**, mientras que el del Plan Ultimate **permanece plano**.\n",
    "  - El Plan Surf resulta **más rentable por usuario cuando hay sobreuso**, aunque esto puede generar **insatisfacción si el usuario no es consciente de los cargos extra**.\n",
    "\n",
    "**Conclusión**\n",
    "\n",
    "> Aunque el Plan Ultimate ofrece ingresos estables, el Plan Surf puede superar su rentabilidad en usuarios de alto consumo, gracias a los cargos por excedente.  \n",
    "> Sin embargo, esta rentabilidad **depende del sobreuso** y podría comprometer la satisfacción del cliente.  \n",
    "> La estrategia ideal sería monitorear usuarios Surf con ingresos mensuales cercanos a \\$70 y ofrecerles una migración anticipada al Plan Ultimate, mejorando su experiencia sin sacrificar la rentabilidad.\n"
   ]
  },
  {
   "cell_type": "code",
   "execution_count": 37,
   "metadata": {
    "colab": {
     "base_uri": "https://localhost:8080/",
     "height": 507
    },
    "executionInfo": {
     "elapsed": 628,
     "status": "ok",
     "timestamp": 1750970912343,
     "user": {
      "displayName": "Carlos Jiménez",
      "userId": "16016936490932337538"
     },
     "user_tz": 360
    },
    "id": "0Y1v8ZUz0q1P",
    "outputId": "479f3eb0-388c-44a5-ee28-b92967a69bf6"
   },
   "outputs": [
    {
     "name": "stdout",
     "output_type": "stream",
     "text": [
      "HISTOGRAMA\n",
      "\n"
     ]
    },
    {
     "data": {
      "image/png": "[encoded data removed]",
      "text/plain": [
       "<Figure size 640x480 with 1 Axes>"
      ]
     },
     "metadata": {},
     "output_type": "display_data"
    }
   ],
   "source": [
    "# Visualizamos la distribución de ingresos con un histograma para cada plan\n",
    "for plan in user_month_data['plan'].unique():\n",
    "    data = user_month_data[user_month_data['plan'] == plan]\n",
    "    plt.hist(data['income'], bins=30, alpha=0.5, label=plan)\n",
    "\n",
    "plt.title('Distribución del ingreso mensual por plan')\n",
    "plt.xlabel('Ingreso mensual ($)')\n",
    "plt.ylabel('Frecuencia')\n",
    "plt.legend(title='Plan')\n",
    "\n",
    "print('HISTOGRAMA\\n')\n",
    "plt.show()\n"
   ]
  },
  {
   "cell_type": "markdown",
   "metadata": {
    "id": "ekYVEvzQWaSK"
   },
   "source": [
    "Este histograma muestra cómo se distribuyen los ingresos mensuales generados por usuario, separados por plan **Surf** y **Ultimate**.\n",
    "\n",
    "**Observaciones clave**\n",
    "\n",
    "- **Plan Ultimate**:\n",
    "  - Aparece como una **línea vertical en \\$70**, indicando que **todos los usuarios pagan un monto fijo**.\n",
    "  - hay muy poca variación de ingresos por excedentes: **estabilidad con muy pocos ingresos adicionales**.\n",
    "\n",
    "- **Plan Surf**:\n",
    "  - Tiene una distribución **asimétrica a la derecha (cola larga)**.\n",
    "  - La mayoría de usuarios generan ingresos entre **\\$20 y \\$70**, pero existe una fracción que genera **montos muy elevados**, algunos incluso **superan los \\$400 o \\$500**.\n",
    "  - Esto se debe a los **cargos por minutos, mensajes y datos excedentes**.\n",
    "\n",
    "- **Riesgo e impacto**:\n",
    "  - Aunque la cola larga sugiere **alta rentabilidad potencial**, también implica **riesgo de insatisfacción**, reclamos o cancelaciones si el usuario no está informado o preparado para el sobrecargo.\n",
    "\n",
    "**Conclusión**\n",
    "\n",
    "> El Plan Surf ofrece ingresos más variados y, en algunos casos, mucho más altos que el Plan Ultimate, gracias a los cargos por uso adicional.  \n",
    "> Sin embargo, este modelo depende del comportamiento del usuario y puede no ser sostenible si no se acompaña de **alertas, transparencia y recomendaciones personalizadas**.  \n",
    "> El Plan Ultimate garantiza estabilidad; el Plan Surf ofrece oportunidad, pero con riesgo.\n"
   ]
  },
  {
   "cell_type": "code",
   "execution_count": 38,
   "metadata": {
    "colab": {
     "base_uri": "https://localhost:8080/",
     "height": 498
    },
    "executionInfo": {
     "elapsed": 613,
     "status": "ok",
     "timestamp": 1750970912964,
     "user": {
      "displayName": "Carlos Jiménez",
      "userId": "16016936490932337538"
     },
     "user_tz": 360
    },
    "id": "bYmwxyVh0q1P",
    "outputId": "b76d9457-9335-4446-af0d-489ad6f0416c"
   },
   "outputs": [
    {
     "name": "stdout",
     "output_type": "stream",
     "text": [
      "DIAGRAMA DE CAJA\n",
      "\n"
     ]
    },
    {
     "data": {
      "image/png": "[encoded data removed]",
      "text/plain": [
       "<Figure size 640x480 with 1 Axes>"
      ]
     },
     "metadata": {},
     "output_type": "display_data"
    }
   ],
   "source": [
    "user_month_data.boxplot(column='income', by='plan', grid=False)\n",
    "\n",
    "plt.title('Dispersión del ingreso mensual por plan')\n",
    "plt.suptitle('') # Suprimimos el título adicional generado por pandas\n",
    "plt.xlabel('Plan')\n",
    "plt.ylabel('Ingreso mensual (usd)')\n",
    "\n",
    "print('DIAGRAMA DE CAJA\\n')\n",
    "plt.show()"
   ]
  },
  {
   "cell_type": "markdown",
   "metadata": {
    "id": "KAFidcXZ0q1P"
   },
   "source": [
    "Este diagrama de caja muestra la distribución del ingreso mensual generado por usuario para los planes **Surf** y **Ultimate**.\n",
    "\n",
    "**Observaciones clave**\n",
    "\n",
    "- **Plan Surf**:\n",
    "  - Alta dispersión en los ingresos: el rango intercuartílico va de aproximadamente **\\$25 a \\$65**, con la mediana cercana a **\\$45–\\$50**.\n",
    "  - Numerosos **outliers** alcanzan y superan los **\\$200, \\$300 y hasta \\$600**, debido a **cargos por excedente** (minutos, SMS, datos).\n",
    "  - Esto refleja una estructura de ingresos **variable pero con alto potencial**.\n",
    "\n",
    "- **Plan Ultimate**:\n",
    "  - Distribución extremadamente concentrada: ingresos mensuales casi constantes alrededor de **\\$70**, correspondiente al **precio base** del plan.\n",
    "  - Solo unos pocos **outliers por encima de \\$70**, probablemente por cargos adicionales muy esporádicos.\n",
    "  - Refleja un modelo de ingreso **estable pero sin sorpresas**.\n",
    "\n",
    "**Conclusión**\n",
    "\n",
    "> El Plan Surf genera ingresos altamente variables, con una minoría de usuarios que contribuyen con montos significativamente altos debido al uso excesivo.  \n",
    "> El Plan Ultimate mantiene ingresos constantes, lo cual es ideal para previsión financiera, pero sin posibilidad de generar ingresos adicionales importantes.  \n",
    "> Esto sugiere que el Plan Surf puede ser rentable, pero debe gestionarse con cuidado para evitar descontento por sobrecargos.\n"
   ]
  },
  {
   "cell_type": "markdown",
   "metadata": {
    "id": "ajJ7VKeI0q1Q"
   },
   "source": [
    "# 5. Prueba las hipótesis estadísticas"
   ]
  },
  {
   "cell_type": "markdown",
   "metadata": {
    "id": "AdXAZ-yL0q1Q"
   },
   "source": [
    "En este bloque realizaremos una prueba de hipótesis estadística para determinar si existe una diferencia significativa en los **ingresos promedio mensuales** entre los usuarios de los planes de llamada **Ultimate** y **Surf**.\n",
    "\n",
    "**Objetivo**:\n",
    "\n",
    "Comparar los ingresos mensuales generados por usuarios según el tipo de plan contratado, con el fin de identificar si el plan influye en el ingreso promedio.\n",
    "\n",
    "**Variables involucradas**\n",
    "\n",
    "- `plan`: tipo de plan de cada usuario (`'ultimate'` o `'surf'`).\n",
    "- `income`: ingreso total mensual del usuario.\n",
    "\n",
    "**Formulación de hipótesis**\n",
    "\n",
    "- **Hipótesis nula (H₀):** Los ingresos promedio mensuales de los usuarios de los planes Ultimate y Surf son iguales.\n",
    "\n",
    "  H₀: μ₁ = μ₂\n",
    "\n",
    "- **Hipótesis alternativa (H₁):** Los ingresos promedio mensuales de los usuarios de los planes Ultimate y Surf son diferentes.\n",
    "\n",
    "  H₁: μ₁ ≠ μ₂\n",
    "\n",
    "**Prueba estadística**\n",
    "\n",
    "Utilizaremos una **prueba t de Student para muestras independientes** con el supuesto de **varianzas desiguales** (Welch’s t-test), adecuada para comparar dos medias de grupos independientes con posible dispersión distinta.\n",
    "\n",
    "**Nivel de significancia**\n",
    "\n",
    "- Se establece un valor alfa (**α**) de **0.05**.\n",
    "- Si el valor p obtenido es menor que 0.05, rechazamos la hipótesis nula.\n",
    "\n",
    "Esta prueba nos permitirá concluir si hay diferencias estadísticamente significativas entre los ingresos promedio de los dos tipos de planes.\n"
   ]
  },
  {
   "cell_type": "code",
   "execution_count": 39,
   "metadata": {
    "colab": {
     "base_uri": "https://localhost:8080/"
    },
    "executionInfo": {
     "elapsed": 1366,
     "status": "ok",
     "timestamp": 1750970914324,
     "user": {
      "displayName": "Carlos Jiménez",
      "userId": "16016936490932337538"
     },
     "user_tz": 360
    },
    "id": "nFoPNlPq0q1R",
    "outputId": "70fba2c3-ba52-449a-aee3-395f3a9b53e6"
   },
   "outputs": [
    {
     "name": "stdout",
     "output_type": "stream",
     "text": [
      "Valor p: 5.697848749357264e-13\n",
      "Se rechaza la hipótesis nula: hay una diferencia significativa entre los ingresos promedio.\n"
     ]
    }
   ],
   "source": [
    "# Prueba las hipótesis\n",
    "from scipy import stats as st\n",
    "\n",
    "# Filtrar los ingresos mensuales por tipo de plan\n",
    "income_surf = user_month_data[user_month_data['plan'] == 'surf']['income']\n",
    "income_ultimate = user_month_data[user_month_data['plan'] == 'ultimate']['income']\n",
    "\n",
    "# Eliminar valores nulos\n",
    "income_surf = income_surf.dropna()\n",
    "income_ultimate = income_ultimate.dropna()\n",
    "\n",
    "# Realizar prueba t de Student para muestras independientes (varianzas desiguales)\n",
    "alpha = 0.05\n",
    "result = st.ttest_ind(income_surf, income_ultimate, equal_var=False)\n",
    "\n",
    "# Resultados\n",
    "print(f'Valor p: {result.pvalue}')\n",
    "\n",
    "# Evaluación de hipótesis\n",
    "if result.pvalue < alpha:\n",
    "    print(\"Se rechaza la hipótesis nula: hay una diferencia significativa entre los ingresos promedio.\")\n",
    "else:\n",
    "    print(\"No se puede rechazar la hipótesis nula: no hay evidencia suficiente de una diferencia significativa.\")\n",
    "\n"
   ]
  },
  {
   "cell_type": "markdown",
   "metadata": {
    "id": "UzCBGdTy6dva"
   },
   "source": [
    "**Conclusión**\n",
    "\n",
    "El valor p obtenido fue **5.697848749357263e-13**, lo que equivale a aproximadamente **0.0000000000005697**, muy por debajo del nivel de significancia convencional de **α = 0.05**.\n",
    "\n",
    "Por tanto, **se rechaza la hipótesis nula**, lo que indica que **existe una diferencia estadísticamente significativa entre los ingresos promedio** de los usuarios de los planes de llamada *Ultimate* y *Surf*.\n",
    "\n",
    "Esto sugiere que el plan contratado tiene un efecto significativo sobre el ingreso mensual generado por usuario.\n"
   ]
  },
  {
   "cell_type": "markdown",
   "metadata": {
    "id": "tCcAruM60q1R"
   },
   "source": [
    "---\n",
    "\n",
    "**Prueba de hipótesis: diferencia por región**\n",
    "\n",
    "Queremos comprobar si existe una diferencia significativa en el ingreso promedio mensual entre los usuarios del área **NY-NJ** y los usuarios de **otras regiones**.\n",
    "\n",
    "Para ello, planteamos las siguientes hipótesis:\n",
    "\n",
    "- **Hipótesis nula (H₀):** El ingreso promedio mensual de los usuarios del área NY-NJ es igual al de los usuarios de otras regiones.\n",
    "\n",
    "- **Hipótesis alternativa (H₁):** El ingreso promedio mensual de los usuarios del área NY-NJ es diferente al de los usuarios de otras regiones.\n",
    "\n",
    "Usaremos una **prueba t de dos muestras independientes** (`scipy.stats.ttest_ind`), asumiendo varianzas desiguales (`equal_var=False`) y un valor de significancia **α = 0.05**.\n",
    "\n",
    "Nuestro objetivo es determinar si la ubicación geográfica tiene un impacto significativo en el ingreso mensual promedio.\n"
   ]
  },
  {
   "cell_type": "code",
   "execution_count": 40,
   "metadata": {
    "colab": {
     "base_uri": "https://localhost:8080/"
    },
    "executionInfo": {
     "elapsed": 55,
     "status": "ok",
     "timestamp": 1750970914381,
     "user": {
      "displayName": "Carlos Jiménez",
      "userId": "16016936490932337538"
     },
     "user_tz": 360
    },
    "id": "Cqcj7wrZ0q1S",
    "outputId": "f424d17d-eace-41f0-dac6-779c746dabe2"
   },
   "outputs": [
    {
     "name": "stdout",
     "output_type": "stream",
     "text": [
      "Valor p: 0.004360752396178\n",
      "Se rechaza la hipótesis nula: hay una diferencia significativa entre los ingresos promedio.\n"
     ]
    }
   ],
   "source": [
    "# Prueba las hipótesis\n",
    "\n",
    "# Filtrar los datos por ciudad\n",
    "ny_nj_income = user_month_data[user_month_data['city'] == 'New York-Newark-Jersey City, NY-NJ-PA MSA']['income']\n",
    "other_income = user_month_data[user_month_data['city'] != 'New York-Newark-Jersey City, NY-NJ-PA MSA']['income']\n",
    "\n",
    "# Eliminar valores faltantes si los hubiera\n",
    "ny_nj_income = ny_nj_income.dropna()\n",
    "other_income = other_income.dropna()\n",
    "\n",
    "# Prueba de hipótesis: comparación de medias con varianzas desiguales (Welch's t-test)\n",
    "alpha = 0.05\n",
    "result = st.ttest_ind(ny_nj_income, other_income, equal_var=False)\n",
    "\n",
    "# Imprimir resultado\n",
    "print(f\"Valor p: {result.pvalue:.15f}\")\n",
    "if result.pvalue < alpha:\n",
    "    print(\"Se rechaza la hipótesis nula: hay una diferencia significativa entre los ingresos promedio.\")\n",
    "else:\n",
    "    print(\"No se puede rechazar la hipótesis nula: no hay evidencia suficiente de una diferencia.\")\n",
    "\n"
   ]
  },
  {
   "cell_type": "markdown",
   "metadata": {
    "id": "KY8VBg-0_rC8"
   },
   "source": [
    "**Conclusión**\n",
    "\n",
    "La prueba de hipótesis aplicada para comparar los ingresos promedio de los usuarios del área **New York-Newark-Jersey City, NY-NJ-PA MSA** frente a los usuarios de otras regiones arrojó un **valor p de 0.00436**.\n",
    "\n",
    "Dado que este valor es **menor que el nivel de significancia α = 0.05**, se **rechaza la hipótesis nula**.\n",
    "\n",
    "**Conclusión final:** Hay una **diferencia estadísticamente significativa** entre los ingresos promedio de los usuarios del área NY-NJ y los de otras regiones.\n"
   ]
  },
  {
   "cell_type": "markdown",
   "metadata": {
    "id": "78DirXQrbVml"
   },
   "source": [
    "# 6. Conclusión general"
   ]
  },
  {
   "cell_type": "markdown",
   "metadata": {
    "id": "bbTR8UQO0q1T"
   },
   "source": [
    "Este proyecto tuvo como objetivo analizar el comportamiento mensual de los usuarios móviles y evaluar la rentabilidad de los planes tarifarios **Surf** y **Ultimate**, con base en su uso de llamadas, mensajes y datos móviles. A lo largo del análisis, se tomaron decisiones metodológicas importantes que permitieron dar forma al procesamiento, limpieza y análisis estadístico de los datos.\n",
    "\n",
    "### Supuestos y decisiones metodológicas clave:\n",
    "\n",
    "1. **Conversión y normalización de datos**:\n",
    "   - Se decidió convertir los megabytes a gigabytes (`gb_used`) y redondear hacia arriba usando `np.ceil()` para reflejar el modelo de cobro real.\n",
    "   - Se creó una columna `gb_per_month_included` en el DataFrame `plans` para tener los datos comparables en la misma unidad (GB).\n",
    "\n",
    "2. **Tratamiento del exceso de uso**:\n",
    "   - Se aplicó `.clip(lower=0)` para asegurarse de que solo se contabilizara el **uso excedente**, evitando valores negativos que no representan cargos reales.\n",
    "\n",
    "3. **Visualización como herramienta de exploración**:\n",
    "   - Se usaron histogramas, diagramas de caja y gráficos de líneas para detectar tendencias, distribuciones y posibles outliers.\n",
    "   - Estas visualizaciones guiaron las decisiones sobre qué pruebas estadísticas aplicar y qué segmentos requerían atención (por ejemplo, usuarios de Surf con consumo elevado).\n",
    "\n",
    "4. **Comparación de planes**:\n",
    "   - Se trató a los planes como **grupos independientes**, lo que justificó el uso de una **prueba t de Student para muestras independientes (Welch's test)** al comparar ingresos promedio.\n",
    "\n",
    "5. **Regionalización del análisis**:\n",
    "   - Para la segunda hipótesis, se agruparon usuarios según su pertenencia a la región **New York-Newark-Jersey City** frente al resto del país, lo que permitió analizar la influencia de la ubicación geográfica sobre el ingreso.\n",
    "\n",
    "---\n",
    "\n",
    "### Conclusiones clave:\n",
    "\n",
    "1. **Diferencias significativas por plan**:\n",
    "   - Los usuarios del Plan Surf, aunque tienen un precio base bajo, suelen exceder sus límites de servicio (minutos, SMS, datos), generando así **ingresos variables y potencialmente más altos** que los usuarios del Plan Ultimate.\n",
    "\n",
    "2. **Plan Ultimate como modelo estable**:\n",
    "   - El ingreso mensual por usuario se mantiene constante en $70, sin excedentes significativos. Es un modelo **estable y predecible**, pero sin espacio para ingresos adicionales.\n",
    "\n",
    "3. **Tendencias crecientes de uso**:\n",
    "   - A lo largo del año, el uso promedio mensual de todos los servicios (minutos, SMS, GB) crece, lo que puede indicar una **mayor dependencia digital** o una adaptación progresiva del usuario al servicio.\n",
    "\n",
    "4. **Diferencias regionales en ingresos**:\n",
    "   - Los usuarios del área NY-NJ generan **ingresos promedio significativamente diferentes** frente al resto del país, lo cual sugiere que **la ubicación geográfica influye en el comportamiento de consumo**.\n",
    "\n",
    "---\n",
    "\n",
    "### Recomendaciones:\n",
    "\n",
    "- Implementar **migración automática sugerida** para usuarios del Plan Surf con consumo recurrente por encima de los límites incluidos.\n",
    "- Diseñar un **plan intermedio** para usuarios que no se ajustan bien ni a Surf ni a Ultimate.\n",
    "- Utilizar los hallazgos regionales para **personalizar estrategias comerciales y de precios**, en función de las características de consumo por zona geográfica.\n",
    "\n",
    "**Cierre:**  \n",
    "El proyecto demuestra que el análisis sistemático de datos de uso y facturación permite obtener **insights accionables** para mejorar tanto la experiencia del cliente como la eficiencia financiera de la empresa.\n"
   ]
  }
 ],
 "metadata": {
  "ExecuteTimeLog": [
   {
    "duration": 828,
    "start_time": "2021-11-16T09:21:11.304Z"
   },
   {
    "duration": 893,
    "start_time": "2021-11-16T09:21:17.728Z"
   },
   {
    "duration": 1150,
    "start_time": "2021-11-16T09:21:29.568Z"
   },
   {
    "duration": 3,
    "start_time": "2021-11-16T09:24:14.495Z"
   },
   {
    "duration": 120,
    "start_time": "2021-11-16T09:24:46.630Z"
   },
   {
    "duration": 3,
    "start_time": "2021-11-16T09:28:27.882Z"
   },
   {
    "duration": 4,
    "start_time": "2021-11-16T09:29:54.281Z"
   },
   {
    "duration": 3,
    "start_time": "2021-11-16T09:30:45.936Z"
   },
   {
    "duration": 4,
    "start_time": "2021-11-16T09:31:06.300Z"
   },
   {
    "duration": 113,
    "start_time": "2021-11-16T09:31:37.208Z"
   },
   {
    "duration": 143,
    "start_time": "2021-11-16T09:31:48.656Z"
   },
   {
    "duration": 98,
    "start_time": "2021-11-16T09:31:55.678Z"
   },
   {
    "duration": 3,
    "start_time": "2021-11-16T09:32:08.535Z"
   },
   {
    "duration": 111,
    "start_time": "2021-11-16T09:32:10.120Z"
   },
   {
    "duration": 3,
    "start_time": "2021-11-16T09:32:15.732Z"
   },
   {
    "duration": 4,
    "start_time": "2021-11-16T09:32:29.423Z"
   },
   {
    "duration": 3,
    "start_time": "2021-11-16T10:03:03.074Z"
   },
   {
    "duration": 3,
    "start_time": "2021-11-16T10:10:01.288Z"
   },
   {
    "duration": 3,
    "start_time": "2021-11-16T10:10:46.923Z"
   },
   {
    "duration": 121,
    "start_time": "2021-11-16T10:37:46.494Z"
   },
   {
    "duration": 125,
    "start_time": "2021-11-16T10:38:20.632Z"
   },
   {
    "duration": 112,
    "start_time": "2021-11-16T10:46:53.001Z"
   },
   {
    "duration": 110,
    "start_time": "2021-11-16T10:48:25.775Z"
   },
   {
    "duration": 3,
    "start_time": "2021-11-16T10:50:18.720Z"
   },
   {
    "duration": 4,
    "start_time": "2021-11-16T10:50:37.649Z"
   },
   {
    "duration": 2,
    "start_time": "2021-11-16T10:50:51.884Z"
   },
   {
    "duration": 3,
    "start_time": "2021-11-16T10:51:56.237Z"
   },
   {
    "duration": 101,
    "start_time": "2021-11-16T10:53:13.791Z"
   },
   {
    "duration": 3,
    "start_time": "2021-11-16T10:55:59.186Z"
   },
   {
    "duration": 3,
    "start_time": "2021-11-16T10:56:10.751Z"
   },
   {
    "duration": 3,
    "start_time": "2021-11-16T10:56:49.038Z"
   },
   {
    "duration": 3,
    "start_time": "2021-11-16T10:56:49.174Z"
   },
   {
    "duration": 4,
    "start_time": "2021-11-16T10:56:49.414Z"
   },
   {
    "duration": 3,
    "start_time": "2021-11-16T10:56:49.680Z"
   },
   {
    "duration": 3,
    "start_time": "2021-11-16T10:56:50.370Z"
   },
   {
    "duration": 114,
    "start_time": "2021-11-16T10:59:34.518Z"
   },
   {
    "duration": 3,
    "start_time": "2021-11-16T11:01:41.201Z"
   },
   {
    "duration": 116,
    "start_time": "2021-11-16T11:01:48.754Z"
   },
   {
    "duration": 3,
    "start_time": "2021-11-16T11:02:16.685Z"
   },
   {
    "duration": 3,
    "start_time": "2021-11-16T11:02:19.479Z"
   },
   {
    "duration": 3,
    "start_time": "2021-11-16T11:02:47.067Z"
   },
   {
    "duration": 3,
    "start_time": "2021-11-16T11:02:49.353Z"
   },
   {
    "duration": 3,
    "start_time": "2021-11-16T11:03:07.835Z"
   },
   {
    "duration": 3,
    "start_time": "2021-11-16T11:03:07.953Z"
   },
   {
    "duration": 112,
    "start_time": "2021-11-16T11:07:52.072Z"
   },
   {
    "duration": 187,
    "start_time": "2021-11-16T11:09:23.468Z"
   },
   {
    "duration": 4,
    "start_time": "2021-11-16T11:10:01.455Z"
   },
   {
    "duration": 3,
    "start_time": "2021-11-16T11:10:05.069Z"
   },
   {
    "duration": 4,
    "start_time": "2021-11-16T11:10:13.376Z"
   },
   {
    "duration": 3,
    "start_time": "2021-11-16T11:10:14.434Z"
   },
   {
    "duration": 3,
    "start_time": "2021-11-16T11:10:22.853Z"
   },
   {
    "duration": 4,
    "start_time": "2021-11-16T11:27:29.279Z"
   },
   {
    "duration": 4,
    "start_time": "2021-11-16T11:29:08.919Z"
   },
   {
    "duration": 118,
    "start_time": "2021-11-16T11:29:46.703Z"
   },
   {
    "duration": 437,
    "start_time": "2021-11-16T11:36:02.181Z"
   },
   {
    "duration": 157,
    "start_time": "2021-11-16T11:36:14.388Z"
   },
   {
    "duration": 207,
    "start_time": "2021-11-16T11:47:15.898Z"
   },
   {
    "duration": 3,
    "start_time": "2021-11-16T11:53:52.092Z"
   },
   {
    "duration": 3,
    "start_time": "2021-11-16T11:53:52.236Z"
   },
   {
    "duration": 3,
    "start_time": "2021-11-16T11:59:12.005Z"
   },
   {
    "duration": 112,
    "start_time": "2021-11-16T12:00:33.446Z"
   },
   {
    "duration": 3,
    "start_time": "2021-11-16T12:02:14.453Z"
   },
   {
    "duration": 3,
    "start_time": "2021-11-16T12:02:39.512Z"
   },
   {
    "duration": 106,
    "start_time": "2021-11-16T12:03:03.460Z"
   },
   {
    "duration": 3,
    "start_time": "2021-11-17T20:37:21.139Z"
   },
   {
    "duration": 3,
    "start_time": "2021-11-17T20:37:22.229Z"
   },
   {
    "duration": 3,
    "start_time": "2021-11-17T20:38:38.806Z"
   },
   {
    "duration": 3,
    "start_time": "2021-11-17T20:38:41.958Z"
   },
   {
    "duration": 3,
    "start_time": "2021-11-17T20:43:46.551Z"
   },
   {
    "duration": 4,
    "start_time": "2021-11-17T20:58:21.835Z"
   },
   {
    "duration": 3,
    "start_time": "2021-11-17T20:59:21.872Z"
   },
   {
    "duration": 4,
    "start_time": "2021-11-17T20:59:45.352Z"
   },
   {
    "duration": 4,
    "start_time": "2021-11-17T20:59:49.646Z"
   },
   {
    "duration": 159,
    "start_time": "2021-11-17T21:02:26.949Z"
   },
   {
    "duration": 3,
    "start_time": "2021-11-17T21:03:53.461Z"
   },
   {
    "duration": 3,
    "start_time": "2021-11-17T21:03:53.694Z"
   },
   {
    "duration": 3,
    "start_time": "2021-11-17T21:05:28.145Z"
   },
   {
    "duration": 116,
    "start_time": "2021-11-17T21:05:57.787Z"
   },
   {
    "duration": 3,
    "start_time": "2021-11-17T21:06:37.993Z"
   },
   {
    "duration": 3,
    "start_time": "2021-11-17T21:06:38.261Z"
   },
   {
    "duration": 3,
    "start_time": "2021-11-17T21:11:54.358Z"
   },
   {
    "duration": 3,
    "start_time": "2021-11-17T21:12:43.846Z"
   },
   {
    "duration": 4,
    "start_time": "2021-11-17T21:13:08.773Z"
   },
   {
    "duration": 3,
    "start_time": "2021-11-17T21:14:44.441Z"
   },
   {
    "duration": 3,
    "start_time": "2021-11-17T21:15:42.059Z"
   },
   {
    "duration": 4,
    "start_time": "2021-11-17T21:15:51.995Z"
   },
   {
    "duration": 3,
    "start_time": "2021-11-17T21:15:53.923Z"
   },
   {
    "duration": 3,
    "start_time": "2021-11-17T21:15:55.282Z"
   },
   {
    "duration": 3,
    "start_time": "2021-11-17T21:16:28.492Z"
   },
   {
    "duration": 3,
    "start_time": "2021-11-17T21:16:32.603Z"
   },
   {
    "duration": 3,
    "start_time": "2021-11-17T21:17:06.941Z"
   },
   {
    "duration": 98,
    "start_time": "2021-11-17T21:18:05.733Z"
   },
   {
    "duration": 4,
    "start_time": "2021-11-17T21:21:35.255Z"
   },
   {
    "duration": 3,
    "start_time": "2021-11-17T21:21:37.804Z"
   },
   {
    "duration": 4,
    "start_time": "2021-11-17T21:23:06.071Z"
   },
   {
    "duration": 3,
    "start_time": "2021-11-17T21:23:24.799Z"
   },
   {
    "duration": 3,
    "start_time": "2021-11-17T21:23:32.591Z"
   },
   {
    "duration": 98,
    "start_time": "2021-11-17T21:28:31.559Z"
   },
   {
    "duration": 3,
    "start_time": "2021-11-17T21:28:45.448Z"
   },
   {
    "duration": 3,
    "start_time": "2021-11-17T21:29:17.303Z"
   },
   {
    "duration": 3,
    "start_time": "2021-11-17T21:29:29.617Z"
   },
   {
    "duration": 3,
    "start_time": "2021-11-17T21:29:32.681Z"
   },
   {
    "duration": 3,
    "start_time": "2021-11-17T21:36:11.474Z"
   },
   {
    "duration": 3,
    "start_time": "2021-11-17T21:36:14.791Z"
   },
   {
    "duration": 3,
    "start_time": "2021-11-17T21:36:53.943Z"
   },
   {
    "duration": 3,
    "start_time": "2021-11-17T21:36:56.165Z"
   },
   {
    "duration": 4,
    "start_time": "2021-11-17T21:37:16.590Z"
   },
   {
    "duration": 3,
    "start_time": "2021-11-17T21:37:22.702Z"
   },
   {
    "duration": 4,
    "start_time": "2021-11-17T21:38:03.479Z"
   },
   {
    "duration": 3,
    "start_time": "2021-11-17T21:38:08.601Z"
   },
   {
    "duration": 3,
    "start_time": "2021-11-17T21:38:12.928Z"
   },
   {
    "duration": 3,
    "start_time": "2021-11-17T21:38:48.896Z"
   },
   {
    "duration": 2,
    "start_time": "2021-11-17T21:38:49.171Z"
   },
   {
    "duration": 4,
    "start_time": "2021-11-17T21:39:57.889Z"
   },
   {
    "duration": 3,
    "start_time": "2021-11-17T21:39:58.057Z"
   },
   {
    "duration": 3,
    "start_time": "2021-11-17T21:41:20.108Z"
   },
   {
    "duration": 3,
    "start_time": "2021-11-17T21:41:20.629Z"
   },
   {
    "duration": 3,
    "start_time": "2021-11-17T21:42:49.136Z"
   },
   {
    "duration": 3,
    "start_time": "2021-11-17T21:43:15.137Z"
   },
   {
    "duration": 4,
    "start_time": "2021-11-17T21:43:16.766Z"
   },
   {
    "duration": 4,
    "start_time": "2021-11-17T21:43:31.711Z"
   },
   {
    "duration": 3,
    "start_time": "2021-11-17T21:43:36.312Z"
   },
   {
    "duration": 4,
    "start_time": "2021-11-17T21:45:08.825Z"
   },
   {
    "duration": 4,
    "start_time": "2021-11-17T21:45:10.119Z"
   },
   {
    "duration": 4,
    "start_time": "2021-11-17T21:45:13.748Z"
   },
   {
    "duration": 3,
    "start_time": "2021-11-17T21:45:22.219Z"
   },
   {
    "duration": 3,
    "start_time": "2021-11-17T21:45:33.412Z"
   },
   {
    "duration": 2,
    "start_time": "2021-11-17T21:46:01.885Z"
   },
   {
    "duration": 3,
    "start_time": "2021-11-17T21:46:03.628Z"
   },
   {
    "duration": 107,
    "start_time": "2021-11-17T21:47:32.512Z"
   },
   {
    "duration": 103,
    "start_time": "2021-11-17T21:50:36.243Z"
   },
   {
    "duration": 3,
    "start_time": "2021-11-18T06:28:31.440Z"
   },
   {
    "duration": 3,
    "start_time": "2021-11-18T06:29:00.168Z"
   },
   {
    "duration": 3,
    "start_time": "2021-11-18T06:31:27.008Z"
   },
   {
    "duration": 2,
    "start_time": "2021-11-18T06:35:34.288Z"
   },
   {
    "duration": 2,
    "start_time": "2021-11-18T06:38:04.527Z"
   }
  ],
  "colab": {
   "collapsed_sections": [
    "btM5MQwjcDqm",
    "MQi4IPy70q0y",
    "4ysWWC5i0q00",
    "1n2X6WXf0q04",
    "o7MeKCid0q08",
    "mOUZSi180q0_",
    "bStkaxn40q1C",
    "3UA2cqIW0q1E",
    "3N2XpbnJb3yE",
    "-jtyHzJb0q1I",
    "ajJ7VKeI0q1Q",
    "78DirXQrbVml"
   ],
   "provenance": [],
   "toc_visible": true
  },
  "kernelspec": {
   "display_name": "proyecto-sprint-5-6XaHFsD4",
   "language": "python",
   "name": "python3"
  },
  "language_info": {
   "codemirror_mode": {
    "name": "ipython",
    "version": 3
   },
   "file_extension": ".py",
   "mimetype": "text/x-python",
   "name": "python",
   "nbconvert_exporter": "python",
   "pygments_lexer": "ipython3",
   "version": "3.12.5"
  },
  "toc": {
   "base_numbering": 1,
   "nav_menu": {},
   "number_sections": true,
   "sideBar": true,
   "skip_h1_title": false,
   "title_cell": "Table of Contents",
   "title_sidebar": "Contents",
   "toc_cell": false,
   "toc_position": {},
   "toc_section_display": true,
   "toc_window_display": true
  }
 },
 "nbformat": 4,
 "nbformat_minor": 0
}
